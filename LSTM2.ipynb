{
 "cells": [
  {
   "cell_type": "code",
   "execution_count": 62,
   "metadata": {},
   "outputs": [],
   "source": [
    "import glob\n",
    "import pandas as pd\n",
    "import numpy as np"
   ]
  },
  {
   "cell_type": "code",
   "execution_count": 67,
   "metadata": {},
   "outputs": [
    {
     "data": {
      "text/html": [
       "<div>\n",
       "<style scoped>\n",
       "    .dataframe tbody tr th:only-of-type {\n",
       "        vertical-align: middle;\n",
       "    }\n",
       "\n",
       "    .dataframe tbody tr th {\n",
       "        vertical-align: top;\n",
       "    }\n",
       "\n",
       "    .dataframe thead th {\n",
       "        text-align: right;\n",
       "    }\n",
       "</style>\n",
       "<table border=\"1\" class=\"dataframe\">\n",
       "  <thead>\n",
       "    <tr style=\"text-align: right;\">\n",
       "      <th></th>\n",
       "      <th>SETTLEMENTDATE</th>\n",
       "      <th>F_all_power</th>\n",
       "      <th>Delta_power</th>\n",
       "    </tr>\n",
       "  </thead>\n",
       "  <tbody>\n",
       "    <tr>\n",
       "      <th>1</th>\n",
       "      <td>1/1/2021 2:00</td>\n",
       "      <td>33391</td>\n",
       "      <td>0</td>\n",
       "    </tr>\n",
       "    <tr>\n",
       "      <th>2</th>\n",
       "      <td>1/1/2021 3:00</td>\n",
       "      <td>33391</td>\n",
       "      <td>0</td>\n",
       "    </tr>\n",
       "    <tr>\n",
       "      <th>3</th>\n",
       "      <td>1/1/2021 4:00</td>\n",
       "      <td>33391</td>\n",
       "      <td>0</td>\n",
       "    </tr>\n",
       "    <tr>\n",
       "      <th>4</th>\n",
       "      <td>1/1/2021 5:00</td>\n",
       "      <td>33391</td>\n",
       "      <td>0</td>\n",
       "    </tr>\n",
       "    <tr>\n",
       "      <th>5</th>\n",
       "      <td>1/1/2021 6:00</td>\n",
       "      <td>33391</td>\n",
       "      <td>0</td>\n",
       "    </tr>\n",
       "    <tr>\n",
       "      <th>6</th>\n",
       "      <td>1/1/2021 7:00</td>\n",
       "      <td>33391</td>\n",
       "      <td>0</td>\n",
       "    </tr>\n",
       "    <tr>\n",
       "      <th>7</th>\n",
       "      <td>1/1/2021 8:00</td>\n",
       "      <td>33391</td>\n",
       "      <td>0</td>\n",
       "    </tr>\n",
       "    <tr>\n",
       "      <th>8</th>\n",
       "      <td>1/1/2021 9:00</td>\n",
       "      <td>33395</td>\n",
       "      <td>4</td>\n",
       "    </tr>\n",
       "    <tr>\n",
       "      <th>9</th>\n",
       "      <td>1/1/2021 10:00</td>\n",
       "      <td>33407</td>\n",
       "      <td>12</td>\n",
       "    </tr>\n",
       "    <tr>\n",
       "      <th>10</th>\n",
       "      <td>1/1/2021 11:00</td>\n",
       "      <td>33459</td>\n",
       "      <td>52</td>\n",
       "    </tr>\n",
       "    <tr>\n",
       "      <th>11</th>\n",
       "      <td>1/1/2021 12:00</td>\n",
       "      <td>33508</td>\n",
       "      <td>49</td>\n",
       "    </tr>\n",
       "    <tr>\n",
       "      <th>12</th>\n",
       "      <td>1/1/2021 13:00</td>\n",
       "      <td>33560</td>\n",
       "      <td>52</td>\n",
       "    </tr>\n",
       "    <tr>\n",
       "      <th>13</th>\n",
       "      <td>1/1/2021 14:00</td>\n",
       "      <td>33600</td>\n",
       "      <td>40</td>\n",
       "    </tr>\n",
       "    <tr>\n",
       "      <th>14</th>\n",
       "      <td>1/1/2021 15:00</td>\n",
       "      <td>33648</td>\n",
       "      <td>48</td>\n",
       "    </tr>\n",
       "    <tr>\n",
       "      <th>15</th>\n",
       "      <td>1/1/2021 16:00</td>\n",
       "      <td>33675</td>\n",
       "      <td>27</td>\n",
       "    </tr>\n",
       "    <tr>\n",
       "      <th>16</th>\n",
       "      <td>1/1/2021 17:00</td>\n",
       "      <td>33679</td>\n",
       "      <td>4</td>\n",
       "    </tr>\n",
       "    <tr>\n",
       "      <th>17</th>\n",
       "      <td>1/1/2021 18:00</td>\n",
       "      <td>33679</td>\n",
       "      <td>0</td>\n",
       "    </tr>\n",
       "    <tr>\n",
       "      <th>18</th>\n",
       "      <td>1/1/2021 19:00</td>\n",
       "      <td>33679</td>\n",
       "      <td>0</td>\n",
       "    </tr>\n",
       "    <tr>\n",
       "      <th>19</th>\n",
       "      <td>1/1/2021 20:00</td>\n",
       "      <td>33679</td>\n",
       "      <td>0</td>\n",
       "    </tr>\n",
       "    <tr>\n",
       "      <th>20</th>\n",
       "      <td>1/1/2021 21:00</td>\n",
       "      <td>33679</td>\n",
       "      <td>0</td>\n",
       "    </tr>\n",
       "    <tr>\n",
       "      <th>21</th>\n",
       "      <td>1/1/2021 22:00</td>\n",
       "      <td>33679</td>\n",
       "      <td>0</td>\n",
       "    </tr>\n",
       "    <tr>\n",
       "      <th>22</th>\n",
       "      <td>1/1/2021 23:00</td>\n",
       "      <td>33679</td>\n",
       "      <td>0</td>\n",
       "    </tr>\n",
       "  </tbody>\n",
       "</table>\n",
       "</div>"
      ],
      "text/plain": [
       "    SETTLEMENTDATE  F_all_power  Delta_power\n",
       "1    1/1/2021 2:00        33391            0\n",
       "2    1/1/2021 3:00        33391            0\n",
       "3    1/1/2021 4:00        33391            0\n",
       "4    1/1/2021 5:00        33391            0\n",
       "5    1/1/2021 6:00        33391            0\n",
       "6    1/1/2021 7:00        33391            0\n",
       "7    1/1/2021 8:00        33391            0\n",
       "8    1/1/2021 9:00        33395            4\n",
       "9   1/1/2021 10:00        33407           12\n",
       "10  1/1/2021 11:00        33459           52\n",
       "11  1/1/2021 12:00        33508           49\n",
       "12  1/1/2021 13:00        33560           52\n",
       "13  1/1/2021 14:00        33600           40\n",
       "14  1/1/2021 15:00        33648           48\n",
       "15  1/1/2021 16:00        33675           27\n",
       "16  1/1/2021 17:00        33679            4\n",
       "17  1/1/2021 18:00        33679            0\n",
       "18  1/1/2021 19:00        33679            0\n",
       "19  1/1/2021 20:00        33679            0\n",
       "20  1/1/2021 21:00        33679            0\n",
       "21  1/1/2021 22:00        33679            0\n",
       "22  1/1/2021 23:00        33679            0"
      ]
     },
     "execution_count": 67,
     "metadata": {},
     "output_type": "execute_result"
    }
   ],
   "source": [
    "df = pd.read_csv('Data_solar.csv')\n",
    "df[1:23]"
   ]
  },
  {
   "cell_type": "code",
   "execution_count": 42,
   "metadata": {},
   "outputs": [
    {
     "name": "stdout",
     "output_type": "stream",
     "text": [
      "  SETTLEMENTDATE  F_all_power  Delta_power           Date Time         Day  \\\n",
      "0  1/1/2021 1:00        33391            0 2021-01-01 01:00:00  2021-01-01   \n",
      "1  1/1/2021 2:00        33391            0 2021-01-01 02:00:00  2021-01-01   \n",
      "2  1/1/2021 3:00        33391            0 2021-01-01 03:00:00  2021-01-01   \n",
      "3  1/1/2021 4:00        33391            0 2021-01-01 04:00:00  2021-01-01   \n",
      "4  1/1/2021 5:00        33391            0 2021-01-01 05:00:00  2021-01-01   \n",
      "\n",
      "   Month  Year  Hour  Minute  Power_gen  \n",
      "0      1  2021     1       0          0  \n",
      "1      1  2021     2       0          0  \n",
      "2      1  2021     3       0          0  \n",
      "3      1  2021     4       0          0  \n",
      "4      1  2021     5       0          0  \n"
     ]
    }
   ],
   "source": [
    "df['Date Time'] = pd.to_datetime(df['SETTLEMENTDATE'])\n",
    "df['Day'] = df[\"Date Time\"].dt.date\n",
    "df['Month'] = df['Date Time'].dt.month\n",
    "df['Year'] = df['Date Time'].dt.year\n",
    "df['Hour'] = df['Date Time'].dt.hour\n",
    "df['Minute'] = df['Date Time'].dt.minute\n",
    "df['Power_gen'] = pd.to_numeric(df['Delta_power'], errors='coerce')\n",
    "print(df.head())"
   ]
  },
  {
   "cell_type": "code",
   "execution_count": 43,
   "metadata": {},
   "outputs": [
    {
     "name": "stdout",
     "output_type": "stream",
     "text": [
      "SETTLEMENTDATE            object\n",
      "F_all_power                int64\n",
      "Delta_power                int64\n",
      "Date Time         datetime64[ns]\n",
      "Day                       object\n",
      "Month                      int64\n",
      "Year                       int64\n",
      "Hour                       int64\n",
      "Minute                     int64\n",
      "Power_gen                  int64\n",
      "dtype: object\n"
     ]
    }
   ],
   "source": [
    "print(df.dtypes)"
   ]
  },
  {
   "cell_type": "code",
   "execution_count": 44,
   "metadata": {},
   "outputs": [],
   "source": [
    "df.drop(['F_all_power'], axis=1, inplace=True)\n",
    "df.drop(['SETTLEMENTDATE'], axis=1, inplace=True)\n",
    "df.drop(['Date Time'], axis=1, inplace=True)\n",
    "df.drop(['Delta_power'], axis=1, inplace=True)"
   ]
  },
  {
   "cell_type": "code",
   "execution_count": 45,
   "metadata": {},
   "outputs": [
    {
     "data": {
      "text/html": [
       "<div>\n",
       "<style scoped>\n",
       "    .dataframe tbody tr th:only-of-type {\n",
       "        vertical-align: middle;\n",
       "    }\n",
       "\n",
       "    .dataframe tbody tr th {\n",
       "        vertical-align: top;\n",
       "    }\n",
       "\n",
       "    .dataframe thead th {\n",
       "        text-align: right;\n",
       "    }\n",
       "</style>\n",
       "<table border=\"1\" class=\"dataframe\">\n",
       "  <thead>\n",
       "    <tr style=\"text-align: right;\">\n",
       "      <th></th>\n",
       "      <th>Day</th>\n",
       "      <th>Month</th>\n",
       "      <th>Year</th>\n",
       "      <th>Hour</th>\n",
       "      <th>Minute</th>\n",
       "      <th>Power_gen</th>\n",
       "    </tr>\n",
       "  </thead>\n",
       "  <tbody>\n",
       "    <tr>\n",
       "      <th>0</th>\n",
       "      <td>2021-01-01</td>\n",
       "      <td>1</td>\n",
       "      <td>2021</td>\n",
       "      <td>1</td>\n",
       "      <td>0</td>\n",
       "      <td>0</td>\n",
       "    </tr>\n",
       "    <tr>\n",
       "      <th>1</th>\n",
       "      <td>2021-01-01</td>\n",
       "      <td>1</td>\n",
       "      <td>2021</td>\n",
       "      <td>2</td>\n",
       "      <td>0</td>\n",
       "      <td>0</td>\n",
       "    </tr>\n",
       "    <tr>\n",
       "      <th>2</th>\n",
       "      <td>2021-01-01</td>\n",
       "      <td>1</td>\n",
       "      <td>2021</td>\n",
       "      <td>3</td>\n",
       "      <td>0</td>\n",
       "      <td>0</td>\n",
       "    </tr>\n",
       "    <tr>\n",
       "      <th>3</th>\n",
       "      <td>2021-01-01</td>\n",
       "      <td>1</td>\n",
       "      <td>2021</td>\n",
       "      <td>4</td>\n",
       "      <td>0</td>\n",
       "      <td>0</td>\n",
       "    </tr>\n",
       "    <tr>\n",
       "      <th>4</th>\n",
       "      <td>2021-01-01</td>\n",
       "      <td>1</td>\n",
       "      <td>2021</td>\n",
       "      <td>5</td>\n",
       "      <td>0</td>\n",
       "      <td>0</td>\n",
       "    </tr>\n",
       "  </tbody>\n",
       "</table>\n",
       "</div>"
      ],
      "text/plain": [
       "          Day  Month  Year  Hour  Minute  Power_gen\n",
       "0  2021-01-01      1  2021     1       0          0\n",
       "1  2021-01-01      1  2021     2       0          0\n",
       "2  2021-01-01      1  2021     3       0          0\n",
       "3  2021-01-01      1  2021     4       0          0\n",
       "4  2021-01-01      1  2021     5       0          0"
      ]
     },
     "execution_count": 45,
     "metadata": {},
     "output_type": "execute_result"
    }
   ],
   "source": [
    "df.head()"
   ]
  },
  {
   "cell_type": "code",
   "execution_count": 46,
   "metadata": {},
   "outputs": [],
   "source": [
    "X = []\n",
    "y = []\n",
    "for i in range (0, df.shape[0]-24):\n",
    "    X.append(df.iloc[i:i+24, 5])\n",
    "    y.append(df.iloc[i+24, 5])\n",
    "\n",
    "X, y = np.array(X), np.array(y)\n",
    "y = np.reshape(y, (len(y), 1))\n",
    "\n",
    "X = np.delete(X, list(range(1, X.shape[1], 2)), axis=1)\n",
    "X = np.delete(X, list(range(1, X.shape[0], 2)), axis=0)\n",
    "y = np.delete(y, list(range(1, y.shape[0], 2)), axis=0)\n",
    "\n",
    "pd.DataFrame(X).to_csv('appended_DemandX.csv')\n",
    "pd.DataFrame(y).to_csv('appended_Demandy.csv')"
   ]
  },
  {
   "cell_type": "code",
   "execution_count": 47,
   "metadata": {},
   "outputs": [],
   "source": [
    "from sklearn.preprocessing import MinMaxScaler\n",
    "scaler = MinMaxScaler(feature_range=(0,1))\n",
    "\n",
    "X = scaler.fit_transform(X)\n",
    "y = scaler.fit_transform(y)\n",
    "\n",
    "X_train, X_test = X[:-240], X[-240:]\n",
    "y_train, y_test = y[:-240], y[-240:]\n",
    "\n",
    "X_train = np.reshape(X_train, (X_train.shape[0], X_train.shape[1], 1))\n",
    "X_test = np.reshape(X_test, (X_test.shape[0], X_test.shape[1], 1))"
   ]
  },
  {
   "cell_type": "code",
   "execution_count": 48,
   "metadata": {},
   "outputs": [
    {
     "name": "stdout",
     "output_type": "stream",
     "text": [
      "(6959, 12, 1)\n",
      "(240, 12, 1)\n",
      "(6959, 1)\n",
      "(240, 1)\n"
     ]
    }
   ],
   "source": [
    "print(X_train.shape)\n",
    "print(X_test.shape)\n",
    "print(y_train.shape)\n",
    "print(y_test.shape)"
   ]
  },
  {
   "cell_type": "code",
   "execution_count": 49,
   "metadata": {},
   "outputs": [],
   "source": [
    "from tensorflow.keras.models import Sequential\n",
    "from tensorflow.keras.layers import Dense, Activation, LSTM\n",
    "from tensorflow.keras import optimizers\n",
    "from tensorflow.keras.callbacks import ModelCheckpoint, EarlyStopping"
   ]
  },
  {
   "cell_type": "code",
   "execution_count": 50,
   "metadata": {},
   "outputs": [],
   "source": [
    "model = Sequential()\n",
    "model.add(LSTM(64, return_sequences=True, input_shape=(X_train.shape[1], 1)))\n",
    "model.add(LSTM(256, return_sequences=False))\n",
    "model.add(Dense(64, activation='relu'))\n",
    "model.add(Dense(1))"
   ]
  },
  {
   "cell_type": "code",
   "execution_count": 52,
   "metadata": {},
   "outputs": [],
   "source": [
    "import os\n",
    "import tensorflow as tf\n",
    "tf.debugging.set_log_device_placement(True)\n",
    "epochs=150\n",
    "logdir='logs2'\n",
    "checkpoint_path = 'checkpoint/cp2.ckpt'\n",
    "checkpoint_dir = os.path.dirname(checkpoint_path)\n",
    "tensorboard_callback = tf.keras.callbacks.TensorBoard(log_dir=logdir)\n",
    "cb_checkpoint = tf.keras.callbacks.ModelCheckpoint(\n",
    "    checkpoint_path,\n",
    "    monitor='val_loss',\n",
    "    verbose=1,\n",
    "    save_best_only=True,\n",
    "    save_weights_only=True\n",
    ")"
   ]
  },
  {
   "cell_type": "code",
   "execution_count": 53,
   "metadata": {},
   "outputs": [
    {
     "data": {
      "text/plain": [
       "<keras.optimizers.optimizer_v2.adam.Adam at 0x1c59a57d3a0>"
      ]
     },
     "execution_count": 53,
     "metadata": {},
     "output_type": "execute_result"
    }
   ],
   "source": [
    "filepath = 'model/lstm2.hdf5'\n",
    "callbacks = [EarlyStopping(monitor='val_loss', patience=50),tensorboard_callback, ModelCheckpoint(filepath, monitor='val_loss',verbose=1, save_best_only=True, mode='min',save_weights_only=True)]\n",
    "optimizers.Adam(learning_rate=1e-4)"
   ]
  },
  {
   "cell_type": "code",
   "execution_count": 54,
   "metadata": {},
   "outputs": [
    {
     "name": "stdout",
     "output_type": "stream",
     "text": [
      "Model: \"sequential_2\"\n",
      "_________________________________________________________________\n",
      " Layer (type)                Output Shape              Param #   \n",
      "=================================================================\n",
      " lstm_5 (LSTM)               (None, 12, 64)            16896     \n",
      "                                                                 \n",
      " lstm_6 (LSTM)               (None, 256)               328704    \n",
      "                                                                 \n",
      " dense_2 (Dense)             (None, 64)                16448     \n",
      "                                                                 \n",
      " dense_3 (Dense)             (None, 1)                 65        \n",
      "                                                                 \n",
      "=================================================================\n",
      "Total params: 362,113\n",
      "Trainable params: 362,113\n",
      "Non-trainable params: 0\n",
      "_________________________________________________________________\n"
     ]
    }
   ],
   "source": [
    "model.compile(optimizer='adam', loss='mse', metrics=['mae', 'mape'])\n",
    "model.summary()"
   ]
  },
  {
   "cell_type": "code",
   "execution_count": 55,
   "metadata": {},
   "outputs": [
    {
     "name": "stdout",
     "output_type": "stream",
     "text": [
      "Epoch 1/150\n",
      "696/696 [==============================] - ETA: 0s - loss: 0.0095 - mae: 0.0604 - mape: 12191755.0000\n",
      "Epoch 1: val_loss improved from inf to 0.00434, saving model to model\\lstm2.hdf5\n",
      "696/696 [==============================] - 17s 15ms/step - loss: 0.0095 - mae: 0.0604 - mape: 12191755.0000 - val_loss: 0.0043 - val_mae: 0.0425 - val_mape: 5703565.5000\n",
      "Epoch 2/150\n",
      "691/696 [============================>.] - ETA: 0s - loss: 0.0050 - mae: 0.0423 - mape: 5593769.5000\n",
      "Epoch 2: val_loss did not improve from 0.00434\n",
      "696/696 [==============================] - 9s 13ms/step - loss: 0.0050 - mae: 0.0424 - mape: 5638360.0000 - val_loss: 0.0045 - val_mae: 0.0453 - val_mape: 7187852.5000\n",
      "Epoch 3/150\n",
      "694/696 [============================>.] - ETA: 0s - loss: 0.0047 - mae: 0.0404 - mape: 5260170.5000\n",
      "Epoch 3: val_loss improved from 0.00434 to 0.00424, saving model to model\\lstm2.hdf5\n",
      "696/696 [==============================] - 8s 11ms/step - loss: 0.0047 - mae: 0.0404 - mape: 5260247.5000 - val_loss: 0.0042 - val_mae: 0.0416 - val_mape: 4329700.5000\n",
      "Epoch 4/150\n",
      "694/696 [============================>.] - ETA: 0s - loss: 0.0046 - mae: 0.0401 - mape: 5222999.5000\n",
      "Epoch 4: val_loss improved from 0.00424 to 0.00344, saving model to model\\lstm2.hdf5\n",
      "696/696 [==============================] - 8s 11ms/step - loss: 0.0046 - mae: 0.0401 - mape: 5213897.0000 - val_loss: 0.0034 - val_mae: 0.0343 - val_mape: 2118286.0000\n",
      "Epoch 5/150\n",
      "695/696 [============================>.] - ETA: 0s - loss: 0.0044 - mae: 0.0388 - mape: 4943461.5000\n",
      "Epoch 5: val_loss did not improve from 0.00344\n",
      "696/696 [==============================] - 8s 12ms/step - loss: 0.0044 - mae: 0.0388 - mape: 4940567.0000 - val_loss: 0.0050 - val_mae: 0.0440 - val_mape: 2635400.7500\n",
      "Epoch 6/150\n",
      "696/696 [==============================] - ETA: 0s - loss: 0.0042 - mae: 0.0377 - mape: 4529523.0000\n",
      "Epoch 6: val_loss did not improve from 0.00344\n",
      "696/696 [==============================] - 8s 12ms/step - loss: 0.0042 - mae: 0.0377 - mape: 4529523.0000 - val_loss: 0.0036 - val_mae: 0.0340 - val_mape: 3265885.5000\n",
      "Epoch 7/150\n",
      "694/696 [============================>.] - ETA: 0s - loss: 0.0042 - mae: 0.0380 - mape: 5176467.0000\n",
      "Epoch 7: val_loss improved from 0.00344 to 0.00339, saving model to model\\lstm2.hdf5\n",
      "696/696 [==============================] - 8s 11ms/step - loss: 0.0042 - mae: 0.0380 - mape: 5167420.5000 - val_loss: 0.0034 - val_mae: 0.0356 - val_mape: 3142624.2500\n",
      "Epoch 8/150\n",
      "693/696 [============================>.] - ETA: 0s - loss: 0.0041 - mae: 0.0365 - mape: 4598885.5000\n",
      "Epoch 8: val_loss improved from 0.00339 to 0.00325, saving model to model\\lstm2.hdf5\n",
      "696/696 [==============================] - 8s 12ms/step - loss: 0.0041 - mae: 0.0366 - mape: 4605170.0000 - val_loss: 0.0033 - val_mae: 0.0344 - val_mape: 4977336.5000\n",
      "Epoch 9/150\n",
      "696/696 [==============================] - ETA: 0s - loss: 0.0039 - mae: 0.0348 - mape: 3513289.2500\n",
      "Epoch 9: val_loss did not improve from 0.00325\n",
      "696/696 [==============================] - 10s 14ms/step - loss: 0.0039 - mae: 0.0348 - mape: 3513289.2500 - val_loss: 0.0033 - val_mae: 0.0331 - val_mape: 1436793.0000\n",
      "Epoch 10/150\n",
      "694/696 [============================>.] - ETA: 0s - loss: 0.0039 - mae: 0.0348 - mape: 3793809.0000\n",
      "Epoch 10: val_loss did not improve from 0.00325\n",
      "696/696 [==============================] - 8s 12ms/step - loss: 0.0039 - mae: 0.0349 - mape: 3798660.7500 - val_loss: 0.0034 - val_mae: 0.0347 - val_mape: 2416490.7500\n",
      "Epoch 11/150\n",
      "692/696 [============================>.] - ETA: 0s - loss: 0.0038 - mae: 0.0335 - mape: 2973650.7500\n",
      "Epoch 11: val_loss did not improve from 0.00325\n",
      "696/696 [==============================] - 8s 11ms/step - loss: 0.0038 - mae: 0.0335 - mape: 2966101.2500 - val_loss: 0.0033 - val_mae: 0.0332 - val_mape: 2486027.7500\n",
      "Epoch 12/150\n",
      "691/696 [============================>.] - ETA: 0s - loss: 0.0038 - mae: 0.0337 - mape: 3279866.5000\n",
      "Epoch 12: val_loss did not improve from 0.00325\n",
      "696/696 [==============================] - 9s 12ms/step - loss: 0.0038 - mae: 0.0337 - mape: 3283650.0000 - val_loss: 0.0034 - val_mae: 0.0314 - val_mape: 2441649.7500\n",
      "Epoch 13/150\n",
      "696/696 [==============================] - ETA: 0s - loss: 0.0037 - mae: 0.0331 - mape: 2984744.5000\n",
      "Epoch 13: val_loss did not improve from 0.00325\n",
      "696/696 [==============================] - 8s 11ms/step - loss: 0.0037 - mae: 0.0331 - mape: 2984744.5000 - val_loss: 0.0036 - val_mae: 0.0353 - val_mape: 2544790.7500\n",
      "Epoch 14/150\n",
      "691/696 [============================>.] - ETA: 0s - loss: 0.0036 - mae: 0.0328 - mape: 3024202.7500\n",
      "Epoch 14: val_loss improved from 0.00325 to 0.00318, saving model to model\\lstm2.hdf5\n",
      "696/696 [==============================] - 8s 11ms/step - loss: 0.0036 - mae: 0.0328 - mape: 3031951.0000 - val_loss: 0.0032 - val_mae: 0.0315 - val_mape: 1872265.0000\n",
      "Epoch 15/150\n",
      "693/696 [============================>.] - ETA: 0s - loss: 0.0036 - mae: 0.0321 - mape: 2758676.7500\n",
      "Epoch 15: val_loss did not improve from 0.00318\n",
      "696/696 [==============================] - 8s 12ms/step - loss: 0.0035 - mae: 0.0321 - mape: 2751312.2500 - val_loss: 0.0035 - val_mae: 0.0328 - val_mape: 1281898.7500\n",
      "Epoch 16/150\n",
      "693/696 [============================>.] - ETA: 0s - loss: 0.0035 - mae: 0.0323 - mape: 3073783.2500\n",
      "Epoch 16: val_loss improved from 0.00318 to 0.00296, saving model to model\\lstm2.hdf5\n",
      "696/696 [==============================] - 8s 11ms/step - loss: 0.0035 - mae: 0.0323 - mape: 3066348.5000 - val_loss: 0.0030 - val_mae: 0.0309 - val_mape: 1175706.2500\n",
      "Epoch 17/150\n",
      "694/696 [============================>.] - ETA: 0s - loss: 0.0035 - mae: 0.0315 - mape: 2652617.5000\n",
      "Epoch 17: val_loss did not improve from 0.00296\n",
      "696/696 [==============================] - 8s 12ms/step - loss: 0.0035 - mae: 0.0314 - mape: 2651996.7500 - val_loss: 0.0032 - val_mae: 0.0326 - val_mape: 2475862.5000\n",
      "Epoch 18/150\n",
      "691/696 [============================>.] - ETA: 0s - loss: 0.0035 - mae: 0.0311 - mape: 2233188.2500\n",
      "Epoch 18: val_loss did not improve from 0.00296\n",
      "696/696 [==============================] - 8s 11ms/step - loss: 0.0035 - mae: 0.0311 - mape: 2228033.0000 - val_loss: 0.0034 - val_mae: 0.0334 - val_mape: 1424440.5000\n",
      "Epoch 19/150\n",
      "692/696 [============================>.] - ETA: 0s - loss: 0.0034 - mae: 0.0313 - mape: 2516078.5000\n",
      "Epoch 19: val_loss did not improve from 0.00296\n",
      "696/696 [==============================] - 8s 11ms/step - loss: 0.0034 - mae: 0.0312 - mape: 2510572.0000 - val_loss: 0.0031 - val_mae: 0.0309 - val_mape: 932463.8125\n",
      "Epoch 20/150\n",
      "694/696 [============================>.] - ETA: 0s - loss: 0.0034 - mae: 0.0308 - mape: 2527110.5000\n",
      "Epoch 20: val_loss did not improve from 0.00296\n",
      "696/696 [==============================] - 7s 11ms/step - loss: 0.0034 - mae: 0.0309 - mape: 2524117.7500 - val_loss: 0.0033 - val_mae: 0.0345 - val_mape: 2394248.2500\n",
      "Epoch 21/150\n",
      "692/696 [============================>.] - ETA: 0s - loss: 0.0033 - mae: 0.0301 - mape: 2182430.0000\n",
      "Epoch 21: val_loss improved from 0.00296 to 0.00282, saving model to model\\lstm2.hdf5\n",
      "696/696 [==============================] - 7s 10ms/step - loss: 0.0033 - mae: 0.0301 - mape: 2173560.2500 - val_loss: 0.0028 - val_mae: 0.0287 - val_mape: 1640895.6250\n",
      "Epoch 22/150\n",
      "692/696 [============================>.] - ETA: 0s - loss: 0.0033 - mae: 0.0302 - mape: 2309170.2500\n",
      "Epoch 22: val_loss did not improve from 0.00282\n",
      "696/696 [==============================] - 8s 12ms/step - loss: 0.0033 - mae: 0.0302 - mape: 2328598.2500 - val_loss: 0.0031 - val_mae: 0.0326 - val_mape: 4053064.7500\n",
      "Epoch 23/150\n",
      "696/696 [==============================] - ETA: 0s - loss: 0.0033 - mae: 0.0304 - mape: 2532916.7500\n",
      "Epoch 23: val_loss did not improve from 0.00282\n",
      "696/696 [==============================] - 7s 10ms/step - loss: 0.0033 - mae: 0.0304 - mape: 2532916.7500 - val_loss: 0.0030 - val_mae: 0.0306 - val_mape: 2075670.6250\n",
      "Epoch 24/150\n",
      "694/696 [============================>.] - ETA: 0s - loss: 0.0032 - mae: 0.0299 - mape: 2325043.7500\n",
      "Epoch 24: val_loss improved from 0.00282 to 0.00265, saving model to model\\lstm2.hdf5\n",
      "696/696 [==============================] - 7s 11ms/step - loss: 0.0032 - mae: 0.0299 - mape: 2331028.7500 - val_loss: 0.0027 - val_mae: 0.0297 - val_mape: 2974974.2500\n",
      "Epoch 25/150\n",
      "692/696 [============================>.] - ETA: 0s - loss: 0.0032 - mae: 0.0298 - mape: 2506102.7500\n",
      "Epoch 25: val_loss did not improve from 0.00265\n",
      "696/696 [==============================] - 8s 11ms/step - loss: 0.0032 - mae: 0.0298 - mape: 2502538.0000 - val_loss: 0.0038 - val_mae: 0.0361 - val_mape: 1786086.6250\n",
      "Epoch 26/150\n",
      "694/696 [============================>.] - ETA: 0s - loss: 0.0032 - mae: 0.0296 - mape: 2229425.7500\n",
      "Epoch 26: val_loss improved from 0.00265 to 0.00264, saving model to model\\lstm2.hdf5\n",
      "696/696 [==============================] - 8s 11ms/step - loss: 0.0032 - mae: 0.0295 - mape: 2230064.2500 - val_loss: 0.0026 - val_mae: 0.0293 - val_mape: 2672084.2500\n",
      "Epoch 27/150\n",
      "691/696 [============================>.] - ETA: 0s - loss: 0.0031 - mae: 0.0293 - mape: 1996613.6250\n",
      "Epoch 27: val_loss did not improve from 0.00264\n",
      "696/696 [==============================] - 8s 12ms/step - loss: 0.0032 - mae: 0.0294 - mape: 2006626.3750 - val_loss: 0.0030 - val_mae: 0.0301 - val_mape: 2801588.0000\n",
      "Epoch 28/150\n",
      "695/696 [============================>.] - ETA: 0s - loss: 0.0032 - mae: 0.0300 - mape: 2325256.2500\n",
      "Epoch 28: val_loss did not improve from 0.00264\n",
      "696/696 [==============================] - 7s 11ms/step - loss: 0.0032 - mae: 0.0300 - mape: 2324326.2500 - val_loss: 0.0027 - val_mae: 0.0306 - val_mape: 1912790.7500\n",
      "Epoch 29/150\n",
      "696/696 [==============================] - ETA: 0s - loss: 0.0031 - mae: 0.0293 - mape: 2119998.5000\n",
      "Epoch 29: val_loss did not improve from 0.00264\n",
      "696/696 [==============================] - 7s 11ms/step - loss: 0.0031 - mae: 0.0293 - mape: 2119998.5000 - val_loss: 0.0030 - val_mae: 0.0319 - val_mape: 3547843.0000\n",
      "Epoch 30/150\n",
      "696/696 [==============================] - ETA: 0s - loss: 0.0031 - mae: 0.0292 - mape: 2301453.5000\n",
      "Epoch 30: val_loss improved from 0.00264 to 0.00262, saving model to model\\lstm2.hdf5\n",
      "696/696 [==============================] - 8s 11ms/step - loss: 0.0031 - mae: 0.0292 - mape: 2301453.5000 - val_loss: 0.0026 - val_mae: 0.0285 - val_mape: 1586880.3750\n",
      "Epoch 31/150\n",
      "695/696 [============================>.] - ETA: 0s - loss: 0.0031 - mae: 0.0291 - mape: 1896899.0000\n",
      "Epoch 31: val_loss did not improve from 0.00262\n",
      "696/696 [==============================] - 8s 12ms/step - loss: 0.0031 - mae: 0.0292 - mape: 1896121.5000 - val_loss: 0.0027 - val_mae: 0.0283 - val_mape: 1894880.8750\n",
      "Epoch 32/150\n",
      "692/696 [============================>.] - ETA: 0s - loss: 0.0031 - mae: 0.0294 - mape: 2238195.2500\n",
      "Epoch 32: val_loss did not improve from 0.00262\n",
      "696/696 [==============================] - 8s 11ms/step - loss: 0.0031 - mae: 0.0293 - mape: 2237065.7500 - val_loss: 0.0027 - val_mae: 0.0280 - val_mape: 1369127.5000\n",
      "Epoch 33/150\n",
      "693/696 [============================>.] - ETA: 0s - loss: 0.0032 - mae: 0.0294 - mape: 2244702.5000\n",
      "Epoch 33: val_loss did not improve from 0.00262\n",
      "696/696 [==============================] - 8s 11ms/step - loss: 0.0031 - mae: 0.0293 - mape: 2240173.0000 - val_loss: 0.0035 - val_mae: 0.0330 - val_mape: 1796720.1250\n",
      "Epoch 34/150\n",
      "693/696 [============================>.] - ETA: 0s - loss: 0.0030 - mae: 0.0288 - mape: 2001959.5000\n",
      "Epoch 34: val_loss improved from 0.00262 to 0.00259, saving model to model\\lstm2.hdf5\n",
      "696/696 [==============================] - 7s 11ms/step - loss: 0.0030 - mae: 0.0289 - mape: 2001503.0000 - val_loss: 0.0026 - val_mae: 0.0287 - val_mape: 2434226.2500\n",
      "Epoch 35/150\n",
      "693/696 [============================>.] - ETA: 0s - loss: 0.0031 - mae: 0.0291 - mape: 2316948.0000\n",
      "Epoch 35: val_loss did not improve from 0.00259\n",
      "696/696 [==============================] - 8s 11ms/step - loss: 0.0031 - mae: 0.0291 - mape: 2311856.5000 - val_loss: 0.0029 - val_mae: 0.0312 - val_mape: 1196350.3750\n",
      "Epoch 36/150\n",
      "692/696 [============================>.] - ETA: 0s - loss: 0.0030 - mae: 0.0289 - mape: 2213909.7500\n",
      "Epoch 36: val_loss improved from 0.00259 to 0.00257, saving model to model\\lstm2.hdf5\n",
      "696/696 [==============================] - 7s 10ms/step - loss: 0.0030 - mae: 0.0289 - mape: 2211349.2500 - val_loss: 0.0026 - val_mae: 0.0277 - val_mape: 1465574.1250\n",
      "Epoch 37/150\n",
      "696/696 [==============================] - ETA: 0s - loss: 0.0031 - mae: 0.0291 - mape: 2311392.0000\n",
      "Epoch 37: val_loss did not improve from 0.00257\n",
      "696/696 [==============================] - 8s 11ms/step - loss: 0.0031 - mae: 0.0291 - mape: 2311392.0000 - val_loss: 0.0026 - val_mae: 0.0290 - val_mape: 2308053.5000\n",
      "Epoch 38/150\n",
      "694/696 [============================>.] - ETA: 0s - loss: 0.0030 - mae: 0.0284 - mape: 2095622.1250\n",
      "Epoch 38: val_loss did not improve from 0.00257\n",
      "696/696 [==============================] - 8s 11ms/step - loss: 0.0030 - mae: 0.0284 - mape: 2092677.1250 - val_loss: 0.0028 - val_mae: 0.0293 - val_mape: 1193212.1250\n",
      "Epoch 39/150\n",
      "693/696 [============================>.] - ETA: 0s - loss: 0.0030 - mae: 0.0284 - mape: 2236894.0000\n",
      "Epoch 39: val_loss did not improve from 0.00257\n",
      "696/696 [==============================] - 8s 11ms/step - loss: 0.0030 - mae: 0.0284 - mape: 2232611.5000 - val_loss: 0.0028 - val_mae: 0.0302 - val_mape: 1175030.6250\n",
      "Epoch 40/150\n",
      "693/696 [============================>.] - ETA: 0s - loss: 0.0030 - mae: 0.0281 - mape: 1935281.8750\n",
      "Epoch 40: val_loss did not improve from 0.00257\n",
      "696/696 [==============================] - 8s 11ms/step - loss: 0.0030 - mae: 0.0281 - mape: 1940088.6250 - val_loss: 0.0027 - val_mae: 0.0307 - val_mape: 2613976.7500\n",
      "Epoch 41/150\n",
      "695/696 [============================>.] - ETA: 0s - loss: 0.0030 - mae: 0.0282 - mape: 2094010.7500\n",
      "Epoch 41: val_loss did not improve from 0.00257\n",
      "696/696 [==============================] - 7s 11ms/step - loss: 0.0030 - mae: 0.0282 - mape: 2094419.7500 - val_loss: 0.0027 - val_mae: 0.0292 - val_mape: 2075522.7500\n",
      "Epoch 42/150\n",
      "694/696 [============================>.] - ETA: 0s - loss: 0.0029 - mae: 0.0277 - mape: 1716137.8750\n",
      "Epoch 42: val_loss did not improve from 0.00257\n",
      "696/696 [==============================] - 8s 11ms/step - loss: 0.0029 - mae: 0.0276 - mape: 1718104.2500 - val_loss: 0.0028 - val_mae: 0.0299 - val_mape: 1266099.8750\n",
      "Epoch 43/150\n",
      "691/696 [============================>.] - ETA: 0s - loss: 0.0030 - mae: 0.0283 - mape: 2216331.0000\n",
      "Epoch 43: val_loss did not improve from 0.00257\n",
      "696/696 [==============================] - 7s 10ms/step - loss: 0.0030 - mae: 0.0283 - mape: 2219564.7500 - val_loss: 0.0027 - val_mae: 0.0298 - val_mape: 1394437.3750\n",
      "Epoch 44/150\n",
      "696/696 [==============================] - ETA: 0s - loss: 0.0029 - mae: 0.0282 - mape: 2185222.0000\n",
      "Epoch 44: val_loss did not improve from 0.00257\n",
      "696/696 [==============================] - 7s 10ms/step - loss: 0.0029 - mae: 0.0282 - mape: 2185222.0000 - val_loss: 0.0028 - val_mae: 0.0296 - val_mape: 2301098.7500\n",
      "Epoch 45/150\n",
      "693/696 [============================>.] - ETA: 0s - loss: 0.0029 - mae: 0.0280 - mape: 1926004.8750\n",
      "Epoch 45: val_loss did not improve from 0.00257\n",
      "696/696 [==============================] - 7s 11ms/step - loss: 0.0029 - mae: 0.0281 - mape: 1919699.5000 - val_loss: 0.0026 - val_mae: 0.0288 - val_mape: 1281915.5000\n",
      "Epoch 46/150\n",
      "694/696 [============================>.] - ETA: 0s - loss: 0.0029 - mae: 0.0277 - mape: 1724975.7500\n",
      "Epoch 46: val_loss did not improve from 0.00257\n",
      "696/696 [==============================] - 8s 11ms/step - loss: 0.0029 - mae: 0.0277 - mape: 1724875.8750 - val_loss: 0.0027 - val_mae: 0.0283 - val_mape: 1338995.6250\n",
      "Epoch 47/150\n",
      "694/696 [============================>.] - ETA: 0s - loss: 0.0029 - mae: 0.0277 - mape: 2007256.5000\n",
      "Epoch 47: val_loss did not improve from 0.00257\n",
      "696/696 [==============================] - 8s 12ms/step - loss: 0.0029 - mae: 0.0278 - mape: 2004370.6250 - val_loss: 0.0027 - val_mae: 0.0289 - val_mape: 1131270.6250\n",
      "Epoch 48/150\n",
      "693/696 [============================>.] - ETA: 0s - loss: 0.0029 - mae: 0.0280 - mape: 1908314.0000\n",
      "Epoch 48: val_loss improved from 0.00257 to 0.00253, saving model to model\\lstm2.hdf5\n",
      "696/696 [==============================] - 8s 12ms/step - loss: 0.0029 - mae: 0.0281 - mape: 1906079.7500 - val_loss: 0.0025 - val_mae: 0.0290 - val_mape: 2689190.5000\n",
      "Epoch 49/150\n",
      "694/696 [============================>.] - ETA: 0s - loss: 0.0029 - mae: 0.0279 - mape: 2183291.2500\n",
      "Epoch 49: val_loss did not improve from 0.00253\n",
      "696/696 [==============================] - 8s 12ms/step - loss: 0.0029 - mae: 0.0279 - mape: 2178605.7500 - val_loss: 0.0026 - val_mae: 0.0274 - val_mape: 1026016.9375\n",
      "Epoch 50/150\n",
      "693/696 [============================>.] - ETA: 0s - loss: 0.0029 - mae: 0.0276 - mape: 1832070.2500\n",
      "Epoch 50: val_loss improved from 0.00253 to 0.00247, saving model to model\\lstm2.hdf5\n",
      "696/696 [==============================] - 8s 12ms/step - loss: 0.0029 - mae: 0.0276 - mape: 1829458.1250 - val_loss: 0.0025 - val_mae: 0.0276 - val_mape: 1299506.6250\n",
      "Epoch 51/150\n",
      "696/696 [==============================] - ETA: 0s - loss: 0.0029 - mae: 0.0277 - mape: 2008855.3750\n",
      "Epoch 51: val_loss did not improve from 0.00247\n",
      "696/696 [==============================] - 8s 12ms/step - loss: 0.0029 - mae: 0.0277 - mape: 2008855.3750 - val_loss: 0.0026 - val_mae: 0.0300 - val_mape: 2481580.2500\n",
      "Epoch 52/150\n",
      "694/696 [============================>.] - ETA: 0s - loss: 0.0029 - mae: 0.0274 - mape: 1846611.7500\n",
      "Epoch 52: val_loss did not improve from 0.00247\n",
      "696/696 [==============================] - 8s 11ms/step - loss: 0.0029 - mae: 0.0274 - mape: 1851029.1250 - val_loss: 0.0027 - val_mae: 0.0322 - val_mape: 4844349.5000\n",
      "Epoch 53/150\n",
      "696/696 [==============================] - ETA: 0s - loss: 0.0029 - mae: 0.0281 - mape: 2160794.5000\n",
      "Epoch 53: val_loss did not improve from 0.00247\n",
      "696/696 [==============================] - 8s 12ms/step - loss: 0.0029 - mae: 0.0281 - mape: 2160794.5000 - val_loss: 0.0025 - val_mae: 0.0272 - val_mape: 1209695.1250\n",
      "Epoch 54/150\n",
      "694/696 [============================>.] - ETA: 0s - loss: 0.0028 - mae: 0.0275 - mape: 1991725.8750\n",
      "Epoch 54: val_loss did not improve from 0.00247\n",
      "696/696 [==============================] - 8s 12ms/step - loss: 0.0028 - mae: 0.0274 - mape: 1993937.8750 - val_loss: 0.0026 - val_mae: 0.0291 - val_mape: 1997278.0000\n",
      "Epoch 55/150\n",
      "692/696 [============================>.] - ETA: 0s - loss: 0.0029 - mae: 0.0280 - mape: 2259477.7500\n",
      "Epoch 55: val_loss did not improve from 0.00247\n",
      "696/696 [==============================] - 8s 12ms/step - loss: 0.0028 - mae: 0.0280 - mape: 2263416.5000 - val_loss: 0.0029 - val_mae: 0.0300 - val_mape: 2069871.1250\n",
      "Epoch 56/150\n",
      "692/696 [============================>.] - ETA: 0s - loss: 0.0028 - mae: 0.0276 - mape: 2068982.0000\n",
      "Epoch 56: val_loss did not improve from 0.00247\n",
      "696/696 [==============================] - 8s 12ms/step - loss: 0.0028 - mae: 0.0276 - mape: 2078841.3750 - val_loss: 0.0026 - val_mae: 0.0290 - val_mape: 3232197.2500\n",
      "Epoch 57/150\n",
      "695/696 [============================>.] - ETA: 0s - loss: 0.0028 - mae: 0.0269 - mape: 1690157.1250\n",
      "Epoch 57: val_loss did not improve from 0.00247\n",
      "696/696 [==============================] - 8s 12ms/step - loss: 0.0028 - mae: 0.0270 - mape: 1689515.3750 - val_loss: 0.0026 - val_mae: 0.0275 - val_mape: 859461.6250\n",
      "Epoch 58/150\n",
      "696/696 [==============================] - ETA: 0s - loss: 0.0029 - mae: 0.0277 - mape: 1981898.8750\n",
      "Epoch 58: val_loss did not improve from 0.00247\n",
      "696/696 [==============================] - 8s 12ms/step - loss: 0.0029 - mae: 0.0277 - mape: 1981898.8750 - val_loss: 0.0027 - val_mae: 0.0300 - val_mape: 1365448.6250\n",
      "Epoch 59/150\n",
      "695/696 [============================>.] - ETA: 0s - loss: 0.0028 - mae: 0.0280 - mape: 2308451.2500\n",
      "Epoch 59: val_loss did not improve from 0.00247\n",
      "696/696 [==============================] - 8s 12ms/step - loss: 0.0028 - mae: 0.0280 - mape: 2306373.5000 - val_loss: 0.0027 - val_mae: 0.0305 - val_mape: 2561734.7500\n",
      "Epoch 60/150\n",
      "692/696 [============================>.] - ETA: 0s - loss: 0.0028 - mae: 0.0271 - mape: 1834522.2500\n",
      "Epoch 60: val_loss did not improve from 0.00247\n",
      "696/696 [==============================] - 8s 12ms/step - loss: 0.0028 - mae: 0.0271 - mape: 1830942.0000 - val_loss: 0.0025 - val_mae: 0.0269 - val_mape: 1050736.8750\n",
      "Epoch 61/150\n",
      "695/696 [============================>.] - ETA: 0s - loss: 0.0028 - mae: 0.0272 - mape: 1912781.3750\n",
      "Epoch 61: val_loss did not improve from 0.00247\n",
      "696/696 [==============================] - 8s 11ms/step - loss: 0.0028 - mae: 0.0272 - mape: 1915348.8750 - val_loss: 0.0026 - val_mae: 0.0301 - val_mape: 1966948.3750\n",
      "Epoch 62/150\n",
      "695/696 [============================>.] - ETA: 0s - loss: 0.0028 - mae: 0.0267 - mape: 1801412.3750\n",
      "Epoch 62: val_loss did not improve from 0.00247\n",
      "696/696 [==============================] - 7s 10ms/step - loss: 0.0028 - mae: 0.0267 - mape: 1800678.7500 - val_loss: 0.0027 - val_mae: 0.0279 - val_mape: 1278642.6250\n",
      "Epoch 63/150\n",
      "691/696 [============================>.] - ETA: 0s - loss: 0.0028 - mae: 0.0272 - mape: 1922874.3750\n",
      "Epoch 63: val_loss did not improve from 0.00247\n",
      "696/696 [==============================] - 7s 10ms/step - loss: 0.0028 - mae: 0.0273 - mape: 1944281.0000 - val_loss: 0.0027 - val_mae: 0.0335 - val_mape: 6157414.5000\n",
      "Epoch 64/150\n",
      "694/696 [============================>.] - ETA: 0s - loss: 0.0028 - mae: 0.0276 - mape: 2322129.2500\n",
      "Epoch 64: val_loss did not improve from 0.00247\n",
      "696/696 [==============================] - 8s 11ms/step - loss: 0.0028 - mae: 0.0276 - mape: 2317433.7500 - val_loss: 0.0026 - val_mae: 0.0288 - val_mape: 935085.6250\n",
      "Epoch 65/150\n",
      "693/696 [============================>.] - ETA: 0s - loss: 0.0028 - mae: 0.0273 - mape: 1999164.2500\n",
      "Epoch 65: val_loss did not improve from 0.00247\n",
      "696/696 [==============================] - 8s 11ms/step - loss: 0.0028 - mae: 0.0273 - mape: 2004688.5000 - val_loss: 0.0026 - val_mae: 0.0286 - val_mape: 2104129.7500\n",
      "Epoch 66/150\n",
      "695/696 [============================>.] - ETA: 0s - loss: 0.0027 - mae: 0.0270 - mape: 2070029.8750\n",
      "Epoch 66: val_loss did not improve from 0.00247\n",
      "696/696 [==============================] - 8s 11ms/step - loss: 0.0027 - mae: 0.0270 - mape: 2071207.8750 - val_loss: 0.0027 - val_mae: 0.0319 - val_mape: 2846360.0000\n",
      "Epoch 67/150\n",
      "691/696 [============================>.] - ETA: 0s - loss: 0.0028 - mae: 0.0275 - mape: 2120613.5000\n",
      "Epoch 67: val_loss did not improve from 0.00247\n",
      "696/696 [==============================] - 8s 11ms/step - loss: 0.0028 - mae: 0.0275 - mape: 2154957.2500 - val_loss: 0.0031 - val_mae: 0.0341 - val_mape: 4713429.5000\n",
      "Epoch 68/150\n",
      "693/696 [============================>.] - ETA: 0s - loss: 0.0027 - mae: 0.0271 - mape: 2191231.7500\n",
      "Epoch 68: val_loss did not improve from 0.00247\n",
      "696/696 [==============================] - 7s 11ms/step - loss: 0.0027 - mae: 0.0272 - mape: 2191350.5000 - val_loss: 0.0028 - val_mae: 0.0311 - val_mape: 1576211.6250\n",
      "Epoch 69/150\n",
      "695/696 [============================>.] - ETA: 0s - loss: 0.0027 - mae: 0.0266 - mape: 1826560.0000\n",
      "Epoch 69: val_loss did not improve from 0.00247\n",
      "696/696 [==============================] - 7s 11ms/step - loss: 0.0027 - mae: 0.0265 - mape: 1825841.1250 - val_loss: 0.0027 - val_mae: 0.0283 - val_mape: 1081003.2500\n",
      "Epoch 70/150\n",
      "695/696 [============================>.] - ETA: 0s - loss: 0.0027 - mae: 0.0268 - mape: 2085019.1250\n",
      "Epoch 70: val_loss did not improve from 0.00247\n",
      "696/696 [==============================] - 7s 11ms/step - loss: 0.0027 - mae: 0.0268 - mape: 2083606.3750 - val_loss: 0.0026 - val_mae: 0.0289 - val_mape: 1494280.8750\n",
      "Epoch 71/150\n",
      "693/696 [============================>.] - ETA: 0s - loss: 0.0027 - mae: 0.0269 - mape: 1869603.5000\n",
      "Epoch 71: val_loss did not improve from 0.00247\n",
      "696/696 [==============================] - 7s 10ms/step - loss: 0.0027 - mae: 0.0269 - mape: 1870968.5000 - val_loss: 0.0027 - val_mae: 0.0292 - val_mape: 1680288.1250\n",
      "Epoch 72/150\n",
      "696/696 [==============================] - ETA: 0s - loss: 0.0027 - mae: 0.0267 - mape: 2012380.0000\n",
      "Epoch 72: val_loss did not improve from 0.00247\n",
      "696/696 [==============================] - 8s 12ms/step - loss: 0.0027 - mae: 0.0267 - mape: 2012380.0000 - val_loss: 0.0026 - val_mae: 0.0284 - val_mape: 1764691.6250\n",
      "Epoch 73/150\n",
      "692/696 [============================>.] - ETA: 0s - loss: 0.0027 - mae: 0.0264 - mape: 1858725.7500\n",
      "Epoch 73: val_loss did not improve from 0.00247\n",
      "696/696 [==============================] - 9s 12ms/step - loss: 0.0027 - mae: 0.0266 - mape: 1863429.1250 - val_loss: 0.0026 - val_mae: 0.0301 - val_mape: 3784536.0000\n",
      "Epoch 74/150\n",
      "692/696 [============================>.] - ETA: 0s - loss: 0.0027 - mae: 0.0269 - mape: 2113909.2500\n",
      "Epoch 74: val_loss did not improve from 0.00247\n",
      "696/696 [==============================] - 7s 11ms/step - loss: 0.0027 - mae: 0.0268 - mape: 2110712.0000 - val_loss: 0.0027 - val_mae: 0.0285 - val_mape: 1163606.6250\n",
      "Epoch 75/150\n",
      "691/696 [============================>.] - ETA: 0s - loss: 0.0027 - mae: 0.0264 - mape: 1842176.7500\n",
      "Epoch 75: val_loss did not improve from 0.00247\n",
      "696/696 [==============================] - 7s 11ms/step - loss: 0.0027 - mae: 0.0265 - mape: 1832719.3750 - val_loss: 0.0025 - val_mae: 0.0266 - val_mape: 826274.9375\n",
      "Epoch 76/150\n",
      "694/696 [============================>.] - ETA: 0s - loss: 0.0026 - mae: 0.0265 - mape: 1996999.2500\n",
      "Epoch 76: val_loss did not improve from 0.00247\n",
      "696/696 [==============================] - 8s 11ms/step - loss: 0.0027 - mae: 0.0265 - mape: 1993380.5000 - val_loss: 0.0027 - val_mae: 0.0294 - val_mape: 868316.1250\n",
      "Epoch 77/150\n",
      "695/696 [============================>.] - ETA: 0s - loss: 0.0027 - mae: 0.0263 - mape: 1741749.2500\n",
      "Epoch 77: val_loss did not improve from 0.00247\n",
      "696/696 [==============================] - 8s 12ms/step - loss: 0.0027 - mae: 0.0263 - mape: 1741686.6250 - val_loss: 0.0025 - val_mae: 0.0282 - val_mape: 1236884.0000\n",
      "Epoch 78/150\n",
      "692/696 [============================>.] - ETA: 0s - loss: 0.0026 - mae: 0.0264 - mape: 1885028.2500\n",
      "Epoch 78: val_loss did not improve from 0.00247\n",
      "696/696 [==============================] - 8s 12ms/step - loss: 0.0027 - mae: 0.0266 - mape: 1888727.2500 - val_loss: 0.0028 - val_mae: 0.0302 - val_mape: 1149172.3750\n",
      "Epoch 79/150\n",
      "693/696 [============================>.] - ETA: 0s - loss: 0.0026 - mae: 0.0261 - mape: 1787848.7500\n",
      "Epoch 79: val_loss did not improve from 0.00247\n",
      "696/696 [==============================] - 8s 11ms/step - loss: 0.0026 - mae: 0.0262 - mape: 1788247.3750 - val_loss: 0.0026 - val_mae: 0.0293 - val_mape: 1590517.5000\n",
      "Epoch 80/150\n",
      "693/696 [============================>.] - ETA: 0s - loss: 0.0026 - mae: 0.0267 - mape: 2031242.0000\n",
      "Epoch 80: val_loss did not improve from 0.00247\n",
      "696/696 [==============================] - 8s 11ms/step - loss: 0.0026 - mae: 0.0268 - mape: 2029681.1250 - val_loss: 0.0026 - val_mae: 0.0279 - val_mape: 1664144.7500\n",
      "Epoch 81/150\n",
      "695/696 [============================>.] - ETA: 0s - loss: 0.0026 - mae: 0.0265 - mape: 1961227.7500\n",
      "Epoch 81: val_loss did not improve from 0.00247\n",
      "696/696 [==============================] - 10s 14ms/step - loss: 0.0026 - mae: 0.0265 - mape: 1960671.2500 - val_loss: 0.0026 - val_mae: 0.0286 - val_mape: 1057485.0000\n",
      "Epoch 82/150\n",
      "692/696 [============================>.] - ETA: 0s - loss: 0.0026 - mae: 0.0258 - mape: 1662151.3750\n",
      "Epoch 82: val_loss did not improve from 0.00247\n",
      "696/696 [==============================] - 7s 11ms/step - loss: 0.0026 - mae: 0.0259 - mape: 1679320.5000 - val_loss: 0.0026 - val_mae: 0.0281 - val_mape: 2246332.2500\n",
      "Epoch 83/150\n",
      "695/696 [============================>.] - ETA: 0s - loss: 0.0025 - mae: 0.0256 - mape: 1673269.6250\n",
      "Epoch 83: val_loss did not improve from 0.00247\n",
      "696/696 [==============================] - 7s 10ms/step - loss: 0.0025 - mae: 0.0256 - mape: 1674911.6250 - val_loss: 0.0027 - val_mae: 0.0285 - val_mape: 1421648.1250\n",
      "Epoch 84/150\n",
      "695/696 [============================>.] - ETA: 0s - loss: 0.0026 - mae: 0.0262 - mape: 1872178.6250\n",
      "Epoch 84: val_loss did not improve from 0.00247\n",
      "696/696 [==============================] - 7s 10ms/step - loss: 0.0026 - mae: 0.0262 - mape: 1874287.7500 - val_loss: 0.0026 - val_mae: 0.0288 - val_mape: 2530604.2500\n",
      "Epoch 85/150\n",
      "692/696 [============================>.] - ETA: 0s - loss: 0.0026 - mae: 0.0258 - mape: 1708533.2500\n",
      "Epoch 85: val_loss did not improve from 0.00247\n",
      "696/696 [==============================] - 8s 11ms/step - loss: 0.0026 - mae: 0.0259 - mape: 1702633.1250 - val_loss: 0.0026 - val_mae: 0.0281 - val_mape: 976524.8125\n",
      "Epoch 86/150\n",
      "696/696 [==============================] - ETA: 0s - loss: 0.0025 - mae: 0.0261 - mape: 2037911.6250\n",
      "Epoch 86: val_loss did not improve from 0.00247\n",
      "696/696 [==============================] - 8s 12ms/step - loss: 0.0025 - mae: 0.0261 - mape: 2037911.6250 - val_loss: 0.0026 - val_mae: 0.0289 - val_mape: 1735683.6250\n",
      "Epoch 87/150\n",
      "694/696 [============================>.] - ETA: 0s - loss: 0.0025 - mae: 0.0257 - mape: 1656441.3750\n",
      "Epoch 87: val_loss did not improve from 0.00247\n",
      "696/696 [==============================] - 8s 11ms/step - loss: 0.0025 - mae: 0.0257 - mape: 1672513.0000 - val_loss: 0.0027 - val_mae: 0.0300 - val_mape: 2990534.0000\n",
      "Epoch 88/150\n",
      "692/696 [============================>.] - ETA: 0s - loss: 0.0025 - mae: 0.0252 - mape: 1538840.0000\n",
      "Epoch 88: val_loss did not improve from 0.00247\n",
      "696/696 [==============================] - 7s 11ms/step - loss: 0.0025 - mae: 0.0252 - mape: 1538546.2500 - val_loss: 0.0027 - val_mae: 0.0289 - val_mape: 648975.9375\n",
      "Epoch 89/150\n",
      "691/696 [============================>.] - ETA: 0s - loss: 0.0025 - mae: 0.0255 - mape: 1638175.5000\n",
      "Epoch 89: val_loss did not improve from 0.00247\n",
      "696/696 [==============================] - 8s 11ms/step - loss: 0.0025 - mae: 0.0255 - mape: 1646005.0000 - val_loss: 0.0027 - val_mae: 0.0299 - val_mape: 2490390.2500\n",
      "Epoch 90/150\n",
      "696/696 [==============================] - ETA: 0s - loss: 0.0025 - mae: 0.0257 - mape: 1980105.0000\n",
      "Epoch 90: val_loss did not improve from 0.00247\n",
      "696/696 [==============================] - 7s 10ms/step - loss: 0.0025 - mae: 0.0257 - mape: 1980105.0000 - val_loss: 0.0027 - val_mae: 0.0296 - val_mape: 1165112.8750\n",
      "Epoch 91/150\n",
      "694/696 [============================>.] - ETA: 0s - loss: 0.0025 - mae: 0.0253 - mape: 1687127.0000\n",
      "Epoch 91: val_loss did not improve from 0.00247\n",
      "696/696 [==============================] - 7s 10ms/step - loss: 0.0025 - mae: 0.0253 - mape: 1688751.6250 - val_loss: 0.0026 - val_mae: 0.0298 - val_mape: 1865779.8750\n",
      "Epoch 92/150\n",
      "694/696 [============================>.] - ETA: 0s - loss: 0.0024 - mae: 0.0251 - mape: 1754491.3750\n",
      "Epoch 92: val_loss did not improve from 0.00247\n",
      "696/696 [==============================] - 7s 11ms/step - loss: 0.0025 - mae: 0.0252 - mape: 1753418.8750 - val_loss: 0.0026 - val_mae: 0.0280 - val_mape: 1317266.3750\n",
      "Epoch 93/150\n",
      "693/696 [============================>.] - ETA: 0s - loss: 0.0024 - mae: 0.0253 - mape: 1813324.8750\n",
      "Epoch 93: val_loss did not improve from 0.00247\n",
      "696/696 [==============================] - 7s 11ms/step - loss: 0.0024 - mae: 0.0253 - mape: 1817983.7500 - val_loss: 0.0027 - val_mae: 0.0302 - val_mape: 2535116.0000\n",
      "Epoch 94/150\n",
      "692/696 [============================>.] - ETA: 0s - loss: 0.0024 - mae: 0.0256 - mape: 1981447.6250\n",
      "Epoch 94: val_loss did not improve from 0.00247\n",
      "696/696 [==============================] - 7s 10ms/step - loss: 0.0024 - mae: 0.0255 - mape: 1985322.5000 - val_loss: 0.0026 - val_mae: 0.0295 - val_mape: 2912570.7500\n",
      "Epoch 95/150\n",
      "693/696 [============================>.] - ETA: 0s - loss: 0.0025 - mae: 0.0257 - mape: 2003386.3750\n",
      "Epoch 95: val_loss did not improve from 0.00247\n",
      "696/696 [==============================] - 8s 11ms/step - loss: 0.0025 - mae: 0.0256 - mape: 2003919.6250 - val_loss: 0.0026 - val_mae: 0.0279 - val_mape: 1267644.3750\n",
      "Epoch 96/150\n",
      "694/696 [============================>.] - ETA: 0s - loss: 0.0024 - mae: 0.0250 - mape: 1819502.5000\n",
      "Epoch 96: val_loss did not improve from 0.00247\n",
      "696/696 [==============================] - 8s 11ms/step - loss: 0.0024 - mae: 0.0250 - mape: 1816584.2500 - val_loss: 0.0026 - val_mae: 0.0270 - val_mape: 991992.1875\n",
      "Epoch 97/150\n",
      "692/696 [============================>.] - ETA: 0s - loss: 0.0024 - mae: 0.0251 - mape: 1882453.5000\n",
      "Epoch 97: val_loss did not improve from 0.00247\n",
      "696/696 [==============================] - 8s 11ms/step - loss: 0.0024 - mae: 0.0251 - mape: 1874304.2500 - val_loss: 0.0026 - val_mae: 0.0278 - val_mape: 1165050.1250\n",
      "Epoch 98/150\n",
      "692/696 [============================>.] - ETA: 0s - loss: 0.0024 - mae: 0.0246 - mape: 1516796.6250\n",
      "Epoch 98: val_loss did not improve from 0.00247\n",
      "696/696 [==============================] - 7s 11ms/step - loss: 0.0023 - mae: 0.0246 - mape: 1520794.7500 - val_loss: 0.0029 - val_mae: 0.0292 - val_mape: 1217281.8750\n",
      "Epoch 99/150\n",
      "695/696 [============================>.] - ETA: 0s - loss: 0.0023 - mae: 0.0248 - mape: 1813709.8750\n",
      "Epoch 99: val_loss did not improve from 0.00247\n",
      "696/696 [==============================] - 8s 11ms/step - loss: 0.0023 - mae: 0.0248 - mape: 1813437.7500 - val_loss: 0.0027 - val_mae: 0.0287 - val_mape: 1130276.3750\n",
      "Epoch 100/150\n",
      "695/696 [============================>.] - ETA: 0s - loss: 0.0024 - mae: 0.0249 - mape: 1897826.0000\n",
      "Epoch 100: val_loss did not improve from 0.00247\n",
      "696/696 [==============================] - 7s 11ms/step - loss: 0.0024 - mae: 0.0249 - mape: 1896917.6250 - val_loss: 0.0027 - val_mae: 0.0294 - val_mape: 2401557.2500\n"
     ]
    }
   ],
   "source": [
    "history = model.fit(X_train, y_train, validation_split=0.2, epochs=150, callbacks=callbacks, batch_size=8)"
   ]
  },
  {
   "cell_type": "code",
   "execution_count": 56,
   "metadata": {},
   "outputs": [
    {
     "name": "stdout",
     "output_type": "stream",
     "text": [
      "8/8 [==============================] - 1s 6ms/step - loss: 0.0028 - mae: 0.0306 - mape: 2215402.2500\n"
     ]
    }
   ],
   "source": [
    "Loss, MAE, MAPE = model.evaluate(X_test, y_test)"
   ]
  },
  {
   "cell_type": "code",
   "execution_count": 57,
   "metadata": {},
   "outputs": [
    {
     "data": {
      "image/png": "[encoded data removed]",
      "text/plain": [
       "<Figure size 432x288 with 1 Axes>"
      ]
     },
     "metadata": {
      "needs_background": "light"
     },
     "output_type": "display_data"
    }
   ],
   "source": [
    "import matplotlib.pyplot as plt\n",
    "plt.plot(history.epoch, history.history[\"loss\"], 'g', label='Training loss')\n",
    "plt.plot(history.epoch, history.history[\"val_loss\"], 'b', label='validation loss')\n",
    "\n",
    "plt.title('Loss')\n",
    "plt.xlabel('Epochs')\n",
    "plt.ylabel('Loss')\n",
    "plt.legend()\n",
    "plt.savefig('MSElstm.png', bbox_inches='tight')\n",
    "plt.show()"
   ]
  },
  {
   "cell_type": "code",
   "execution_count": 58,
   "metadata": {},
   "outputs": [
    {
     "data": {
      "image/png": "[encoded data removed]",
      "text/plain": [
       "<Figure size 432x288 with 1 Axes>"
      ]
     },
     "metadata": {
      "needs_background": "light"
     },
     "output_type": "display_data"
    }
   ],
   "source": [
    "plt.plot(history.epoch, history.history[\"mae\"], 'g', label='Training MAE')\n",
    "plt.plot(history.epoch, history.history[\"val_mae\"], 'b', label='Validation MAE')\n",
    "\n",
    "plt.title('MAE')\n",
    "plt.xlabel('Epochs')\n",
    "plt.ylabel('MAE')\n",
    "plt.legend()\n",
    "plt.savefig('MAE.png', bbox_inches='tight')\n",
    "plt.show()"
   ]
  },
  {
   "cell_type": "code",
   "execution_count": 59,
   "metadata": {},
   "outputs": [
    {
     "data": {
      "image/png": "[encoded data removed]",
      "text/plain": [
       "<Figure size 432x288 with 1 Axes>"
      ]
     },
     "metadata": {
      "needs_background": "light"
     },
     "output_type": "display_data"
    }
   ],
   "source": [
    "plt.plot(history.epoch, history.history[\"mape\"], 'g', label='Training MAPE')\n",
    "plt.plot(history.epoch, history.history[\"val_mape\"], 'b', label='Validation MAPE')\n",
    "\n",
    "plt.title('MAPE')\n",
    "plt.xlabel('Epochs')\n",
    "plt.ylabel('MAPE')\n",
    "plt.legend()\n",
    "plt.savefig('MAPE.png', bbox_inches='tight')\n",
    "plt.show()"
   ]
  },
  {
   "cell_type": "code",
   "execution_count": 71,
   "metadata": {},
   "outputs": [
    {
     "name": "stdout",
     "output_type": "stream",
     "text": [
      "1/1 [==============================] - 0s 54ms/step\n",
      "[array([[0.]]), array([0.70406324], dtype=float32)]\n",
      "1/1 [==============================] - 0s 30ms/step\n",
      "[array([[0.]]), array([0.64158404], dtype=float32)]\n"
     ]
    },
    {
     "name": "stderr",
     "output_type": "stream",
     "text": [
      "c:\\Users\\Radityo Fajar\\AppData\\Local\\Programs\\Python\\Python39\\lib\\site-packages\\pandas\\core\\internals\\construction.py:576: VisibleDeprecationWarning: Creating an ndarray from ragged nested sequences (which is a list-or-tuple of lists-or-tuples-or ndarrays with different lengths or shapes) is deprecated. If you meant to do this, you must specify 'dtype=object' when creating the ndarray.\n",
      "  values = np.array([convert(v) for v in values])\n",
      "c:\\Users\\Radityo Fajar\\AppData\\Local\\Programs\\Python\\Python39\\lib\\site-packages\\pandas\\core\\internals\\construction.py:576: VisibleDeprecationWarning: Creating an ndarray from ragged nested sequences (which is a list-or-tuple of lists-or-tuples-or ndarrays with different lengths or shapes) is deprecated. If you meant to do this, you must specify 'dtype=object' when creating the ndarray.\n",
      "  values = np.array([convert(v) for v in values])\n"
     ]
    },
    {
     "name": "stdout",
     "output_type": "stream",
     "text": [
      "1/1 [==============================] - 0s 33ms/step\n",
      "[array([[0.]]), array([0.7867786], dtype=float32)]\n",
      "1/1 [==============================] - 0s 28ms/step\n"
     ]
    },
    {
     "name": "stderr",
     "output_type": "stream",
     "text": [
      "c:\\Users\\Radityo Fajar\\AppData\\Local\\Programs\\Python\\Python39\\lib\\site-packages\\pandas\\core\\internals\\construction.py:576: VisibleDeprecationWarning: Creating an ndarray from ragged nested sequences (which is a list-or-tuple of lists-or-tuples-or ndarrays with different lengths or shapes) is deprecated. If you meant to do this, you must specify 'dtype=object' when creating the ndarray.\n",
      "  values = np.array([convert(v) for v in values])\n",
      "c:\\Users\\Radityo Fajar\\AppData\\Local\\Programs\\Python\\Python39\\lib\\site-packages\\pandas\\core\\internals\\construction.py:576: VisibleDeprecationWarning: Creating an ndarray from ragged nested sequences (which is a list-or-tuple of lists-or-tuples-or ndarrays with different lengths or shapes) is deprecated. If you meant to do this, you must specify 'dtype=object' when creating the ndarray.\n",
      "  values = np.array([convert(v) for v in values])\n"
     ]
    },
    {
     "name": "stdout",
     "output_type": "stream",
     "text": [
      "[array([[1.]]), array([3.300692], dtype=float32)]\n",
      "1/1 [==============================] - 0s 27ms/step\n",
      "[array([[11.]]), array([8.890792], dtype=float32)]\n"
     ]
    },
    {
     "name": "stderr",
     "output_type": "stream",
     "text": [
      "c:\\Users\\Radityo Fajar\\AppData\\Local\\Programs\\Python\\Python39\\lib\\site-packages\\pandas\\core\\internals\\construction.py:576: VisibleDeprecationWarning: Creating an ndarray from ragged nested sequences (which is a list-or-tuple of lists-or-tuples-or ndarrays with different lengths or shapes) is deprecated. If you meant to do this, you must specify 'dtype=object' when creating the ndarray.\n",
      "  values = np.array([convert(v) for v in values])\n"
     ]
    },
    {
     "name": "stdout",
     "output_type": "stream",
     "text": [
      "1/1 [==============================] - 0s 34ms/step\n",
      "[array([[16.]]), array([39.910717], dtype=float32)]\n",
      "1/1 [==============================] - 0s 23ms/step\n",
      "[array([[35.]]), array([27.144064], dtype=float32)]\n"
     ]
    },
    {
     "name": "stderr",
     "output_type": "stream",
     "text": [
      "c:\\Users\\Radityo Fajar\\AppData\\Local\\Programs\\Python\\Python39\\lib\\site-packages\\pandas\\core\\internals\\construction.py:576: VisibleDeprecationWarning: Creating an ndarray from ragged nested sequences (which is a list-or-tuple of lists-or-tuples-or ndarrays with different lengths or shapes) is deprecated. If you meant to do this, you must specify 'dtype=object' when creating the ndarray.\n",
      "  values = np.array([convert(v) for v in values])\n",
      "c:\\Users\\Radityo Fajar\\AppData\\Local\\Programs\\Python\\Python39\\lib\\site-packages\\pandas\\core\\internals\\construction.py:576: VisibleDeprecationWarning: Creating an ndarray from ragged nested sequences (which is a list-or-tuple of lists-or-tuples-or ndarrays with different lengths or shapes) is deprecated. If you meant to do this, you must specify 'dtype=object' when creating the ndarray.\n",
      "  values = np.array([convert(v) for v in values])\n"
     ]
    },
    {
     "name": "stdout",
     "output_type": "stream",
     "text": [
      "1/1 [==============================] - 0s 21ms/step\n",
      "[array([[16.]]), array([32.3439], dtype=float32)]\n",
      "1/1 [==============================] - 0s 22ms/step\n",
      "[array([[12.]]), array([7.179459], dtype=float32)]\n"
     ]
    },
    {
     "name": "stderr",
     "output_type": "stream",
     "text": [
      "c:\\Users\\Radityo Fajar\\AppData\\Local\\Programs\\Python\\Python39\\lib\\site-packages\\pandas\\core\\internals\\construction.py:576: VisibleDeprecationWarning: Creating an ndarray from ragged nested sequences (which is a list-or-tuple of lists-or-tuples-or ndarrays with different lengths or shapes) is deprecated. If you meant to do this, you must specify 'dtype=object' when creating the ndarray.\n",
      "  values = np.array([convert(v) for v in values])\n",
      "c:\\Users\\Radityo Fajar\\AppData\\Local\\Programs\\Python\\Python39\\lib\\site-packages\\pandas\\core\\internals\\construction.py:576: VisibleDeprecationWarning: Creating an ndarray from ragged nested sequences (which is a list-or-tuple of lists-or-tuples-or ndarrays with different lengths or shapes) is deprecated. If you meant to do this, you must specify 'dtype=object' when creating the ndarray.\n",
      "  values = np.array([convert(v) for v in values])\n"
     ]
    },
    {
     "name": "stdout",
     "output_type": "stream",
     "text": [
      "1/1 [==============================] - 0s 23ms/step\n",
      "[array([[2.]]), array([2.7311354], dtype=float32)]\n",
      "1/1 [==============================] - 0s 22ms/step\n",
      "[array([[0.]]), array([0.5198189], dtype=float32)]\n"
     ]
    },
    {
     "name": "stderr",
     "output_type": "stream",
     "text": [
      "c:\\Users\\Radityo Fajar\\AppData\\Local\\Programs\\Python\\Python39\\lib\\site-packages\\pandas\\core\\internals\\construction.py:576: VisibleDeprecationWarning: Creating an ndarray from ragged nested sequences (which is a list-or-tuple of lists-or-tuples-or ndarrays with different lengths or shapes) is deprecated. If you meant to do this, you must specify 'dtype=object' when creating the ndarray.\n",
      "  values = np.array([convert(v) for v in values])\n",
      "c:\\Users\\Radityo Fajar\\AppData\\Local\\Programs\\Python\\Python39\\lib\\site-packages\\pandas\\core\\internals\\construction.py:576: VisibleDeprecationWarning: Creating an ndarray from ragged nested sequences (which is a list-or-tuple of lists-or-tuples-or ndarrays with different lengths or shapes) is deprecated. If you meant to do this, you must specify 'dtype=object' when creating the ndarray.\n",
      "  values = np.array([convert(v) for v in values])\n"
     ]
    },
    {
     "name": "stdout",
     "output_type": "stream",
     "text": [
      "1/1 [==============================] - 0s 35ms/step\n",
      "[array([[0.]]), array([0.65452635], dtype=float32)]\n",
      "1/1 [==============================] - 0s 24ms/step\n"
     ]
    },
    {
     "name": "stderr",
     "output_type": "stream",
     "text": [
      "c:\\Users\\Radityo Fajar\\AppData\\Local\\Programs\\Python\\Python39\\lib\\site-packages\\pandas\\core\\internals\\construction.py:576: VisibleDeprecationWarning: Creating an ndarray from ragged nested sequences (which is a list-or-tuple of lists-or-tuples-or ndarrays with different lengths or shapes) is deprecated. If you meant to do this, you must specify 'dtype=object' when creating the ndarray.\n",
      "  values = np.array([convert(v) for v in values])\n",
      "c:\\Users\\Radityo Fajar\\AppData\\Local\\Programs\\Python\\Python39\\lib\\site-packages\\pandas\\core\\internals\\construction.py:576: VisibleDeprecationWarning: Creating an ndarray from ragged nested sequences (which is a list-or-tuple of lists-or-tuples-or ndarrays with different lengths or shapes) is deprecated. If you meant to do this, you must specify 'dtype=object' when creating the ndarray.\n",
      "  values = np.array([convert(v) for v in values])\n"
     ]
    },
    {
     "name": "stdout",
     "output_type": "stream",
     "text": [
      "[array([[0.]]), array([0.64562714], dtype=float32)]\n",
      "1/1 [==============================] - 0s 22ms/step\n",
      "[array([[0.]]), array([0.6714725], dtype=float32)]\n",
      "1/1 [==============================] - 0s 24ms/step\n",
      "[array([[0.]]), array([0.58199316], dtype=float32)]\n"
     ]
    },
    {
     "name": "stderr",
     "output_type": "stream",
     "text": [
      "c:\\Users\\Radityo Fajar\\AppData\\Local\\Programs\\Python\\Python39\\lib\\site-packages\\pandas\\core\\internals\\construction.py:576: VisibleDeprecationWarning: Creating an ndarray from ragged nested sequences (which is a list-or-tuple of lists-or-tuples-or ndarrays with different lengths or shapes) is deprecated. If you meant to do this, you must specify 'dtype=object' when creating the ndarray.\n",
      "  values = np.array([convert(v) for v in values])\n",
      "c:\\Users\\Radityo Fajar\\AppData\\Local\\Programs\\Python\\Python39\\lib\\site-packages\\pandas\\core\\internals\\construction.py:576: VisibleDeprecationWarning: Creating an ndarray from ragged nested sequences (which is a list-or-tuple of lists-or-tuples-or ndarrays with different lengths or shapes) is deprecated. If you meant to do this, you must specify 'dtype=object' when creating the ndarray.\n",
      "  values = np.array([convert(v) for v in values])\n"
     ]
    },
    {
     "name": "stdout",
     "output_type": "stream",
     "text": [
      "1/1 [==============================] - 0s 22ms/step\n",
      "[array([[2.]]), array([1.9277836], dtype=float32)]\n",
      "1/1 [==============================] - 0s 21ms/step\n"
     ]
    },
    {
     "name": "stderr",
     "output_type": "stream",
     "text": [
      "c:\\Users\\Radityo Fajar\\AppData\\Local\\Programs\\Python\\Python39\\lib\\site-packages\\pandas\\core\\internals\\construction.py:576: VisibleDeprecationWarning: Creating an ndarray from ragged nested sequences (which is a list-or-tuple of lists-or-tuples-or ndarrays with different lengths or shapes) is deprecated. If you meant to do this, you must specify 'dtype=object' when creating the ndarray.\n",
      "  values = np.array([convert(v) for v in values])\n",
      "c:\\Users\\Radityo Fajar\\AppData\\Local\\Programs\\Python\\Python39\\lib\\site-packages\\pandas\\core\\internals\\construction.py:576: VisibleDeprecationWarning: Creating an ndarray from ragged nested sequences (which is a list-or-tuple of lists-or-tuples-or ndarrays with different lengths or shapes) is deprecated. If you meant to do this, you must specify 'dtype=object' when creating the ndarray.\n",
      "  values = np.array([convert(v) for v in values])\n"
     ]
    },
    {
     "name": "stdout",
     "output_type": "stream",
     "text": [
      "[array([[8.]]), array([8.85523], dtype=float32)]\n",
      "1/1 [==============================] - 0s 22ms/step\n",
      "[array([[11.]]), array([20.130228], dtype=float32)]\n",
      "1/1 [==============================] - 0s 25ms/step\n"
     ]
    },
    {
     "name": "stderr",
     "output_type": "stream",
     "text": [
      "c:\\Users\\Radityo Fajar\\AppData\\Local\\Programs\\Python\\Python39\\lib\\site-packages\\pandas\\core\\internals\\construction.py:576: VisibleDeprecationWarning: Creating an ndarray from ragged nested sequences (which is a list-or-tuple of lists-or-tuples-or ndarrays with different lengths or shapes) is deprecated. If you meant to do this, you must specify 'dtype=object' when creating the ndarray.\n",
      "  values = np.array([convert(v) for v in values])\n",
      "c:\\Users\\Radityo Fajar\\AppData\\Local\\Programs\\Python\\Python39\\lib\\site-packages\\pandas\\core\\internals\\construction.py:576: VisibleDeprecationWarning: Creating an ndarray from ragged nested sequences (which is a list-or-tuple of lists-or-tuples-or ndarrays with different lengths or shapes) is deprecated. If you meant to do this, you must specify 'dtype=object' when creating the ndarray.\n",
      "  values = np.array([convert(v) for v in values])\n"
     ]
    },
    {
     "name": "stdout",
     "output_type": "stream",
     "text": [
      "[array([[10.]]), array([28.671415], dtype=float32)]\n",
      "1/1 [==============================] - 0s 20ms/step\n",
      "[array([[19.]]), array([15.046977], dtype=float32)]\n",
      "1/1 [==============================] - 0s 21ms/step\n",
      "[array([[10.]]), array([8.359798], dtype=float32)]\n"
     ]
    },
    {
     "name": "stderr",
     "output_type": "stream",
     "text": [
      "c:\\Users\\Radityo Fajar\\AppData\\Local\\Programs\\Python\\Python39\\lib\\site-packages\\pandas\\core\\internals\\construction.py:576: VisibleDeprecationWarning: Creating an ndarray from ragged nested sequences (which is a list-or-tuple of lists-or-tuples-or ndarrays with different lengths or shapes) is deprecated. If you meant to do this, you must specify 'dtype=object' when creating the ndarray.\n",
      "  values = np.array([convert(v) for v in values])\n",
      "c:\\Users\\Radityo Fajar\\AppData\\Local\\Programs\\Python\\Python39\\lib\\site-packages\\pandas\\core\\internals\\construction.py:576: VisibleDeprecationWarning: Creating an ndarray from ragged nested sequences (which is a list-or-tuple of lists-or-tuples-or ndarrays with different lengths or shapes) is deprecated. If you meant to do this, you must specify 'dtype=object' when creating the ndarray.\n",
      "  values = np.array([convert(v) for v in values])\n"
     ]
    },
    {
     "name": "stdout",
     "output_type": "stream",
     "text": [
      "1/1 [==============================] - 0s 24ms/step\n",
      "[array([[2.]]), array([2.5597942], dtype=float32)]\n",
      "1/1 [==============================] - 0s 23ms/step\n"
     ]
    },
    {
     "name": "stderr",
     "output_type": "stream",
     "text": [
      "c:\\Users\\Radityo Fajar\\AppData\\Local\\Programs\\Python\\Python39\\lib\\site-packages\\pandas\\core\\internals\\construction.py:576: VisibleDeprecationWarning: Creating an ndarray from ragged nested sequences (which is a list-or-tuple of lists-or-tuples-or ndarrays with different lengths or shapes) is deprecated. If you meant to do this, you must specify 'dtype=object' when creating the ndarray.\n",
      "  values = np.array([convert(v) for v in values])\n",
      "c:\\Users\\Radityo Fajar\\AppData\\Local\\Programs\\Python\\Python39\\lib\\site-packages\\pandas\\core\\internals\\construction.py:576: VisibleDeprecationWarning: Creating an ndarray from ragged nested sequences (which is a list-or-tuple of lists-or-tuples-or ndarrays with different lengths or shapes) is deprecated. If you meant to do this, you must specify 'dtype=object' when creating the ndarray.\n",
      "  values = np.array([convert(v) for v in values])\n"
     ]
    },
    {
     "name": "stdout",
     "output_type": "stream",
     "text": [
      "[array([[0.]]), array([0.6155875], dtype=float32)]\n",
      "1/1 [==============================] - 0s 41ms/step\n",
      "[array([[0.]]), array([0.55593187], dtype=float32)]\n",
      "1/1 [==============================] - 0s 21ms/step\n",
      "[array([[0.]]), array([0.6401001], dtype=float32)]\n"
     ]
    },
    {
     "name": "stderr",
     "output_type": "stream",
     "text": [
      "c:\\Users\\Radityo Fajar\\AppData\\Local\\Programs\\Python\\Python39\\lib\\site-packages\\pandas\\core\\internals\\construction.py:576: VisibleDeprecationWarning: Creating an ndarray from ragged nested sequences (which is a list-or-tuple of lists-or-tuples-or ndarrays with different lengths or shapes) is deprecated. If you meant to do this, you must specify 'dtype=object' when creating the ndarray.\n",
      "  values = np.array([convert(v) for v in values])\n",
      "c:\\Users\\Radityo Fajar\\AppData\\Local\\Programs\\Python\\Python39\\lib\\site-packages\\pandas\\core\\internals\\construction.py:576: VisibleDeprecationWarning: Creating an ndarray from ragged nested sequences (which is a list-or-tuple of lists-or-tuples-or ndarrays with different lengths or shapes) is deprecated. If you meant to do this, you must specify 'dtype=object' when creating the ndarray.\n",
      "  values = np.array([convert(v) for v in values])\n"
     ]
    },
    {
     "name": "stdout",
     "output_type": "stream",
     "text": [
      "1/1 [==============================] - 0s 21ms/step\n",
      "[array([[0.]]), array([0.62983936], dtype=float32)]\n",
      "1/1 [==============================] - 0s 21ms/step\n",
      "[array([[0.]]), array([1.0147359], dtype=float32)]\n"
     ]
    },
    {
     "name": "stderr",
     "output_type": "stream",
     "text": [
      "c:\\Users\\Radityo Fajar\\AppData\\Local\\Programs\\Python\\Python39\\lib\\site-packages\\pandas\\core\\internals\\construction.py:576: VisibleDeprecationWarning: Creating an ndarray from ragged nested sequences (which is a list-or-tuple of lists-or-tuples-or ndarrays with different lengths or shapes) is deprecated. If you meant to do this, you must specify 'dtype=object' when creating the ndarray.\n",
      "  values = np.array([convert(v) for v in values])\n",
      "c:\\Users\\Radityo Fajar\\AppData\\Local\\Programs\\Python\\Python39\\lib\\site-packages\\pandas\\core\\internals\\construction.py:576: VisibleDeprecationWarning: Creating an ndarray from ragged nested sequences (which is a list-or-tuple of lists-or-tuples-or ndarrays with different lengths or shapes) is deprecated. If you meant to do this, you must specify 'dtype=object' when creating the ndarray.\n",
      "  values = np.array([convert(v) for v in values])\n"
     ]
    },
    {
     "name": "stdout",
     "output_type": "stream",
     "text": [
      "1/1 [==============================] - 0s 21ms/step\n",
      "[array([[2.]]), array([0.57543945], dtype=float32)]\n",
      "1/1 [==============================] - 0s 22ms/step\n",
      "[array([[26.]]), array([18.403326], dtype=float32)]\n"
     ]
    },
    {
     "name": "stderr",
     "output_type": "stream",
     "text": [
      "c:\\Users\\Radityo Fajar\\AppData\\Local\\Programs\\Python\\Python39\\lib\\site-packages\\pandas\\core\\internals\\construction.py:576: VisibleDeprecationWarning: Creating an ndarray from ragged nested sequences (which is a list-or-tuple of lists-or-tuples-or ndarrays with different lengths or shapes) is deprecated. If you meant to do this, you must specify 'dtype=object' when creating the ndarray.\n",
      "  values = np.array([convert(v) for v in values])\n",
      "c:\\Users\\Radityo Fajar\\AppData\\Local\\Programs\\Python\\Python39\\lib\\site-packages\\pandas\\core\\internals\\construction.py:576: VisibleDeprecationWarning: Creating an ndarray from ragged nested sequences (which is a list-or-tuple of lists-or-tuples-or ndarrays with different lengths or shapes) is deprecated. If you meant to do this, you must specify 'dtype=object' when creating the ndarray.\n",
      "  values = np.array([convert(v) for v in values])\n"
     ]
    },
    {
     "name": "stdout",
     "output_type": "stream",
     "text": [
      "1/1 [==============================] - 0s 33ms/step\n",
      "[array([[65.]]), array([55.57662], dtype=float32)]\n",
      "1/1 [==============================] - 0s 21ms/step\n",
      "[array([[74.]]), array([78.699066], dtype=float32)]\n"
     ]
    },
    {
     "name": "stderr",
     "output_type": "stream",
     "text": [
      "c:\\Users\\Radityo Fajar\\AppData\\Local\\Programs\\Python\\Python39\\lib\\site-packages\\pandas\\core\\internals\\construction.py:576: VisibleDeprecationWarning: Creating an ndarray from ragged nested sequences (which is a list-or-tuple of lists-or-tuples-or ndarrays with different lengths or shapes) is deprecated. If you meant to do this, you must specify 'dtype=object' when creating the ndarray.\n",
      "  values = np.array([convert(v) for v in values])\n",
      "c:\\Users\\Radityo Fajar\\AppData\\Local\\Programs\\Python\\Python39\\lib\\site-packages\\pandas\\core\\internals\\construction.py:576: VisibleDeprecationWarning: Creating an ndarray from ragged nested sequences (which is a list-or-tuple of lists-or-tuples-or ndarrays with different lengths or shapes) is deprecated. If you meant to do this, you must specify 'dtype=object' when creating the ndarray.\n",
      "  values = np.array([convert(v) for v in values])\n"
     ]
    },
    {
     "name": "stdout",
     "output_type": "stream",
     "text": [
      "1/1 [==============================] - 0s 20ms/step\n",
      "[array([[68.]]), array([60.149925], dtype=float32)]\n",
      "1/1 [==============================] - 0s 22ms/step\n",
      "[array([[31.]]), array([30.73922], dtype=float32)]\n"
     ]
    },
    {
     "name": "stderr",
     "output_type": "stream",
     "text": [
      "c:\\Users\\Radityo Fajar\\AppData\\Local\\Programs\\Python\\Python39\\lib\\site-packages\\pandas\\core\\internals\\construction.py:576: VisibleDeprecationWarning: Creating an ndarray from ragged nested sequences (which is a list-or-tuple of lists-or-tuples-or ndarrays with different lengths or shapes) is deprecated. If you meant to do this, you must specify 'dtype=object' when creating the ndarray.\n",
      "  values = np.array([convert(v) for v in values])\n",
      "c:\\Users\\Radityo Fajar\\AppData\\Local\\Programs\\Python\\Python39\\lib\\site-packages\\pandas\\core\\internals\\construction.py:576: VisibleDeprecationWarning: Creating an ndarray from ragged nested sequences (which is a list-or-tuple of lists-or-tuples-or ndarrays with different lengths or shapes) is deprecated. If you meant to do this, you must specify 'dtype=object' when creating the ndarray.\n",
      "  values = np.array([convert(v) for v in values])\n"
     ]
    },
    {
     "name": "stdout",
     "output_type": "stream",
     "text": [
      "1/1 [==============================] - 0s 21ms/step\n",
      "[array([[4.]]), array([2.814635], dtype=float32)]\n",
      "1/1 [==============================] - 0s 23ms/step\n"
     ]
    },
    {
     "name": "stderr",
     "output_type": "stream",
     "text": [
      "c:\\Users\\Radityo Fajar\\AppData\\Local\\Programs\\Python\\Python39\\lib\\site-packages\\pandas\\core\\internals\\construction.py:576: VisibleDeprecationWarning: Creating an ndarray from ragged nested sequences (which is a list-or-tuple of lists-or-tuples-or ndarrays with different lengths or shapes) is deprecated. If you meant to do this, you must specify 'dtype=object' when creating the ndarray.\n",
      "  values = np.array([convert(v) for v in values])\n",
      "c:\\Users\\Radityo Fajar\\AppData\\Local\\Programs\\Python\\Python39\\lib\\site-packages\\pandas\\core\\internals\\construction.py:576: VisibleDeprecationWarning: Creating an ndarray from ragged nested sequences (which is a list-or-tuple of lists-or-tuples-or ndarrays with different lengths or shapes) is deprecated. If you meant to do this, you must specify 'dtype=object' when creating the ndarray.\n",
      "  values = np.array([convert(v) for v in values])\n"
     ]
    },
    {
     "name": "stdout",
     "output_type": "stream",
     "text": [
      "[array([[0.]]), array([0.73804206], dtype=float32)]\n",
      "1/1 [==============================] - 0s 24ms/step\n",
      "[array([[0.]]), array([0.6954273], dtype=float32)]\n",
      "1/1 [==============================] - 0s 21ms/step\n",
      "[array([[0.]]), array([0.6850719], dtype=float32)]\n"
     ]
    },
    {
     "name": "stderr",
     "output_type": "stream",
     "text": [
      "c:\\Users\\Radityo Fajar\\AppData\\Local\\Programs\\Python\\Python39\\lib\\site-packages\\pandas\\core\\internals\\construction.py:576: VisibleDeprecationWarning: Creating an ndarray from ragged nested sequences (which is a list-or-tuple of lists-or-tuples-or ndarrays with different lengths or shapes) is deprecated. If you meant to do this, you must specify 'dtype=object' when creating the ndarray.\n",
      "  values = np.array([convert(v) for v in values])\n",
      "c:\\Users\\Radityo Fajar\\AppData\\Local\\Programs\\Python\\Python39\\lib\\site-packages\\pandas\\core\\internals\\construction.py:576: VisibleDeprecationWarning: Creating an ndarray from ragged nested sequences (which is a list-or-tuple of lists-or-tuples-or ndarrays with different lengths or shapes) is deprecated. If you meant to do this, you must specify 'dtype=object' when creating the ndarray.\n",
      "  values = np.array([convert(v) for v in values])\n"
     ]
    },
    {
     "name": "stdout",
     "output_type": "stream",
     "text": [
      "1/1 [==============================] - 0s 22ms/step\n",
      "[array([[0.]]), array([0.7520641], dtype=float32)]\n",
      "1/1 [==============================] - 0s 21ms/step\n",
      "[array([[0.]]), array([0.7312066], dtype=float32)]\n"
     ]
    },
    {
     "name": "stderr",
     "output_type": "stream",
     "text": [
      "c:\\Users\\Radityo Fajar\\AppData\\Local\\Programs\\Python\\Python39\\lib\\site-packages\\pandas\\core\\internals\\construction.py:576: VisibleDeprecationWarning: Creating an ndarray from ragged nested sequences (which is a list-or-tuple of lists-or-tuples-or ndarrays with different lengths or shapes) is deprecated. If you meant to do this, you must specify 'dtype=object' when creating the ndarray.\n",
      "  values = np.array([convert(v) for v in values])\n",
      "c:\\Users\\Radityo Fajar\\AppData\\Local\\Programs\\Python\\Python39\\lib\\site-packages\\pandas\\core\\internals\\construction.py:576: VisibleDeprecationWarning: Creating an ndarray from ragged nested sequences (which is a list-or-tuple of lists-or-tuples-or ndarrays with different lengths or shapes) is deprecated. If you meant to do this, you must specify 'dtype=object' when creating the ndarray.\n",
      "  values = np.array([convert(v) for v in values])\n"
     ]
    },
    {
     "name": "stdout",
     "output_type": "stream",
     "text": [
      "1/1 [==============================] - 0s 21ms/step\n",
      "[array([[6.]]), array([1.2659991], dtype=float32)]\n",
      "1/1 [==============================] - 0s 21ms/step\n",
      "[array([[25.]]), array([37.97605], dtype=float32)]\n"
     ]
    },
    {
     "name": "stderr",
     "output_type": "stream",
     "text": [
      "c:\\Users\\Radityo Fajar\\AppData\\Local\\Programs\\Python\\Python39\\lib\\site-packages\\pandas\\core\\internals\\construction.py:576: VisibleDeprecationWarning: Creating an ndarray from ragged nested sequences (which is a list-or-tuple of lists-or-tuples-or ndarrays with different lengths or shapes) is deprecated. If you meant to do this, you must specify 'dtype=object' when creating the ndarray.\n",
      "  values = np.array([convert(v) for v in values])\n",
      "c:\\Users\\Radityo Fajar\\AppData\\Local\\Programs\\Python\\Python39\\lib\\site-packages\\pandas\\core\\internals\\construction.py:576: VisibleDeprecationWarning: Creating an ndarray from ragged nested sequences (which is a list-or-tuple of lists-or-tuples-or ndarrays with different lengths or shapes) is deprecated. If you meant to do this, you must specify 'dtype=object' when creating the ndarray.\n",
      "  values = np.array([convert(v) for v in values])\n"
     ]
    },
    {
     "name": "stdout",
     "output_type": "stream",
     "text": [
      "1/1 [==============================] - 0s 64ms/step\n",
      "[array([[44.]]), array([43.834686], dtype=float32)]\n",
      "1/1 [==============================] - 0s 29ms/step\n"
     ]
    },
    {
     "name": "stderr",
     "output_type": "stream",
     "text": [
      "c:\\Users\\Radityo Fajar\\AppData\\Local\\Programs\\Python\\Python39\\lib\\site-packages\\pandas\\core\\internals\\construction.py:576: VisibleDeprecationWarning: Creating an ndarray from ragged nested sequences (which is a list-or-tuple of lists-or-tuples-or ndarrays with different lengths or shapes) is deprecated. If you meant to do this, you must specify 'dtype=object' when creating the ndarray.\n",
      "  values = np.array([convert(v) for v in values])\n"
     ]
    },
    {
     "name": "stdout",
     "output_type": "stream",
     "text": [
      "[array([[52.]]), array([51.522697], dtype=float32)]\n",
      "1/1 [==============================] - 0s 32ms/step\n"
     ]
    },
    {
     "name": "stderr",
     "output_type": "stream",
     "text": [
      "c:\\Users\\Radityo Fajar\\AppData\\Local\\Programs\\Python\\Python39\\lib\\site-packages\\pandas\\core\\internals\\construction.py:576: VisibleDeprecationWarning: Creating an ndarray from ragged nested sequences (which is a list-or-tuple of lists-or-tuples-or ndarrays with different lengths or shapes) is deprecated. If you meant to do this, you must specify 'dtype=object' when creating the ndarray.\n",
      "  values = np.array([convert(v) for v in values])\n",
      "c:\\Users\\Radityo Fajar\\AppData\\Local\\Programs\\Python\\Python39\\lib\\site-packages\\pandas\\core\\internals\\construction.py:576: VisibleDeprecationWarning: Creating an ndarray from ragged nested sequences (which is a list-or-tuple of lists-or-tuples-or ndarrays with different lengths or shapes) is deprecated. If you meant to do this, you must specify 'dtype=object' when creating the ndarray.\n",
      "  values = np.array([convert(v) for v in values])\n"
     ]
    },
    {
     "name": "stdout",
     "output_type": "stream",
     "text": [
      "[array([[21.]]), array([37.40324], dtype=float32)]\n",
      "1/1 [==============================] - 0s 30ms/step\n",
      "[array([[8.]]), array([13.787834], dtype=float32)]\n",
      "1/1 [==============================] - 0s 27ms/step\n"
     ]
    },
    {
     "name": "stderr",
     "output_type": "stream",
     "text": [
      "c:\\Users\\Radityo Fajar\\AppData\\Local\\Programs\\Python\\Python39\\lib\\site-packages\\pandas\\core\\internals\\construction.py:576: VisibleDeprecationWarning: Creating an ndarray from ragged nested sequences (which is a list-or-tuple of lists-or-tuples-or ndarrays with different lengths or shapes) is deprecated. If you meant to do this, you must specify 'dtype=object' when creating the ndarray.\n",
      "  values = np.array([convert(v) for v in values])\n",
      "c:\\Users\\Radityo Fajar\\AppData\\Local\\Programs\\Python\\Python39\\lib\\site-packages\\pandas\\core\\internals\\construction.py:576: VisibleDeprecationWarning: Creating an ndarray from ragged nested sequences (which is a list-or-tuple of lists-or-tuples-or ndarrays with different lengths or shapes) is deprecated. If you meant to do this, you must specify 'dtype=object' when creating the ndarray.\n",
      "  values = np.array([convert(v) for v in values])\n"
     ]
    },
    {
     "name": "stdout",
     "output_type": "stream",
     "text": [
      "[array([[0.]]), array([2.4041042], dtype=float32)]\n",
      "1/1 [==============================] - 0s 45ms/step\n",
      "[array([[0.]]), array([0.6225015], dtype=float32)]\n"
     ]
    },
    {
     "name": "stderr",
     "output_type": "stream",
     "text": [
      "c:\\Users\\Radityo Fajar\\AppData\\Local\\Programs\\Python\\Python39\\lib\\site-packages\\pandas\\core\\internals\\construction.py:576: VisibleDeprecationWarning: Creating an ndarray from ragged nested sequences (which is a list-or-tuple of lists-or-tuples-or ndarrays with different lengths or shapes) is deprecated. If you meant to do this, you must specify 'dtype=object' when creating the ndarray.\n",
      "  values = np.array([convert(v) for v in values])\n"
     ]
    },
    {
     "name": "stdout",
     "output_type": "stream",
     "text": [
      "1/1 [==============================] - 0s 37ms/step\n",
      "[array([[0.]]), array([0.68563426], dtype=float32)]\n",
      "1/1 [==============================] - ETA: 0s"
     ]
    },
    {
     "name": "stderr",
     "output_type": "stream",
     "text": [
      "c:\\Users\\Radityo Fajar\\AppData\\Local\\Programs\\Python\\Python39\\lib\\site-packages\\pandas\\core\\internals\\construction.py:576: VisibleDeprecationWarning: Creating an ndarray from ragged nested sequences (which is a list-or-tuple of lists-or-tuples-or ndarrays with different lengths or shapes) is deprecated. If you meant to do this, you must specify 'dtype=object' when creating the ndarray.\n",
      "  values = np.array([convert(v) for v in values])\n"
     ]
    },
    {
     "name": "stdout",
     "output_type": "stream",
     "text": [
      "1/1 [==============================] - 0s 31ms/step\n",
      "[array([[0.]]), array([0.6699943], dtype=float32)]\n",
      "1/1 [==============================] - 0s 25ms/step\n"
     ]
    },
    {
     "name": "stderr",
     "output_type": "stream",
     "text": [
      "c:\\Users\\Radityo Fajar\\AppData\\Local\\Programs\\Python\\Python39\\lib\\site-packages\\pandas\\core\\internals\\construction.py:576: VisibleDeprecationWarning: Creating an ndarray from ragged nested sequences (which is a list-or-tuple of lists-or-tuples-or ndarrays with different lengths or shapes) is deprecated. If you meant to do this, you must specify 'dtype=object' when creating the ndarray.\n",
      "  values = np.array([convert(v) for v in values])\n"
     ]
    },
    {
     "name": "stdout",
     "output_type": "stream",
     "text": [
      "[array([[0.]]), array([0.55954766], dtype=float32)]\n",
      "1/1 [==============================] - 0s 26ms/step\n"
     ]
    },
    {
     "name": "stderr",
     "output_type": "stream",
     "text": [
      "c:\\Users\\Radityo Fajar\\AppData\\Local\\Programs\\Python\\Python39\\lib\\site-packages\\pandas\\core\\internals\\construction.py:576: VisibleDeprecationWarning: Creating an ndarray from ragged nested sequences (which is a list-or-tuple of lists-or-tuples-or ndarrays with different lengths or shapes) is deprecated. If you meant to do this, you must specify 'dtype=object' when creating the ndarray.\n",
      "  values = np.array([convert(v) for v in values])\n",
      "c:\\Users\\Radityo Fajar\\AppData\\Local\\Programs\\Python\\Python39\\lib\\site-packages\\pandas\\core\\internals\\construction.py:576: VisibleDeprecationWarning: Creating an ndarray from ragged nested sequences (which is a list-or-tuple of lists-or-tuples-or ndarrays with different lengths or shapes) is deprecated. If you meant to do this, you must specify 'dtype=object' when creating the ndarray.\n",
      "  values = np.array([convert(v) for v in values])\n"
     ]
    },
    {
     "name": "stdout",
     "output_type": "stream",
     "text": [
      "[array([[0.]]), array([0.71156967], dtype=float32)]\n",
      "1/1 [==============================] - 0s 45ms/step\n",
      "[array([[5.]]), array([9.981197], dtype=float32)]\n",
      "1/1 [==============================] - 0s 30ms/step\n"
     ]
    },
    {
     "name": "stderr",
     "output_type": "stream",
     "text": [
      "c:\\Users\\Radityo Fajar\\AppData\\Local\\Programs\\Python\\Python39\\lib\\site-packages\\pandas\\core\\internals\\construction.py:576: VisibleDeprecationWarning: Creating an ndarray from ragged nested sequences (which is a list-or-tuple of lists-or-tuples-or ndarrays with different lengths or shapes) is deprecated. If you meant to do this, you must specify 'dtype=object' when creating the ndarray.\n",
      "  values = np.array([convert(v) for v in values])\n",
      "c:\\Users\\Radityo Fajar\\AppData\\Local\\Programs\\Python\\Python39\\lib\\site-packages\\pandas\\core\\internals\\construction.py:576: VisibleDeprecationWarning: Creating an ndarray from ragged nested sequences (which is a list-or-tuple of lists-or-tuples-or ndarrays with different lengths or shapes) is deprecated. If you meant to do this, you must specify 'dtype=object' when creating the ndarray.\n",
      "  values = np.array([convert(v) for v in values])\n"
     ]
    },
    {
     "name": "stdout",
     "output_type": "stream",
     "text": [
      "[array([[24.]]), array([14.364128], dtype=float32)]\n",
      "1/1 [==============================] - 0s 39ms/step\n",
      "[array([[52.]]), array([34.973385], dtype=float32)]\n",
      "1/1 [==============================] - ETA: 0s"
     ]
    },
    {
     "name": "stderr",
     "output_type": "stream",
     "text": [
      "c:\\Users\\Radityo Fajar\\AppData\\Local\\Programs\\Python\\Python39\\lib\\site-packages\\pandas\\core\\internals\\construction.py:576: VisibleDeprecationWarning: Creating an ndarray from ragged nested sequences (which is a list-or-tuple of lists-or-tuples-or ndarrays with different lengths or shapes) is deprecated. If you meant to do this, you must specify 'dtype=object' when creating the ndarray.\n",
      "  values = np.array([convert(v) for v in values])\n"
     ]
    },
    {
     "name": "stdout",
     "output_type": "stream",
     "text": [
      "1/1 [==============================] - 0s 25ms/step\n",
      "[array([[63.]]), array([44.161858], dtype=float32)]\n",
      "1/1 [==============================] - 0s 28ms/step\n"
     ]
    },
    {
     "name": "stderr",
     "output_type": "stream",
     "text": [
      "c:\\Users\\Radityo Fajar\\AppData\\Local\\Programs\\Python\\Python39\\lib\\site-packages\\pandas\\core\\internals\\construction.py:576: VisibleDeprecationWarning: Creating an ndarray from ragged nested sequences (which is a list-or-tuple of lists-or-tuples-or ndarrays with different lengths or shapes) is deprecated. If you meant to do this, you must specify 'dtype=object' when creating the ndarray.\n",
      "  values = np.array([convert(v) for v in values])\n"
     ]
    },
    {
     "name": "stdout",
     "output_type": "stream",
     "text": [
      "[array([[38.]]), array([43.9525], dtype=float32)]\n",
      "1/1 [==============================] - 0s 25ms/step\n"
     ]
    },
    {
     "name": "stderr",
     "output_type": "stream",
     "text": [
      "c:\\Users\\Radityo Fajar\\AppData\\Local\\Programs\\Python\\Python39\\lib\\site-packages\\pandas\\core\\internals\\construction.py:576: VisibleDeprecationWarning: Creating an ndarray from ragged nested sequences (which is a list-or-tuple of lists-or-tuples-or ndarrays with different lengths or shapes) is deprecated. If you meant to do this, you must specify 'dtype=object' when creating the ndarray.\n",
      "  values = np.array([convert(v) for v in values])\n"
     ]
    },
    {
     "name": "stdout",
     "output_type": "stream",
     "text": [
      "[array([[22.]]), array([11.071461], dtype=float32)]\n",
      "1/1 [==============================] - ETA: 0s"
     ]
    },
    {
     "name": "stderr",
     "output_type": "stream",
     "text": [
      "c:\\Users\\Radityo Fajar\\AppData\\Local\\Programs\\Python\\Python39\\lib\\site-packages\\pandas\\core\\internals\\construction.py:576: VisibleDeprecationWarning: Creating an ndarray from ragged nested sequences (which is a list-or-tuple of lists-or-tuples-or ndarrays with different lengths or shapes) is deprecated. If you meant to do this, you must specify 'dtype=object' when creating the ndarray.\n",
      "  values = np.array([convert(v) for v in values])\n"
     ]
    },
    {
     "name": "stdout",
     "output_type": "stream",
     "text": [
      "1/1 [==============================] - 0s 31ms/step\n",
      "[array([[1.]]), array([2.0308578], dtype=float32)]\n"
     ]
    },
    {
     "name": "stderr",
     "output_type": "stream",
     "text": [
      "c:\\Users\\Radityo Fajar\\AppData\\Local\\Programs\\Python\\Python39\\lib\\site-packages\\pandas\\core\\internals\\construction.py:576: VisibleDeprecationWarning: Creating an ndarray from ragged nested sequences (which is a list-or-tuple of lists-or-tuples-or ndarrays with different lengths or shapes) is deprecated. If you meant to do this, you must specify 'dtype=object' when creating the ndarray.\n",
      "  values = np.array([convert(v) for v in values])\n"
     ]
    },
    {
     "name": "stdout",
     "output_type": "stream",
     "text": [
      "1/1 [==============================] - 0s 36ms/step\n",
      "[array([[0.]]), array([0.36065882], dtype=float32)]\n",
      "1/1 [==============================] - 0s 27ms/step\n"
     ]
    },
    {
     "name": "stderr",
     "output_type": "stream",
     "text": [
      "c:\\Users\\Radityo Fajar\\AppData\\Local\\Programs\\Python\\Python39\\lib\\site-packages\\pandas\\core\\internals\\construction.py:576: VisibleDeprecationWarning: Creating an ndarray from ragged nested sequences (which is a list-or-tuple of lists-or-tuples-or ndarrays with different lengths or shapes) is deprecated. If you meant to do this, you must specify 'dtype=object' when creating the ndarray.\n",
      "  values = np.array([convert(v) for v in values])\n"
     ]
    },
    {
     "name": "stdout",
     "output_type": "stream",
     "text": [
      "[array([[0.]]), array([0.7739229], dtype=float32)]\n",
      "1/1 [==============================] - ETA: 0s"
     ]
    },
    {
     "name": "stderr",
     "output_type": "stream",
     "text": [
      "c:\\Users\\Radityo Fajar\\AppData\\Local\\Programs\\Python\\Python39\\lib\\site-packages\\pandas\\core\\internals\\construction.py:576: VisibleDeprecationWarning: Creating an ndarray from ragged nested sequences (which is a list-or-tuple of lists-or-tuples-or ndarrays with different lengths or shapes) is deprecated. If you meant to do this, you must specify 'dtype=object' when creating the ndarray.\n",
      "  values = np.array([convert(v) for v in values])\n"
     ]
    },
    {
     "name": "stdout",
     "output_type": "stream",
     "text": [
      "1/1 [==============================] - 0s 36ms/step\n"
     ]
    },
    {
     "name": "stderr",
     "output_type": "stream",
     "text": [
      "c:\\Users\\Radityo Fajar\\AppData\\Local\\Programs\\Python\\Python39\\lib\\site-packages\\pandas\\core\\internals\\construction.py:576: VisibleDeprecationWarning: Creating an ndarray from ragged nested sequences (which is a list-or-tuple of lists-or-tuples-or ndarrays with different lengths or shapes) is deprecated. If you meant to do this, you must specify 'dtype=object' when creating the ndarray.\n",
      "  values = np.array([convert(v) for v in values])\n"
     ]
    },
    {
     "name": "stdout",
     "output_type": "stream",
     "text": [
      "[array([[0.]]), array([0.78487545], dtype=float32)]\n",
      "1/1 [==============================] - 0s 43ms/step\n",
      "[array([[0.]]), array([0.6558151], dtype=float32)]\n",
      "1/1 [==============================] - 0s 25ms/step\n"
     ]
    },
    {
     "name": "stderr",
     "output_type": "stream",
     "text": [
      "c:\\Users\\Radityo Fajar\\AppData\\Local\\Programs\\Python\\Python39\\lib\\site-packages\\pandas\\core\\internals\\construction.py:576: VisibleDeprecationWarning: Creating an ndarray from ragged nested sequences (which is a list-or-tuple of lists-or-tuples-or ndarrays with different lengths or shapes) is deprecated. If you meant to do this, you must specify 'dtype=object' when creating the ndarray.\n",
      "  values = np.array([convert(v) for v in values])\n",
      "c:\\Users\\Radityo Fajar\\AppData\\Local\\Programs\\Python\\Python39\\lib\\site-packages\\pandas\\core\\internals\\construction.py:576: VisibleDeprecationWarning: Creating an ndarray from ragged nested sequences (which is a list-or-tuple of lists-or-tuples-or ndarrays with different lengths or shapes) is deprecated. If you meant to do this, you must specify 'dtype=object' when creating the ndarray.\n",
      "  values = np.array([convert(v) for v in values])\n"
     ]
    },
    {
     "name": "stdout",
     "output_type": "stream",
     "text": [
      "[array([[0.]]), array([0.6271347], dtype=float32)]\n",
      "1/1 [==============================] - 0s 43ms/step\n",
      "[array([[4.]]), array([4.9101176], dtype=float32)]\n",
      "1/1 [==============================] - 0s 24ms/step\n"
     ]
    },
    {
     "name": "stderr",
     "output_type": "stream",
     "text": [
      "c:\\Users\\Radityo Fajar\\AppData\\Local\\Programs\\Python\\Python39\\lib\\site-packages\\pandas\\core\\internals\\construction.py:576: VisibleDeprecationWarning: Creating an ndarray from ragged nested sequences (which is a list-or-tuple of lists-or-tuples-or ndarrays with different lengths or shapes) is deprecated. If you meant to do this, you must specify 'dtype=object' when creating the ndarray.\n",
      "  values = np.array([convert(v) for v in values])\n",
      "c:\\Users\\Radityo Fajar\\AppData\\Local\\Programs\\Python\\Python39\\lib\\site-packages\\pandas\\core\\internals\\construction.py:576: VisibleDeprecationWarning: Creating an ndarray from ragged nested sequences (which is a list-or-tuple of lists-or-tuples-or ndarrays with different lengths or shapes) is deprecated. If you meant to do this, you must specify 'dtype=object' when creating the ndarray.\n",
      "  values = np.array([convert(v) for v in values])\n"
     ]
    },
    {
     "name": "stdout",
     "output_type": "stream",
     "text": [
      "[array([[18.]]), array([16.446558], dtype=float32)]\n",
      "1/1 [==============================] - 0s 61ms/step\n",
      "[array([[53.]]), array([31.132774], dtype=float32)]\n"
     ]
    },
    {
     "name": "stderr",
     "output_type": "stream",
     "text": [
      "c:\\Users\\Radityo Fajar\\AppData\\Local\\Programs\\Python\\Python39\\lib\\site-packages\\pandas\\core\\internals\\construction.py:576: VisibleDeprecationWarning: Creating an ndarray from ragged nested sequences (which is a list-or-tuple of lists-or-tuples-or ndarrays with different lengths or shapes) is deprecated. If you meant to do this, you must specify 'dtype=object' when creating the ndarray.\n",
      "  values = np.array([convert(v) for v in values])\n"
     ]
    },
    {
     "name": "stdout",
     "output_type": "stream",
     "text": [
      "1/1 [==============================] - 0s 40ms/step\n",
      "[array([[67.]]), array([54.16618], dtype=float32)]\n",
      "1/1 [==============================] - ETA: 0s"
     ]
    },
    {
     "name": "stderr",
     "output_type": "stream",
     "text": [
      "c:\\Users\\Radityo Fajar\\AppData\\Local\\Programs\\Python\\Python39\\lib\\site-packages\\pandas\\core\\internals\\construction.py:576: VisibleDeprecationWarning: Creating an ndarray from ragged nested sequences (which is a list-or-tuple of lists-or-tuples-or ndarrays with different lengths or shapes) is deprecated. If you meant to do this, you must specify 'dtype=object' when creating the ndarray.\n",
      "  values = np.array([convert(v) for v in values])\n"
     ]
    },
    {
     "name": "stdout",
     "output_type": "stream",
     "text": [
      "1/1 [==============================] - 0s 29ms/step\n",
      "[array([[38.]]), array([47.891968], dtype=float32)]\n",
      "1/1 [==============================] - ETA: 0s"
     ]
    },
    {
     "name": "stderr",
     "output_type": "stream",
     "text": [
      "c:\\Users\\Radityo Fajar\\AppData\\Local\\Programs\\Python\\Python39\\lib\\site-packages\\pandas\\core\\internals\\construction.py:576: VisibleDeprecationWarning: Creating an ndarray from ragged nested sequences (which is a list-or-tuple of lists-or-tuples-or ndarrays with different lengths or shapes) is deprecated. If you meant to do this, you must specify 'dtype=object' when creating the ndarray.\n",
      "  values = np.array([convert(v) for v in values])\n"
     ]
    },
    {
     "name": "stdout",
     "output_type": "stream",
     "text": [
      "1/1 [==============================] - 0s 33ms/step\n",
      "[array([[23.]]), array([17.645388], dtype=float32)]\n"
     ]
    },
    {
     "name": "stderr",
     "output_type": "stream",
     "text": [
      "c:\\Users\\Radityo Fajar\\AppData\\Local\\Programs\\Python\\Python39\\lib\\site-packages\\pandas\\core\\internals\\construction.py:576: VisibleDeprecationWarning: Creating an ndarray from ragged nested sequences (which is a list-or-tuple of lists-or-tuples-or ndarrays with different lengths or shapes) is deprecated. If you meant to do this, you must specify 'dtype=object' when creating the ndarray.\n",
      "  values = np.array([convert(v) for v in values])\n"
     ]
    },
    {
     "name": "stdout",
     "output_type": "stream",
     "text": [
      "1/1 [==============================] - 0s 41ms/step\n",
      "[array([[2.]]), array([2.2825146], dtype=float32)]\n"
     ]
    },
    {
     "name": "stderr",
     "output_type": "stream",
     "text": [
      "c:\\Users\\Radityo Fajar\\AppData\\Local\\Programs\\Python\\Python39\\lib\\site-packages\\pandas\\core\\internals\\construction.py:576: VisibleDeprecationWarning: Creating an ndarray from ragged nested sequences (which is a list-or-tuple of lists-or-tuples-or ndarrays with different lengths or shapes) is deprecated. If you meant to do this, you must specify 'dtype=object' when creating the ndarray.\n",
      "  values = np.array([convert(v) for v in values])\n"
     ]
    },
    {
     "name": "stdout",
     "output_type": "stream",
     "text": [
      "1/1 [==============================] - 0s 38ms/step\n",
      "[array([[0.]]), array([0.3347477], dtype=float32)]\n"
     ]
    },
    {
     "name": "stderr",
     "output_type": "stream",
     "text": [
      "c:\\Users\\Radityo Fajar\\AppData\\Local\\Programs\\Python\\Python39\\lib\\site-packages\\pandas\\core\\internals\\construction.py:576: VisibleDeprecationWarning: Creating an ndarray from ragged nested sequences (which is a list-or-tuple of lists-or-tuples-or ndarrays with different lengths or shapes) is deprecated. If you meant to do this, you must specify 'dtype=object' when creating the ndarray.\n",
      "  values = np.array([convert(v) for v in values])\n"
     ]
    },
    {
     "name": "stdout",
     "output_type": "stream",
     "text": [
      "1/1 [==============================] - 0s 40ms/step\n",
      "[array([[0.]]), array([0.71543723], dtype=float32)]\n",
      "1/1 [==============================] - ETA: 0s"
     ]
    },
    {
     "name": "stderr",
     "output_type": "stream",
     "text": [
      "c:\\Users\\Radityo Fajar\\AppData\\Local\\Programs\\Python\\Python39\\lib\\site-packages\\pandas\\core\\internals\\construction.py:576: VisibleDeprecationWarning: Creating an ndarray from ragged nested sequences (which is a list-or-tuple of lists-or-tuples-or ndarrays with different lengths or shapes) is deprecated. If you meant to do this, you must specify 'dtype=object' when creating the ndarray.\n",
      "  values = np.array([convert(v) for v in values])\n"
     ]
    },
    {
     "name": "stdout",
     "output_type": "stream",
     "text": [
      "1/1 [==============================] - 0s 31ms/step\n",
      "[array([[0.]]), array([0.737758], dtype=float32)]\n"
     ]
    },
    {
     "name": "stderr",
     "output_type": "stream",
     "text": [
      "c:\\Users\\Radityo Fajar\\AppData\\Local\\Programs\\Python\\Python39\\lib\\site-packages\\pandas\\core\\internals\\construction.py:576: VisibleDeprecationWarning: Creating an ndarray from ragged nested sequences (which is a list-or-tuple of lists-or-tuples-or ndarrays with different lengths or shapes) is deprecated. If you meant to do this, you must specify 'dtype=object' when creating the ndarray.\n",
      "  values = np.array([convert(v) for v in values])\n"
     ]
    },
    {
     "name": "stdout",
     "output_type": "stream",
     "text": [
      "1/1 [==============================] - 0s 25ms/step\n",
      "[array([[0.]]), array([0.63940144], dtype=float32)]\n",
      "1/1 [==============================] - ETA: 0s"
     ]
    },
    {
     "name": "stderr",
     "output_type": "stream",
     "text": [
      "c:\\Users\\Radityo Fajar\\AppData\\Local\\Programs\\Python\\Python39\\lib\\site-packages\\pandas\\core\\internals\\construction.py:576: VisibleDeprecationWarning: Creating an ndarray from ragged nested sequences (which is a list-or-tuple of lists-or-tuples-or ndarrays with different lengths or shapes) is deprecated. If you meant to do this, you must specify 'dtype=object' when creating the ndarray.\n",
      "  values = np.array([convert(v) for v in values])\n"
     ]
    },
    {
     "name": "stdout",
     "output_type": "stream",
     "text": [
      "1/1 [==============================] - 0s 27ms/step\n",
      "[array([[0.]]), array([0.59918296], dtype=float32)]\n",
      "1/1 [==============================] - 0s 22ms/step\n"
     ]
    },
    {
     "name": "stderr",
     "output_type": "stream",
     "text": [
      "c:\\Users\\Radityo Fajar\\AppData\\Local\\Programs\\Python\\Python39\\lib\\site-packages\\pandas\\core\\internals\\construction.py:576: VisibleDeprecationWarning: Creating an ndarray from ragged nested sequences (which is a list-or-tuple of lists-or-tuples-or ndarrays with different lengths or shapes) is deprecated. If you meant to do this, you must specify 'dtype=object' when creating the ndarray.\n",
      "  values = np.array([convert(v) for v in values])\n",
      "c:\\Users\\Radityo Fajar\\AppData\\Local\\Programs\\Python\\Python39\\lib\\site-packages\\pandas\\core\\internals\\construction.py:576: VisibleDeprecationWarning: Creating an ndarray from ragged nested sequences (which is a list-or-tuple of lists-or-tuples-or ndarrays with different lengths or shapes) is deprecated. If you meant to do this, you must specify 'dtype=object' when creating the ndarray.\n",
      "  values = np.array([convert(v) for v in values])\n"
     ]
    },
    {
     "name": "stdout",
     "output_type": "stream",
     "text": [
      "[array([[0.]]), array([3.0510733], dtype=float32)]\n",
      "1/1 [==============================] - 0s 24ms/step\n",
      "[array([[2.]]), array([8.14076], dtype=float32)]\n",
      "1/1 [==============================] - 0s 42ms/step\n"
     ]
    },
    {
     "name": "stderr",
     "output_type": "stream",
     "text": [
      "c:\\Users\\Radityo Fajar\\AppData\\Local\\Programs\\Python\\Python39\\lib\\site-packages\\pandas\\core\\internals\\construction.py:576: VisibleDeprecationWarning: Creating an ndarray from ragged nested sequences (which is a list-or-tuple of lists-or-tuples-or ndarrays with different lengths or shapes) is deprecated. If you meant to do this, you must specify 'dtype=object' when creating the ndarray.\n",
      "  values = np.array([convert(v) for v in values])\n"
     ]
    },
    {
     "name": "stdout",
     "output_type": "stream",
     "text": [
      "[array([[14.]]), array([18.852345], dtype=float32)]\n"
     ]
    },
    {
     "name": "stderr",
     "output_type": "stream",
     "text": [
      "c:\\Users\\Radityo Fajar\\AppData\\Local\\Programs\\Python\\Python39\\lib\\site-packages\\pandas\\core\\internals\\construction.py:576: VisibleDeprecationWarning: Creating an ndarray from ragged nested sequences (which is a list-or-tuple of lists-or-tuples-or ndarrays with different lengths or shapes) is deprecated. If you meant to do this, you must specify 'dtype=object' when creating the ndarray.\n",
      "  values = np.array([convert(v) for v in values])\n"
     ]
    },
    {
     "name": "stdout",
     "output_type": "stream",
     "text": [
      "1/1 [==============================] - 0s 31ms/step\n",
      "[array([[12.]]), array([31.582624], dtype=float32)]\n",
      "1/1 [==============================] - 0s 21ms/step\n",
      "[array([[13.]]), array([11.823679], dtype=float32)]\n"
     ]
    },
    {
     "name": "stderr",
     "output_type": "stream",
     "text": [
      "c:\\Users\\Radityo Fajar\\AppData\\Local\\Programs\\Python\\Python39\\lib\\site-packages\\pandas\\core\\internals\\construction.py:576: VisibleDeprecationWarning: Creating an ndarray from ragged nested sequences (which is a list-or-tuple of lists-or-tuples-or ndarrays with different lengths or shapes) is deprecated. If you meant to do this, you must specify 'dtype=object' when creating the ndarray.\n",
      "  values = np.array([convert(v) for v in values])\n",
      "c:\\Users\\Radityo Fajar\\AppData\\Local\\Programs\\Python\\Python39\\lib\\site-packages\\pandas\\core\\internals\\construction.py:576: VisibleDeprecationWarning: Creating an ndarray from ragged nested sequences (which is a list-or-tuple of lists-or-tuples-or ndarrays with different lengths or shapes) is deprecated. If you meant to do this, you must specify 'dtype=object' when creating the ndarray.\n",
      "  values = np.array([convert(v) for v in values])\n"
     ]
    },
    {
     "name": "stdout",
     "output_type": "stream",
     "text": [
      "1/1 [==============================] - 0s 35ms/step\n",
      "[array([[6.]]), array([8.499544], dtype=float32)]\n",
      "1/1 [==============================] - 0s 24ms/step\n"
     ]
    },
    {
     "name": "stderr",
     "output_type": "stream",
     "text": [
      "c:\\Users\\Radityo Fajar\\AppData\\Local\\Programs\\Python\\Python39\\lib\\site-packages\\pandas\\core\\internals\\construction.py:576: VisibleDeprecationWarning: Creating an ndarray from ragged nested sequences (which is a list-or-tuple of lists-or-tuples-or ndarrays with different lengths or shapes) is deprecated. If you meant to do this, you must specify 'dtype=object' when creating the ndarray.\n",
      "  values = np.array([convert(v) for v in values])\n",
      "c:\\Users\\Radityo Fajar\\AppData\\Local\\Programs\\Python\\Python39\\lib\\site-packages\\pandas\\core\\internals\\construction.py:576: VisibleDeprecationWarning: Creating an ndarray from ragged nested sequences (which is a list-or-tuple of lists-or-tuples-or ndarrays with different lengths or shapes) is deprecated. If you meant to do this, you must specify 'dtype=object' when creating the ndarray.\n",
      "  values = np.array([convert(v) for v in values])\n"
     ]
    },
    {
     "name": "stdout",
     "output_type": "stream",
     "text": [
      "[array([[0.]]), array([1.1533514], dtype=float32)]\n",
      "1/1 [==============================] - 0s 74ms/step\n"
     ]
    },
    {
     "name": "stderr",
     "output_type": "stream",
     "text": [
      "c:\\Users\\Radityo Fajar\\AppData\\Local\\Programs\\Python\\Python39\\lib\\site-packages\\pandas\\core\\internals\\construction.py:576: VisibleDeprecationWarning: Creating an ndarray from ragged nested sequences (which is a list-or-tuple of lists-or-tuples-or ndarrays with different lengths or shapes) is deprecated. If you meant to do this, you must specify 'dtype=object' when creating the ndarray.\n",
      "  values = np.array([convert(v) for v in values])\n"
     ]
    },
    {
     "name": "stdout",
     "output_type": "stream",
     "text": [
      "[array([[0.]]), array([0.44862533], dtype=float32)]\n",
      "1/1 [==============================] - 0s 35ms/step\n",
      "[array([[0.]]), array([0.6435658], dtype=float32)]\n"
     ]
    },
    {
     "name": "stderr",
     "output_type": "stream",
     "text": [
      "c:\\Users\\Radityo Fajar\\AppData\\Local\\Programs\\Python\\Python39\\lib\\site-packages\\pandas\\core\\internals\\construction.py:576: VisibleDeprecationWarning: Creating an ndarray from ragged nested sequences (which is a list-or-tuple of lists-or-tuples-or ndarrays with different lengths or shapes) is deprecated. If you meant to do this, you must specify 'dtype=object' when creating the ndarray.\n",
      "  values = np.array([convert(v) for v in values])\n"
     ]
    },
    {
     "name": "stdout",
     "output_type": "stream",
     "text": [
      "1/1 [==============================] - 0s 32ms/step\n",
      "[array([[0.]]), array([0.5965892], dtype=float32)]\n",
      "1/1 [==============================] - 0s 21ms/step\n",
      "[array([[0.]]), array([0.6076237], dtype=float32)]\n"
     ]
    },
    {
     "name": "stderr",
     "output_type": "stream",
     "text": [
      "c:\\Users\\Radityo Fajar\\AppData\\Local\\Programs\\Python\\Python39\\lib\\site-packages\\pandas\\core\\internals\\construction.py:576: VisibleDeprecationWarning: Creating an ndarray from ragged nested sequences (which is a list-or-tuple of lists-or-tuples-or ndarrays with different lengths or shapes) is deprecated. If you meant to do this, you must specify 'dtype=object' when creating the ndarray.\n",
      "  values = np.array([convert(v) for v in values])\n",
      "c:\\Users\\Radityo Fajar\\AppData\\Local\\Programs\\Python\\Python39\\lib\\site-packages\\pandas\\core\\internals\\construction.py:576: VisibleDeprecationWarning: Creating an ndarray from ragged nested sequences (which is a list-or-tuple of lists-or-tuples-or ndarrays with different lengths or shapes) is deprecated. If you meant to do this, you must specify 'dtype=object' when creating the ndarray.\n",
      "  values = np.array([convert(v) for v in values])\n"
     ]
    },
    {
     "name": "stdout",
     "output_type": "stream",
     "text": [
      "1/1 [==============================] - 0s 20ms/step\n",
      "[array([[0.]]), array([0.9019612], dtype=float32)]\n"
     ]
    },
    {
     "name": "stderr",
     "output_type": "stream",
     "text": [
      "c:\\Users\\Radityo Fajar\\AppData\\Local\\Programs\\Python\\Python39\\lib\\site-packages\\pandas\\core\\internals\\construction.py:576: VisibleDeprecationWarning: Creating an ndarray from ragged nested sequences (which is a list-or-tuple of lists-or-tuples-or ndarrays with different lengths or shapes) is deprecated. If you meant to do this, you must specify 'dtype=object' when creating the ndarray.\n",
      "  values = np.array([convert(v) for v in values])\n"
     ]
    },
    {
     "name": "stdout",
     "output_type": "stream",
     "text": [
      "1/1 [==============================] - 0s 30ms/step\n",
      "[array([[3.]]), array([2.685913], dtype=float32)]\n"
     ]
    },
    {
     "name": "stderr",
     "output_type": "stream",
     "text": [
      "c:\\Users\\Radityo Fajar\\AppData\\Local\\Programs\\Python\\Python39\\lib\\site-packages\\pandas\\core\\internals\\construction.py:576: VisibleDeprecationWarning: Creating an ndarray from ragged nested sequences (which is a list-or-tuple of lists-or-tuples-or ndarrays with different lengths or shapes) is deprecated. If you meant to do this, you must specify 'dtype=object' when creating the ndarray.\n",
      "  values = np.array([convert(v) for v in values])\n"
     ]
    },
    {
     "name": "stdout",
     "output_type": "stream",
     "text": [
      "1/1 [==============================] - 0s 53ms/step\n",
      "[array([[21.]]), array([26.741907], dtype=float32)]\n"
     ]
    },
    {
     "name": "stderr",
     "output_type": "stream",
     "text": [
      "c:\\Users\\Radityo Fajar\\AppData\\Local\\Programs\\Python\\Python39\\lib\\site-packages\\pandas\\core\\internals\\construction.py:576: VisibleDeprecationWarning: Creating an ndarray from ragged nested sequences (which is a list-or-tuple of lists-or-tuples-or ndarrays with different lengths or shapes) is deprecated. If you meant to do this, you must specify 'dtype=object' when creating the ndarray.\n",
      "  values = np.array([convert(v) for v in values])\n"
     ]
    },
    {
     "name": "stdout",
     "output_type": "stream",
     "text": [
      "1/1 [==============================] - 0s 42ms/step\n",
      "[array([[32.]]), array([47.941586], dtype=float32)]\n",
      "1/1 [==============================] - 0s 27ms/step\n"
     ]
    },
    {
     "name": "stderr",
     "output_type": "stream",
     "text": [
      "c:\\Users\\Radityo Fajar\\AppData\\Local\\Programs\\Python\\Python39\\lib\\site-packages\\pandas\\core\\internals\\construction.py:576: VisibleDeprecationWarning: Creating an ndarray from ragged nested sequences (which is a list-or-tuple of lists-or-tuples-or ndarrays with different lengths or shapes) is deprecated. If you meant to do this, you must specify 'dtype=object' when creating the ndarray.\n",
      "  values = np.array([convert(v) for v in values])\n",
      "c:\\Users\\Radityo Fajar\\AppData\\Local\\Programs\\Python\\Python39\\lib\\site-packages\\pandas\\core\\internals\\construction.py:576: VisibleDeprecationWarning: Creating an ndarray from ragged nested sequences (which is a list-or-tuple of lists-or-tuples-or ndarrays with different lengths or shapes) is deprecated. If you meant to do this, you must specify 'dtype=object' when creating the ndarray.\n",
      "  values = np.array([convert(v) for v in values])\n"
     ]
    },
    {
     "name": "stdout",
     "output_type": "stream",
     "text": [
      "[array([[24.]]), array([43.40592], dtype=float32)]\n",
      "1/1 [==============================] - 0s 27ms/step\n",
      "[array([[28.]]), array([14.438442], dtype=float32)]\n",
      "1/1 [==============================] - 0s 28ms/step\n"
     ]
    },
    {
     "name": "stderr",
     "output_type": "stream",
     "text": [
      "c:\\Users\\Radityo Fajar\\AppData\\Local\\Programs\\Python\\Python39\\lib\\site-packages\\pandas\\core\\internals\\construction.py:576: VisibleDeprecationWarning: Creating an ndarray from ragged nested sequences (which is a list-or-tuple of lists-or-tuples-or ndarrays with different lengths or shapes) is deprecated. If you meant to do this, you must specify 'dtype=object' when creating the ndarray.\n",
      "  values = np.array([convert(v) for v in values])\n",
      "c:\\Users\\Radityo Fajar\\AppData\\Local\\Programs\\Python\\Python39\\lib\\site-packages\\pandas\\core\\internals\\construction.py:576: VisibleDeprecationWarning: Creating an ndarray from ragged nested sequences (which is a list-or-tuple of lists-or-tuples-or ndarrays with different lengths or shapes) is deprecated. If you meant to do this, you must specify 'dtype=object' when creating the ndarray.\n",
      "  values = np.array([convert(v) for v in values])\n"
     ]
    },
    {
     "name": "stdout",
     "output_type": "stream",
     "text": [
      "[array([[24.]]), array([6.776742], dtype=float32)]\n",
      "1/1 [==============================] - 0s 93ms/step\n",
      "[array([[2.]]), array([4.1678486], dtype=float32)]\n"
     ]
    },
    {
     "name": "stderr",
     "output_type": "stream",
     "text": [
      "c:\\Users\\Radityo Fajar\\AppData\\Local\\Programs\\Python\\Python39\\lib\\site-packages\\pandas\\core\\internals\\construction.py:576: VisibleDeprecationWarning: Creating an ndarray from ragged nested sequences (which is a list-or-tuple of lists-or-tuples-or ndarrays with different lengths or shapes) is deprecated. If you meant to do this, you must specify 'dtype=object' when creating the ndarray.\n",
      "  values = np.array([convert(v) for v in values])\n"
     ]
    },
    {
     "name": "stdout",
     "output_type": "stream",
     "text": [
      "1/1 [==============================] - 0s 53ms/step\n",
      "[array([[0.]]), array([0.61662334], dtype=float32)]\n"
     ]
    },
    {
     "name": "stderr",
     "output_type": "stream",
     "text": [
      "c:\\Users\\Radityo Fajar\\AppData\\Local\\Programs\\Python\\Python39\\lib\\site-packages\\pandas\\core\\internals\\construction.py:576: VisibleDeprecationWarning: Creating an ndarray from ragged nested sequences (which is a list-or-tuple of lists-or-tuples-or ndarrays with different lengths or shapes) is deprecated. If you meant to do this, you must specify 'dtype=object' when creating the ndarray.\n",
      "  values = np.array([convert(v) for v in values])\n"
     ]
    },
    {
     "name": "stdout",
     "output_type": "stream",
     "text": [
      "1/1 [==============================] - 0s 54ms/step\n",
      "[array([[0.]]), array([1.0786136], dtype=float32)]\n"
     ]
    },
    {
     "name": "stderr",
     "output_type": "stream",
     "text": [
      "c:\\Users\\Radityo Fajar\\AppData\\Local\\Programs\\Python\\Python39\\lib\\site-packages\\pandas\\core\\internals\\construction.py:576: VisibleDeprecationWarning: Creating an ndarray from ragged nested sequences (which is a list-or-tuple of lists-or-tuples-or ndarrays with different lengths or shapes) is deprecated. If you meant to do this, you must specify 'dtype=object' when creating the ndarray.\n",
      "  values = np.array([convert(v) for v in values])\n"
     ]
    },
    {
     "name": "stdout",
     "output_type": "stream",
     "text": [
      "1/1 [==============================] - 0s 35ms/step\n",
      "[array([[0.]]), array([0.91975266], dtype=float32)]\n"
     ]
    },
    {
     "name": "stderr",
     "output_type": "stream",
     "text": [
      "c:\\Users\\Radityo Fajar\\AppData\\Local\\Programs\\Python\\Python39\\lib\\site-packages\\pandas\\core\\internals\\construction.py:576: VisibleDeprecationWarning: Creating an ndarray from ragged nested sequences (which is a list-or-tuple of lists-or-tuples-or ndarrays with different lengths or shapes) is deprecated. If you meant to do this, you must specify 'dtype=object' when creating the ndarray.\n",
      "  values = np.array([convert(v) for v in values])\n"
     ]
    },
    {
     "name": "stdout",
     "output_type": "stream",
     "text": [
      "1/1 [==============================] - 0s 44ms/step\n",
      "[array([[0.]]), array([0.79261637], dtype=float32)]\n"
     ]
    },
    {
     "name": "stderr",
     "output_type": "stream",
     "text": [
      "c:\\Users\\Radityo Fajar\\AppData\\Local\\Programs\\Python\\Python39\\lib\\site-packages\\pandas\\core\\internals\\construction.py:576: VisibleDeprecationWarning: Creating an ndarray from ragged nested sequences (which is a list-or-tuple of lists-or-tuples-or ndarrays with different lengths or shapes) is deprecated. If you meant to do this, you must specify 'dtype=object' when creating the ndarray.\n",
      "  values = np.array([convert(v) for v in values])\n"
     ]
    },
    {
     "name": "stdout",
     "output_type": "stream",
     "text": [
      "1/1 [==============================] - 0s 38ms/step\n",
      "[array([[0.]]), array([0.6678405], dtype=float32)]\n",
      "1/1 [==============================] - ETA: 0s"
     ]
    },
    {
     "name": "stderr",
     "output_type": "stream",
     "text": [
      "c:\\Users\\Radityo Fajar\\AppData\\Local\\Programs\\Python\\Python39\\lib\\site-packages\\pandas\\core\\internals\\construction.py:576: VisibleDeprecationWarning: Creating an ndarray from ragged nested sequences (which is a list-or-tuple of lists-or-tuples-or ndarrays with different lengths or shapes) is deprecated. If you meant to do this, you must specify 'dtype=object' when creating the ndarray.\n",
      "  values = np.array([convert(v) for v in values])\n"
     ]
    },
    {
     "name": "stdout",
     "output_type": "stream",
     "text": [
      "1/1 [==============================] - 0s 34ms/step\n",
      "[array([[3.]]), array([2.5884712], dtype=float32)]\n",
      "1/1 [==============================] - ETA: 0s"
     ]
    },
    {
     "name": "stderr",
     "output_type": "stream",
     "text": [
      "c:\\Users\\Radityo Fajar\\AppData\\Local\\Programs\\Python\\Python39\\lib\\site-packages\\pandas\\core\\internals\\construction.py:576: VisibleDeprecationWarning: Creating an ndarray from ragged nested sequences (which is a list-or-tuple of lists-or-tuples-or ndarrays with different lengths or shapes) is deprecated. If you meant to do this, you must specify 'dtype=object' when creating the ndarray.\n",
      "  values = np.array([convert(v) for v in values])\n"
     ]
    },
    {
     "name": "stdout",
     "output_type": "stream",
     "text": [
      "1/1 [==============================] - 0s 30ms/step\n",
      "[array([[27.]]), array([12.370888], dtype=float32)]\n"
     ]
    },
    {
     "name": "stderr",
     "output_type": "stream",
     "text": [
      "c:\\Users\\Radityo Fajar\\AppData\\Local\\Programs\\Python\\Python39\\lib\\site-packages\\pandas\\core\\internals\\construction.py:576: VisibleDeprecationWarning: Creating an ndarray from ragged nested sequences (which is a list-or-tuple of lists-or-tuples-or ndarrays with different lengths or shapes) is deprecated. If you meant to do this, you must specify 'dtype=object' when creating the ndarray.\n",
      "  values = np.array([convert(v) for v in values])\n"
     ]
    },
    {
     "name": "stdout",
     "output_type": "stream",
     "text": [
      "1/1 [==============================] - 0s 29ms/step\n",
      "[array([[63.]]), array([48.169003], dtype=float32)]\n"
     ]
    },
    {
     "name": "stderr",
     "output_type": "stream",
     "text": [
      "c:\\Users\\Radityo Fajar\\AppData\\Local\\Programs\\Python\\Python39\\lib\\site-packages\\pandas\\core\\internals\\construction.py:576: VisibleDeprecationWarning: Creating an ndarray from ragged nested sequences (which is a list-or-tuple of lists-or-tuples-or ndarrays with different lengths or shapes) is deprecated. If you meant to do this, you must specify 'dtype=object' when creating the ndarray.\n",
      "  values = np.array([convert(v) for v in values])\n"
     ]
    },
    {
     "name": "stdout",
     "output_type": "stream",
     "text": [
      "1/1 [==============================] - 0s 41ms/step\n",
      "[array([[74.]]), array([68.63859], dtype=float32)]\n",
      "1/1 [==============================] - 0s 25ms/step\n"
     ]
    },
    {
     "name": "stderr",
     "output_type": "stream",
     "text": [
      "c:\\Users\\Radityo Fajar\\AppData\\Local\\Programs\\Python\\Python39\\lib\\site-packages\\pandas\\core\\internals\\construction.py:576: VisibleDeprecationWarning: Creating an ndarray from ragged nested sequences (which is a list-or-tuple of lists-or-tuples-or ndarrays with different lengths or shapes) is deprecated. If you meant to do this, you must specify 'dtype=object' when creating the ndarray.\n",
      "  values = np.array([convert(v) for v in values])\n",
      "c:\\Users\\Radityo Fajar\\AppData\\Local\\Programs\\Python\\Python39\\lib\\site-packages\\pandas\\core\\internals\\construction.py:576: VisibleDeprecationWarning: Creating an ndarray from ragged nested sequences (which is a list-or-tuple of lists-or-tuples-or ndarrays with different lengths or shapes) is deprecated. If you meant to do this, you must specify 'dtype=object' when creating the ndarray.\n",
      "  values = np.array([convert(v) for v in values])\n"
     ]
    },
    {
     "name": "stdout",
     "output_type": "stream",
     "text": [
      "[array([[64.]]), array([56.91134], dtype=float32)]\n",
      "1/1 [==============================] - 0s 27ms/step\n",
      "[array([[35.]]), array([28.226686], dtype=float32)]\n",
      "1/1 [==============================] - 0s 27ms/step\n"
     ]
    },
    {
     "name": "stderr",
     "output_type": "stream",
     "text": [
      "c:\\Users\\Radityo Fajar\\AppData\\Local\\Programs\\Python\\Python39\\lib\\site-packages\\pandas\\core\\internals\\construction.py:576: VisibleDeprecationWarning: Creating an ndarray from ragged nested sequences (which is a list-or-tuple of lists-or-tuples-or ndarrays with different lengths or shapes) is deprecated. If you meant to do this, you must specify 'dtype=object' when creating the ndarray.\n",
      "  values = np.array([convert(v) for v in values])\n",
      "c:\\Users\\Radityo Fajar\\AppData\\Local\\Programs\\Python\\Python39\\lib\\site-packages\\pandas\\core\\internals\\construction.py:576: VisibleDeprecationWarning: Creating an ndarray from ragged nested sequences (which is a list-or-tuple of lists-or-tuples-or ndarrays with different lengths or shapes) is deprecated. If you meant to do this, you must specify 'dtype=object' when creating the ndarray.\n",
      "  values = np.array([convert(v) for v in values])\n"
     ]
    },
    {
     "name": "stdout",
     "output_type": "stream",
     "text": [
      "[array([[3.]]), array([4.308385], dtype=float32)]\n",
      "1/1 [==============================] - 0s 66ms/step\n",
      "[array([[0.]]), array([0.56881297], dtype=float32)]\n",
      "1/1 [==============================] - ETA: 0s"
     ]
    },
    {
     "name": "stderr",
     "output_type": "stream",
     "text": [
      "c:\\Users\\Radityo Fajar\\AppData\\Local\\Programs\\Python\\Python39\\lib\\site-packages\\pandas\\core\\internals\\construction.py:576: VisibleDeprecationWarning: Creating an ndarray from ragged nested sequences (which is a list-or-tuple of lists-or-tuples-or ndarrays with different lengths or shapes) is deprecated. If you meant to do this, you must specify 'dtype=object' when creating the ndarray.\n",
      "  values = np.array([convert(v) for v in values])\n"
     ]
    },
    {
     "name": "stdout",
     "output_type": "stream",
     "text": [
      "1/1 [==============================] - 0s 31ms/step\n",
      "[array([[0.]]), array([0.77143544], dtype=float32)]\n",
      "1/1 [==============================] - 0s 24ms/step\n"
     ]
    },
    {
     "name": "stderr",
     "output_type": "stream",
     "text": [
      "c:\\Users\\Radityo Fajar\\AppData\\Local\\Programs\\Python\\Python39\\lib\\site-packages\\pandas\\core\\internals\\construction.py:576: VisibleDeprecationWarning: Creating an ndarray from ragged nested sequences (which is a list-or-tuple of lists-or-tuples-or ndarrays with different lengths or shapes) is deprecated. If you meant to do this, you must specify 'dtype=object' when creating the ndarray.\n",
      "  values = np.array([convert(v) for v in values])\n",
      "c:\\Users\\Radityo Fajar\\AppData\\Local\\Programs\\Python\\Python39\\lib\\site-packages\\pandas\\core\\internals\\construction.py:576: VisibleDeprecationWarning: Creating an ndarray from ragged nested sequences (which is a list-or-tuple of lists-or-tuples-or ndarrays with different lengths or shapes) is deprecated. If you meant to do this, you must specify 'dtype=object' when creating the ndarray.\n",
      "  values = np.array([convert(v) for v in values])\n"
     ]
    },
    {
     "name": "stdout",
     "output_type": "stream",
     "text": [
      "[array([[0.]]), array([0.77401763], dtype=float32)]\n",
      "1/1 [==============================] - 0s 27ms/step\n",
      "[array([[0.]]), array([0.75917447], dtype=float32)]\n",
      "1/1 [==============================] - 0s 23ms/step\n",
      "[array([[0.]]), array([0.7108929], dtype=float32)]\n"
     ]
    },
    {
     "name": "stderr",
     "output_type": "stream",
     "text": [
      "c:\\Users\\Radityo Fajar\\AppData\\Local\\Programs\\Python\\Python39\\lib\\site-packages\\pandas\\core\\internals\\construction.py:576: VisibleDeprecationWarning: Creating an ndarray from ragged nested sequences (which is a list-or-tuple of lists-or-tuples-or ndarrays with different lengths or shapes) is deprecated. If you meant to do this, you must specify 'dtype=object' when creating the ndarray.\n",
      "  values = np.array([convert(v) for v in values])\n",
      "c:\\Users\\Radityo Fajar\\AppData\\Local\\Programs\\Python\\Python39\\lib\\site-packages\\pandas\\core\\internals\\construction.py:576: VisibleDeprecationWarning: Creating an ndarray from ragged nested sequences (which is a list-or-tuple of lists-or-tuples-or ndarrays with different lengths or shapes) is deprecated. If you meant to do this, you must specify 'dtype=object' when creating the ndarray.\n",
      "  values = np.array([convert(v) for v in values])\n"
     ]
    },
    {
     "name": "stdout",
     "output_type": "stream",
     "text": [
      "1/1 [==============================] - 0s 88ms/step\n",
      "[array([[5.]]), array([1.7714679], dtype=float32)]\n"
     ]
    },
    {
     "name": "stderr",
     "output_type": "stream",
     "text": [
      "c:\\Users\\Radityo Fajar\\AppData\\Local\\Programs\\Python\\Python39\\lib\\site-packages\\pandas\\core\\internals\\construction.py:576: VisibleDeprecationWarning: Creating an ndarray from ragged nested sequences (which is a list-or-tuple of lists-or-tuples-or ndarrays with different lengths or shapes) is deprecated. If you meant to do this, you must specify 'dtype=object' when creating the ndarray.\n",
      "  values = np.array([convert(v) for v in values])\n"
     ]
    },
    {
     "name": "stdout",
     "output_type": "stream",
     "text": [
      "1/1 [==============================] - 0s 29ms/step\n",
      "[array([[36.]]), array([28.610231], dtype=float32)]\n",
      "1/1 [==============================] - 0s 30ms/step\n",
      "[array([[67.]]), array([59.50481], dtype=float32)]\n"
     ]
    },
    {
     "name": "stderr",
     "output_type": "stream",
     "text": [
      "c:\\Users\\Radityo Fajar\\AppData\\Local\\Programs\\Python\\Python39\\lib\\site-packages\\pandas\\core\\internals\\construction.py:576: VisibleDeprecationWarning: Creating an ndarray from ragged nested sequences (which is a list-or-tuple of lists-or-tuples-or ndarrays with different lengths or shapes) is deprecated. If you meant to do this, you must specify 'dtype=object' when creating the ndarray.\n",
      "  values = np.array([convert(v) for v in values])\n",
      "c:\\Users\\Radityo Fajar\\AppData\\Local\\Programs\\Python\\Python39\\lib\\site-packages\\pandas\\core\\internals\\construction.py:576: VisibleDeprecationWarning: Creating an ndarray from ragged nested sequences (which is a list-or-tuple of lists-or-tuples-or ndarrays with different lengths or shapes) is deprecated. If you meant to do this, you must specify 'dtype=object' when creating the ndarray.\n",
      "  values = np.array([convert(v) for v in values])\n"
     ]
    },
    {
     "name": "stdout",
     "output_type": "stream",
     "text": [
      "1/1 [==============================] - 0s 59ms/step\n",
      "[array([[71.]]), array([68.04892], dtype=float32)]\n",
      "1/1 [==============================] - ETA: 0s"
     ]
    },
    {
     "name": "stderr",
     "output_type": "stream",
     "text": [
      "c:\\Users\\Radityo Fajar\\AppData\\Local\\Programs\\Python\\Python39\\lib\\site-packages\\pandas\\core\\internals\\construction.py:576: VisibleDeprecationWarning: Creating an ndarray from ragged nested sequences (which is a list-or-tuple of lists-or-tuples-or ndarrays with different lengths or shapes) is deprecated. If you meant to do this, you must specify 'dtype=object' when creating the ndarray.\n",
      "  values = np.array([convert(v) for v in values])\n"
     ]
    },
    {
     "name": "stdout",
     "output_type": "stream",
     "text": [
      "1/1 [==============================] - 0s 46ms/step\n",
      "[array([[38.]]), array([53.07006], dtype=float32)]\n"
     ]
    },
    {
     "name": "stderr",
     "output_type": "stream",
     "text": [
      "c:\\Users\\Radityo Fajar\\AppData\\Local\\Programs\\Python\\Python39\\lib\\site-packages\\pandas\\core\\internals\\construction.py:576: VisibleDeprecationWarning: Creating an ndarray from ragged nested sequences (which is a list-or-tuple of lists-or-tuples-or ndarrays with different lengths or shapes) is deprecated. If you meant to do this, you must specify 'dtype=object' when creating the ndarray.\n",
      "  values = np.array([convert(v) for v in values])\n"
     ]
    },
    {
     "name": "stdout",
     "output_type": "stream",
     "text": [
      "1/1 [==============================] - 0s 44ms/step\n",
      "[array([[15.]]), array([22.855705], dtype=float32)]\n"
     ]
    },
    {
     "name": "stderr",
     "output_type": "stream",
     "text": [
      "c:\\Users\\Radityo Fajar\\AppData\\Local\\Programs\\Python\\Python39\\lib\\site-packages\\pandas\\core\\internals\\construction.py:576: VisibleDeprecationWarning: Creating an ndarray from ragged nested sequences (which is a list-or-tuple of lists-or-tuples-or ndarrays with different lengths or shapes) is deprecated. If you meant to do this, you must specify 'dtype=object' when creating the ndarray.\n",
      "  values = np.array([convert(v) for v in values])\n"
     ]
    },
    {
     "name": "stdout",
     "output_type": "stream",
     "text": [
      "1/1 [==============================] - 0s 37ms/step\n",
      "[array([[2.]]), array([2.2694154], dtype=float32)]\n",
      "1/1 [==============================] - 0s 25ms/step\n"
     ]
    },
    {
     "name": "stderr",
     "output_type": "stream",
     "text": [
      "c:\\Users\\Radityo Fajar\\AppData\\Local\\Programs\\Python\\Python39\\lib\\site-packages\\pandas\\core\\internals\\construction.py:576: VisibleDeprecationWarning: Creating an ndarray from ragged nested sequences (which is a list-or-tuple of lists-or-tuples-or ndarrays with different lengths or shapes) is deprecated. If you meant to do this, you must specify 'dtype=object' when creating the ndarray.\n",
      "  values = np.array([convert(v) for v in values])\n",
      "c:\\Users\\Radityo Fajar\\AppData\\Local\\Programs\\Python\\Python39\\lib\\site-packages\\pandas\\core\\internals\\construction.py:576: VisibleDeprecationWarning: Creating an ndarray from ragged nested sequences (which is a list-or-tuple of lists-or-tuples-or ndarrays with different lengths or shapes) is deprecated. If you meant to do this, you must specify 'dtype=object' when creating the ndarray.\n",
      "  values = np.array([convert(v) for v in values])\n"
     ]
    },
    {
     "name": "stdout",
     "output_type": "stream",
     "text": [
      "[array([[0.]]), array([0.5495745], dtype=float32)]\n",
      "1/1 [==============================] - 0s 22ms/step\n",
      "[array([[0.]]), array([0.5665125], dtype=float32)]\n",
      "1/1 [==============================] - 0s 20ms/step\n",
      "[array([[0.]]), array([0.6021082], dtype=float32)]\n"
     ]
    },
    {
     "name": "stderr",
     "output_type": "stream",
     "text": [
      "c:\\Users\\Radityo Fajar\\AppData\\Local\\Programs\\Python\\Python39\\lib\\site-packages\\pandas\\core\\internals\\construction.py:576: VisibleDeprecationWarning: Creating an ndarray from ragged nested sequences (which is a list-or-tuple of lists-or-tuples-or ndarrays with different lengths or shapes) is deprecated. If you meant to do this, you must specify 'dtype=object' when creating the ndarray.\n",
      "  values = np.array([convert(v) for v in values])\n",
      "c:\\Users\\Radityo Fajar\\AppData\\Local\\Programs\\Python\\Python39\\lib\\site-packages\\pandas\\core\\internals\\construction.py:576: VisibleDeprecationWarning: Creating an ndarray from ragged nested sequences (which is a list-or-tuple of lists-or-tuples-or ndarrays with different lengths or shapes) is deprecated. If you meant to do this, you must specify 'dtype=object' when creating the ndarray.\n",
      "  values = np.array([convert(v) for v in values])\n"
     ]
    },
    {
     "name": "stdout",
     "output_type": "stream",
     "text": [
      "1/1 [==============================] - 0s 22ms/step\n",
      "[array([[0.]]), array([0.6584759], dtype=float32)]\n"
     ]
    },
    {
     "name": "stderr",
     "output_type": "stream",
     "text": [
      "c:\\Users\\Radityo Fajar\\AppData\\Local\\Programs\\Python\\Python39\\lib\\site-packages\\pandas\\core\\internals\\construction.py:576: VisibleDeprecationWarning: Creating an ndarray from ragged nested sequences (which is a list-or-tuple of lists-or-tuples-or ndarrays with different lengths or shapes) is deprecated. If you meant to do this, you must specify 'dtype=object' when creating the ndarray.\n",
      "  values = np.array([convert(v) for v in values])\n"
     ]
    },
    {
     "name": "stdout",
     "output_type": "stream",
     "text": [
      "1/1 [==============================] - 0s 37ms/step\n",
      "[array([[0.]]), array([0.6796568], dtype=float32)]\n",
      "1/1 [==============================] - 0s 27ms/step\n"
     ]
    },
    {
     "name": "stderr",
     "output_type": "stream",
     "text": [
      "c:\\Users\\Radityo Fajar\\AppData\\Local\\Programs\\Python\\Python39\\lib\\site-packages\\pandas\\core\\internals\\construction.py:576: VisibleDeprecationWarning: Creating an ndarray from ragged nested sequences (which is a list-or-tuple of lists-or-tuples-or ndarrays with different lengths or shapes) is deprecated. If you meant to do this, you must specify 'dtype=object' when creating the ndarray.\n",
      "  values = np.array([convert(v) for v in values])\n",
      "c:\\Users\\Radityo Fajar\\AppData\\Local\\Programs\\Python\\Python39\\lib\\site-packages\\pandas\\core\\internals\\construction.py:576: VisibleDeprecationWarning: Creating an ndarray from ragged nested sequences (which is a list-or-tuple of lists-or-tuples-or ndarrays with different lengths or shapes) is deprecated. If you meant to do this, you must specify 'dtype=object' when creating the ndarray.\n",
      "  values = np.array([convert(v) for v in values])\n"
     ]
    },
    {
     "name": "stdout",
     "output_type": "stream",
     "text": [
      "[array([[2.]]), array([5.2683225], dtype=float32)]\n",
      "1/1 [==============================] - 0s 24ms/step\n",
      "[array([[1.]]), array([18.899122], dtype=float32)]\n",
      "1/1 [==============================] - 0s 28ms/step\n"
     ]
    },
    {
     "name": "stderr",
     "output_type": "stream",
     "text": [
      "c:\\Users\\Radityo Fajar\\AppData\\Local\\Programs\\Python\\Python39\\lib\\site-packages\\pandas\\core\\internals\\construction.py:576: VisibleDeprecationWarning: Creating an ndarray from ragged nested sequences (which is a list-or-tuple of lists-or-tuples-or ndarrays with different lengths or shapes) is deprecated. If you meant to do this, you must specify 'dtype=object' when creating the ndarray.\n",
      "  values = np.array([convert(v) for v in values])\n",
      "c:\\Users\\Radityo Fajar\\AppData\\Local\\Programs\\Python\\Python39\\lib\\site-packages\\pandas\\core\\internals\\construction.py:576: VisibleDeprecationWarning: Creating an ndarray from ragged nested sequences (which is a list-or-tuple of lists-or-tuples-or ndarrays with different lengths or shapes) is deprecated. If you meant to do this, you must specify 'dtype=object' when creating the ndarray.\n",
      "  values = np.array([convert(v) for v in values])\n"
     ]
    },
    {
     "name": "stdout",
     "output_type": "stream",
     "text": [
      "[array([[10.]]), array([7.4512935], dtype=float32)]\n",
      "1/1 [==============================] - 0s 24ms/step\n",
      "[array([[16.]]), array([41.630863], dtype=float32)]\n"
     ]
    },
    {
     "name": "stderr",
     "output_type": "stream",
     "text": [
      "c:\\Users\\Radityo Fajar\\AppData\\Local\\Programs\\Python\\Python39\\lib\\site-packages\\pandas\\core\\internals\\construction.py:576: VisibleDeprecationWarning: Creating an ndarray from ragged nested sequences (which is a list-or-tuple of lists-or-tuples-or ndarrays with different lengths or shapes) is deprecated. If you meant to do this, you must specify 'dtype=object' when creating the ndarray.\n",
      "  values = np.array([convert(v) for v in values])\n"
     ]
    },
    {
     "name": "stdout",
     "output_type": "stream",
     "text": [
      "1/1 [==============================] - 0s 84ms/step\n",
      "[array([[15.]]), array([17.048532], dtype=float32)]\n"
     ]
    },
    {
     "name": "stderr",
     "output_type": "stream",
     "text": [
      "c:\\Users\\Radityo Fajar\\AppData\\Local\\Programs\\Python\\Python39\\lib\\site-packages\\pandas\\core\\internals\\construction.py:576: VisibleDeprecationWarning: Creating an ndarray from ragged nested sequences (which is a list-or-tuple of lists-or-tuples-or ndarrays with different lengths or shapes) is deprecated. If you meant to do this, you must specify 'dtype=object' when creating the ndarray.\n",
      "  values = np.array([convert(v) for v in values])\n"
     ]
    },
    {
     "name": "stdout",
     "output_type": "stream",
     "text": [
      "1/1 [==============================] - 0s 46ms/step\n",
      "[array([[2.]]), array([10.582908], dtype=float32)]\n",
      "1/1 [==============================] - 0s 28ms/step\n"
     ]
    },
    {
     "name": "stderr",
     "output_type": "stream",
     "text": [
      "c:\\Users\\Radityo Fajar\\AppData\\Local\\Programs\\Python\\Python39\\lib\\site-packages\\pandas\\core\\internals\\construction.py:576: VisibleDeprecationWarning: Creating an ndarray from ragged nested sequences (which is a list-or-tuple of lists-or-tuples-or ndarrays with different lengths or shapes) is deprecated. If you meant to do this, you must specify 'dtype=object' when creating the ndarray.\n",
      "  values = np.array([convert(v) for v in values])\n"
     ]
    },
    {
     "name": "stdout",
     "output_type": "stream",
     "text": [
      "[array([[1.]]), array([1.7884048], dtype=float32)]\n"
     ]
    },
    {
     "name": "stderr",
     "output_type": "stream",
     "text": [
      "c:\\Users\\Radityo Fajar\\AppData\\Local\\Programs\\Python\\Python39\\lib\\site-packages\\pandas\\core\\internals\\construction.py:576: VisibleDeprecationWarning: Creating an ndarray from ragged nested sequences (which is a list-or-tuple of lists-or-tuples-or ndarrays with different lengths or shapes) is deprecated. If you meant to do this, you must specify 'dtype=object' when creating the ndarray.\n",
      "  values = np.array([convert(v) for v in values])\n"
     ]
    },
    {
     "name": "stdout",
     "output_type": "stream",
     "text": [
      "1/1 [==============================] - 0s 31ms/step\n",
      "[array([[0.]]), array([0.7836733], dtype=float32)]\n"
     ]
    },
    {
     "name": "stderr",
     "output_type": "stream",
     "text": [
      "c:\\Users\\Radityo Fajar\\AppData\\Local\\Programs\\Python\\Python39\\lib\\site-packages\\pandas\\core\\internals\\construction.py:576: VisibleDeprecationWarning: Creating an ndarray from ragged nested sequences (which is a list-or-tuple of lists-or-tuples-or ndarrays with different lengths or shapes) is deprecated. If you meant to do this, you must specify 'dtype=object' when creating the ndarray.\n",
      "  values = np.array([convert(v) for v in values])\n"
     ]
    },
    {
     "name": "stdout",
     "output_type": "stream",
     "text": [
      "1/1 [==============================] - 0s 32ms/step\n",
      "[array([[0.]]), array([0.70980275], dtype=float32)]\n",
      "1/1 [==============================] - ETA: 0s"
     ]
    },
    {
     "name": "stderr",
     "output_type": "stream",
     "text": [
      "c:\\Users\\Radityo Fajar\\AppData\\Local\\Programs\\Python\\Python39\\lib\\site-packages\\pandas\\core\\internals\\construction.py:576: VisibleDeprecationWarning: Creating an ndarray from ragged nested sequences (which is a list-or-tuple of lists-or-tuples-or ndarrays with different lengths or shapes) is deprecated. If you meant to do this, you must specify 'dtype=object' when creating the ndarray.\n",
      "  values = np.array([convert(v) for v in values])\n"
     ]
    },
    {
     "name": "stdout",
     "output_type": "stream",
     "text": [
      "1/1 [==============================] - 0s 30ms/step\n",
      "[array([[0.]]), array([0.66264373], dtype=float32)]\n",
      "1/1 [==============================] - 0s 23ms/step\n"
     ]
    },
    {
     "name": "stderr",
     "output_type": "stream",
     "text": [
      "c:\\Users\\Radityo Fajar\\AppData\\Local\\Programs\\Python\\Python39\\lib\\site-packages\\pandas\\core\\internals\\construction.py:576: VisibleDeprecationWarning: Creating an ndarray from ragged nested sequences (which is a list-or-tuple of lists-or-tuples-or ndarrays with different lengths or shapes) is deprecated. If you meant to do this, you must specify 'dtype=object' when creating the ndarray.\n",
      "  values = np.array([convert(v) for v in values])\n",
      "c:\\Users\\Radityo Fajar\\AppData\\Local\\Programs\\Python\\Python39\\lib\\site-packages\\pandas\\core\\internals\\construction.py:576: VisibleDeprecationWarning: Creating an ndarray from ragged nested sequences (which is a list-or-tuple of lists-or-tuples-or ndarrays with different lengths or shapes) is deprecated. If you meant to do this, you must specify 'dtype=object' when creating the ndarray.\n",
      "  values = np.array([convert(v) for v in values])\n"
     ]
    },
    {
     "name": "stdout",
     "output_type": "stream",
     "text": [
      "[array([[0.]]), array([0.58311796], dtype=float32)]\n",
      "1/1 [==============================] - 0s 22ms/step\n",
      "[array([[0.]]), array([1.1498708], dtype=float32)]\n",
      "1/1 [==============================] - 0s 20ms/step\n"
     ]
    },
    {
     "name": "stderr",
     "output_type": "stream",
     "text": [
      "c:\\Users\\Radityo Fajar\\AppData\\Local\\Programs\\Python\\Python39\\lib\\site-packages\\pandas\\core\\internals\\construction.py:576: VisibleDeprecationWarning: Creating an ndarray from ragged nested sequences (which is a list-or-tuple of lists-or-tuples-or ndarrays with different lengths or shapes) is deprecated. If you meant to do this, you must specify 'dtype=object' when creating the ndarray.\n",
      "  values = np.array([convert(v) for v in values])\n",
      "c:\\Users\\Radityo Fajar\\AppData\\Local\\Programs\\Python\\Python39\\lib\\site-packages\\pandas\\core\\internals\\construction.py:576: VisibleDeprecationWarning: Creating an ndarray from ragged nested sequences (which is a list-or-tuple of lists-or-tuples-or ndarrays with different lengths or shapes) is deprecated. If you meant to do this, you must specify 'dtype=object' when creating the ndarray.\n",
      "  values = np.array([convert(v) for v in values])\n"
     ]
    },
    {
     "name": "stdout",
     "output_type": "stream",
     "text": [
      "[array([[3.]]), array([3.330412], dtype=float32)]\n",
      "1/1 [==============================] - 0s 21ms/step\n",
      "[array([[26.]]), array([33.93193], dtype=float32)]\n"
     ]
    },
    {
     "name": "stderr",
     "output_type": "stream",
     "text": [
      "c:\\Users\\Radityo Fajar\\AppData\\Local\\Programs\\Python\\Python39\\lib\\site-packages\\pandas\\core\\internals\\construction.py:576: VisibleDeprecationWarning: Creating an ndarray from ragged nested sequences (which is a list-or-tuple of lists-or-tuples-or ndarrays with different lengths or shapes) is deprecated. If you meant to do this, you must specify 'dtype=object' when creating the ndarray.\n",
      "  values = np.array([convert(v) for v in values])\n"
     ]
    },
    {
     "name": "stdout",
     "output_type": "stream",
     "text": [
      "1/1 [==============================] - 0s 52ms/step\n",
      "[array([[72.]]), array([51.681602], dtype=float32)]\n",
      "1/1 [==============================] - ETA: 0s"
     ]
    },
    {
     "name": "stderr",
     "output_type": "stream",
     "text": [
      "c:\\Users\\Radityo Fajar\\AppData\\Local\\Programs\\Python\\Python39\\lib\\site-packages\\pandas\\core\\internals\\construction.py:576: VisibleDeprecationWarning: Creating an ndarray from ragged nested sequences (which is a list-or-tuple of lists-or-tuples-or ndarrays with different lengths or shapes) is deprecated. If you meant to do this, you must specify 'dtype=object' when creating the ndarray.\n",
      "  values = np.array([convert(v) for v in values])\n"
     ]
    },
    {
     "name": "stdout",
     "output_type": "stream",
     "text": [
      "1/1 [==============================] - 0s 28ms/step\n",
      "[array([[73.]]), array([68.525314], dtype=float32)]\n",
      "1/1 [==============================] - 0s 30ms/step\n"
     ]
    },
    {
     "name": "stderr",
     "output_type": "stream",
     "text": [
      "c:\\Users\\Radityo Fajar\\AppData\\Local\\Programs\\Python\\Python39\\lib\\site-packages\\pandas\\core\\internals\\construction.py:576: VisibleDeprecationWarning: Creating an ndarray from ragged nested sequences (which is a list-or-tuple of lists-or-tuples-or ndarrays with different lengths or shapes) is deprecated. If you meant to do this, you must specify 'dtype=object' when creating the ndarray.\n",
      "  values = np.array([convert(v) for v in values])\n",
      "c:\\Users\\Radityo Fajar\\AppData\\Local\\Programs\\Python\\Python39\\lib\\site-packages\\pandas\\core\\internals\\construction.py:576: VisibleDeprecationWarning: Creating an ndarray from ragged nested sequences (which is a list-or-tuple of lists-or-tuples-or ndarrays with different lengths or shapes) is deprecated. If you meant to do this, you must specify 'dtype=object' when creating the ndarray.\n",
      "  values = np.array([convert(v) for v in values])\n"
     ]
    },
    {
     "name": "stdout",
     "output_type": "stream",
     "text": [
      "[array([[67.]]), array([41.561832], dtype=float32)]\n",
      "1/1 [==============================] - 0s 31ms/step\n",
      "[array([[35.]]), array([29.1112], dtype=float32)]\n"
     ]
    },
    {
     "name": "stderr",
     "output_type": "stream",
     "text": [
      "c:\\Users\\Radityo Fajar\\AppData\\Local\\Programs\\Python\\Python39\\lib\\site-packages\\pandas\\core\\internals\\construction.py:576: VisibleDeprecationWarning: Creating an ndarray from ragged nested sequences (which is a list-or-tuple of lists-or-tuples-or ndarrays with different lengths or shapes) is deprecated. If you meant to do this, you must specify 'dtype=object' when creating the ndarray.\n",
      "  values = np.array([convert(v) for v in values])\n"
     ]
    },
    {
     "name": "stdout",
     "output_type": "stream",
     "text": [
      "1/1 [==============================] - 0s 78ms/step\n",
      "[array([[2.]]), array([3.216056], dtype=float32)]\n"
     ]
    },
    {
     "name": "stderr",
     "output_type": "stream",
     "text": [
      "c:\\Users\\Radityo Fajar\\AppData\\Local\\Programs\\Python\\Python39\\lib\\site-packages\\pandas\\core\\internals\\construction.py:576: VisibleDeprecationWarning: Creating an ndarray from ragged nested sequences (which is a list-or-tuple of lists-or-tuples-or ndarrays with different lengths or shapes) is deprecated. If you meant to do this, you must specify 'dtype=object' when creating the ndarray.\n",
      "  values = np.array([convert(v) for v in values])\n"
     ]
    },
    {
     "name": "stdout",
     "output_type": "stream",
     "text": [
      "1/1 [==============================] - 0s 43ms/step\n",
      "[array([[0.]]), array([0.5653831], dtype=float32)]\n",
      "1/1 [==============================] - ETA: 0s"
     ]
    },
    {
     "name": "stderr",
     "output_type": "stream",
     "text": [
      "c:\\Users\\Radityo Fajar\\AppData\\Local\\Programs\\Python\\Python39\\lib\\site-packages\\pandas\\core\\internals\\construction.py:576: VisibleDeprecationWarning: Creating an ndarray from ragged nested sequences (which is a list-or-tuple of lists-or-tuples-or ndarrays with different lengths or shapes) is deprecated. If you meant to do this, you must specify 'dtype=object' when creating the ndarray.\n",
      "  values = np.array([convert(v) for v in values])\n"
     ]
    },
    {
     "name": "stdout",
     "output_type": "stream",
     "text": [
      "1/1 [==============================] - 0s 27ms/step\n",
      "[array([[0.]]), array([0.82469547], dtype=float32)]\n",
      "1/1 [==============================] - ETA: 0s"
     ]
    },
    {
     "name": "stderr",
     "output_type": "stream",
     "text": [
      "c:\\Users\\Radityo Fajar\\AppData\\Local\\Programs\\Python\\Python39\\lib\\site-packages\\pandas\\core\\internals\\construction.py:576: VisibleDeprecationWarning: Creating an ndarray from ragged nested sequences (which is a list-or-tuple of lists-or-tuples-or ndarrays with different lengths or shapes) is deprecated. If you meant to do this, you must specify 'dtype=object' when creating the ndarray.\n",
      "  values = np.array([convert(v) for v in values])\n"
     ]
    },
    {
     "name": "stdout",
     "output_type": "stream",
     "text": [
      "1/1 [==============================] - 0s 29ms/step\n",
      "[array([[0.]]), array([0.7833811], dtype=float32)]\n"
     ]
    },
    {
     "name": "stderr",
     "output_type": "stream",
     "text": [
      "c:\\Users\\Radityo Fajar\\AppData\\Local\\Programs\\Python\\Python39\\lib\\site-packages\\pandas\\core\\internals\\construction.py:576: VisibleDeprecationWarning: Creating an ndarray from ragged nested sequences (which is a list-or-tuple of lists-or-tuples-or ndarrays with different lengths or shapes) is deprecated. If you meant to do this, you must specify 'dtype=object' when creating the ndarray.\n",
      "  values = np.array([convert(v) for v in values])\n"
     ]
    },
    {
     "name": "stdout",
     "output_type": "stream",
     "text": [
      "1/1 [==============================] - 0s 62ms/step\n",
      "[array([[0.]]), array([0.74580026], dtype=float32)]\n",
      "1/1 [==============================] - 0s 24ms/step\n",
      "[array([[0.]]), array([0.6873423], dtype=float32)]\n"
     ]
    },
    {
     "name": "stderr",
     "output_type": "stream",
     "text": [
      "c:\\Users\\Radityo Fajar\\AppData\\Local\\Programs\\Python\\Python39\\lib\\site-packages\\pandas\\core\\internals\\construction.py:576: VisibleDeprecationWarning: Creating an ndarray from ragged nested sequences (which is a list-or-tuple of lists-or-tuples-or ndarrays with different lengths or shapes) is deprecated. If you meant to do this, you must specify 'dtype=object' when creating the ndarray.\n",
      "  values = np.array([convert(v) for v in values])\n",
      "c:\\Users\\Radityo Fajar\\AppData\\Local\\Programs\\Python\\Python39\\lib\\site-packages\\pandas\\core\\internals\\construction.py:576: VisibleDeprecationWarning: Creating an ndarray from ragged nested sequences (which is a list-or-tuple of lists-or-tuples-or ndarrays with different lengths or shapes) is deprecated. If you meant to do this, you must specify 'dtype=object' when creating the ndarray.\n",
      "  values = np.array([convert(v) for v in values])\n"
     ]
    },
    {
     "name": "stdout",
     "output_type": "stream",
     "text": [
      "1/1 [==============================] - 0s 32ms/step\n",
      "[array([[2.]]), array([1.7262686], dtype=float32)]\n",
      "1/1 [==============================] - ETA: 0s"
     ]
    },
    {
     "name": "stderr",
     "output_type": "stream",
     "text": [
      "c:\\Users\\Radityo Fajar\\AppData\\Local\\Programs\\Python\\Python39\\lib\\site-packages\\pandas\\core\\internals\\construction.py:576: VisibleDeprecationWarning: Creating an ndarray from ragged nested sequences (which is a list-or-tuple of lists-or-tuples-or ndarrays with different lengths or shapes) is deprecated. If you meant to do this, you must specify 'dtype=object' when creating the ndarray.\n",
      "  values = np.array([convert(v) for v in values])\n"
     ]
    },
    {
     "name": "stdout",
     "output_type": "stream",
     "text": [
      "1/1 [==============================] - 0s 29ms/step\n",
      "[array([[39.]]), array([21.37406], dtype=float32)]\n",
      "1/1 [==============================] - 0s 24ms/step\n",
      "[array([[72.]]), array([65.90454], dtype=float32)]\n"
     ]
    },
    {
     "name": "stderr",
     "output_type": "stream",
     "text": [
      "c:\\Users\\Radityo Fajar\\AppData\\Local\\Programs\\Python\\Python39\\lib\\site-packages\\pandas\\core\\internals\\construction.py:576: VisibleDeprecationWarning: Creating an ndarray from ragged nested sequences (which is a list-or-tuple of lists-or-tuples-or ndarrays with different lengths or shapes) is deprecated. If you meant to do this, you must specify 'dtype=object' when creating the ndarray.\n",
      "  values = np.array([convert(v) for v in values])\n",
      "c:\\Users\\Radityo Fajar\\AppData\\Local\\Programs\\Python\\Python39\\lib\\site-packages\\pandas\\core\\internals\\construction.py:576: VisibleDeprecationWarning: Creating an ndarray from ragged nested sequences (which is a list-or-tuple of lists-or-tuples-or ndarrays with different lengths or shapes) is deprecated. If you meant to do this, you must specify 'dtype=object' when creating the ndarray.\n",
      "  values = np.array([convert(v) for v in values])\n"
     ]
    },
    {
     "name": "stdout",
     "output_type": "stream",
     "text": [
      "1/1 [==============================] - 0s 35ms/step\n",
      "[array([[78.]]), array([74.09182], dtype=float32)]\n"
     ]
    },
    {
     "name": "stderr",
     "output_type": "stream",
     "text": [
      "c:\\Users\\Radityo Fajar\\AppData\\Local\\Programs\\Python\\Python39\\lib\\site-packages\\pandas\\core\\internals\\construction.py:576: VisibleDeprecationWarning: Creating an ndarray from ragged nested sequences (which is a list-or-tuple of lists-or-tuples-or ndarrays with different lengths or shapes) is deprecated. If you meant to do this, you must specify 'dtype=object' when creating the ndarray.\n",
      "  values = np.array([convert(v) for v in values])\n"
     ]
    },
    {
     "name": "stdout",
     "output_type": "stream",
     "text": [
      "1/1 [==============================] - 0s 40ms/step\n",
      "[array([[49.]]), array([63.912144], dtype=float32)]\n",
      "1/1 [==============================] - 0s 23ms/step\n"
     ]
    },
    {
     "name": "stderr",
     "output_type": "stream",
     "text": [
      "c:\\Users\\Radityo Fajar\\AppData\\Local\\Programs\\Python\\Python39\\lib\\site-packages\\pandas\\core\\internals\\construction.py:576: VisibleDeprecationWarning: Creating an ndarray from ragged nested sequences (which is a list-or-tuple of lists-or-tuples-or ndarrays with different lengths or shapes) is deprecated. If you meant to do this, you must specify 'dtype=object' when creating the ndarray.\n",
      "  values = np.array([convert(v) for v in values])\n"
     ]
    },
    {
     "name": "stdout",
     "output_type": "stream",
     "text": [
      "[array([[30.]]), array([22.264402], dtype=float32)]\n"
     ]
    },
    {
     "name": "stderr",
     "output_type": "stream",
     "text": [
      "c:\\Users\\Radityo Fajar\\AppData\\Local\\Programs\\Python\\Python39\\lib\\site-packages\\pandas\\core\\internals\\construction.py:576: VisibleDeprecationWarning: Creating an ndarray from ragged nested sequences (which is a list-or-tuple of lists-or-tuples-or ndarrays with different lengths or shapes) is deprecated. If you meant to do this, you must specify 'dtype=object' when creating the ndarray.\n",
      "  values = np.array([convert(v) for v in values])\n"
     ]
    },
    {
     "name": "stdout",
     "output_type": "stream",
     "text": [
      "1/1 [==============================] - 0s 36ms/step\n",
      "[array([[4.]]), array([3.7672567], dtype=float32)]\n",
      "1/1 [==============================] - ETA: 0s"
     ]
    },
    {
     "name": "stderr",
     "output_type": "stream",
     "text": [
      "c:\\Users\\Radityo Fajar\\AppData\\Local\\Programs\\Python\\Python39\\lib\\site-packages\\pandas\\core\\internals\\construction.py:576: VisibleDeprecationWarning: Creating an ndarray from ragged nested sequences (which is a list-or-tuple of lists-or-tuples-or ndarrays with different lengths or shapes) is deprecated. If you meant to do this, you must specify 'dtype=object' when creating the ndarray.\n",
      "  values = np.array([convert(v) for v in values])\n"
     ]
    },
    {
     "name": "stdout",
     "output_type": "stream",
     "text": [
      "1/1 [==============================] - 0s 36ms/step\n",
      "[array([[0.]]), array([0.36727607], dtype=float32)]\n"
     ]
    },
    {
     "name": "stderr",
     "output_type": "stream",
     "text": [
      "c:\\Users\\Radityo Fajar\\AppData\\Local\\Programs\\Python\\Python39\\lib\\site-packages\\pandas\\core\\internals\\construction.py:576: VisibleDeprecationWarning: Creating an ndarray from ragged nested sequences (which is a list-or-tuple of lists-or-tuples-or ndarrays with different lengths or shapes) is deprecated. If you meant to do this, you must specify 'dtype=object' when creating the ndarray.\n",
      "  values = np.array([convert(v) for v in values])\n"
     ]
    },
    {
     "name": "stdout",
     "output_type": "stream",
     "text": [
      "1/1 [==============================] - 0s 42ms/step\n",
      "[array([[0.]]), array([0.595976], dtype=float32)]\n"
     ]
    },
    {
     "name": "stderr",
     "output_type": "stream",
     "text": [
      "c:\\Users\\Radityo Fajar\\AppData\\Local\\Programs\\Python\\Python39\\lib\\site-packages\\pandas\\core\\internals\\construction.py:576: VisibleDeprecationWarning: Creating an ndarray from ragged nested sequences (which is a list-or-tuple of lists-or-tuples-or ndarrays with different lengths or shapes) is deprecated. If you meant to do this, you must specify 'dtype=object' when creating the ndarray.\n",
      "  values = np.array([convert(v) for v in values])\n"
     ]
    },
    {
     "name": "stdout",
     "output_type": "stream",
     "text": [
      "1/1 [==============================] - 0s 50ms/step\n",
      "[array([[0.]]), array([0.66502845], dtype=float32)]\n"
     ]
    },
    {
     "name": "stderr",
     "output_type": "stream",
     "text": [
      "c:\\Users\\Radityo Fajar\\AppData\\Local\\Programs\\Python\\Python39\\lib\\site-packages\\pandas\\core\\internals\\construction.py:576: VisibleDeprecationWarning: Creating an ndarray from ragged nested sequences (which is a list-or-tuple of lists-or-tuples-or ndarrays with different lengths or shapes) is deprecated. If you meant to do this, you must specify 'dtype=object' when creating the ndarray.\n",
      "  values = np.array([convert(v) for v in values])\n"
     ]
    },
    {
     "name": "stdout",
     "output_type": "stream",
     "text": [
      "1/1 [==============================] - 0s 35ms/step\n",
      "[array([[0.]]), array([0.87922585], dtype=float32)]\n",
      "1/1 [==============================] - ETA: 0s"
     ]
    },
    {
     "name": "stderr",
     "output_type": "stream",
     "text": [
      "c:\\Users\\Radityo Fajar\\AppData\\Local\\Programs\\Python\\Python39\\lib\\site-packages\\pandas\\core\\internals\\construction.py:576: VisibleDeprecationWarning: Creating an ndarray from ragged nested sequences (which is a list-or-tuple of lists-or-tuples-or ndarrays with different lengths or shapes) is deprecated. If you meant to do this, you must specify 'dtype=object' when creating the ndarray.\n",
      "  values = np.array([convert(v) for v in values])\n"
     ]
    },
    {
     "name": "stdout",
     "output_type": "stream",
     "text": [
      "1/1 [==============================] - 0s 28ms/step\n",
      "[array([[0.]]), array([0.9229389], dtype=float32)]\n",
      "1/1 [==============================] - ETA: 0s"
     ]
    },
    {
     "name": "stderr",
     "output_type": "stream",
     "text": [
      "c:\\Users\\Radityo Fajar\\AppData\\Local\\Programs\\Python\\Python39\\lib\\site-packages\\pandas\\core\\internals\\construction.py:576: VisibleDeprecationWarning: Creating an ndarray from ragged nested sequences (which is a list-or-tuple of lists-or-tuples-or ndarrays with different lengths or shapes) is deprecated. If you meant to do this, you must specify 'dtype=object' when creating the ndarray.\n",
      "  values = np.array([convert(v) for v in values])\n"
     ]
    },
    {
     "name": "stdout",
     "output_type": "stream",
     "text": [
      "1/1 [==============================] - 0s 32ms/step\n"
     ]
    },
    {
     "ename": "KeyboardInterrupt",
     "evalue": "",
     "output_type": "error",
     "traceback": [
      "\u001b[1;31m---------------------------------------------------------------------------\u001b[0m",
      "\u001b[1;31mKeyboardInterrupt\u001b[0m                         Traceback (most recent call last)",
      "\u001b[1;32mc:\\Users\\Radityo Fajar\\OneDrive - KookminUNIV\\바탕 화면\\Tes\\LSTM2.ipynb Cell 20\u001b[0m in \u001b[0;36m<cell line: 3>\u001b[1;34m()\u001b[0m\n\u001b[0;32m      <a href='vscode-notebook-cell:/c%3A/Users/Radityo%20Fajar/OneDrive%20-%20KookminUNIV/%EB%B0%94%ED%83%95%20%ED%99%94%EB%A9%B4/Tes/LSTM2.ipynb#X25sZmlsZQ%3D%3D?line=4'>5</a>\u001b[0m X_input \u001b[39m=\u001b[39m X_test[i, :, :]\n\u001b[0;32m      <a href='vscode-notebook-cell:/c%3A/Users/Radityo%20Fajar/OneDrive%20-%20KookminUNIV/%EB%B0%94%ED%83%95%20%ED%99%94%EB%A9%B4/Tes/LSTM2.ipynb#X25sZmlsZQ%3D%3D?line=5'>6</a>\u001b[0m X_input \u001b[39m=\u001b[39m np\u001b[39m.\u001b[39mreshape(X_input, (\u001b[39m1\u001b[39m, X_input\u001b[39m.\u001b[39mshape[\u001b[39m0\u001b[39m], \u001b[39m1\u001b[39m))\n\u001b[1;32m----> <a href='vscode-notebook-cell:/c%3A/Users/Radityo%20Fajar/OneDrive%20-%20KookminUNIV/%EB%B0%94%ED%83%95%20%ED%99%94%EB%A9%B4/Tes/LSTM2.ipynb#X25sZmlsZQ%3D%3D?line=6'>7</a>\u001b[0m X_input \u001b[39m=\u001b[39m model\u001b[39m.\u001b[39mpredict(X_input)\n\u001b[0;32m      <a href='vscode-notebook-cell:/c%3A/Users/Radityo%20Fajar/OneDrive%20-%20KookminUNIV/%EB%B0%94%ED%83%95%20%ED%99%94%EB%A9%B4/Tes/LSTM2.ipynb#X25sZmlsZQ%3D%3D?line=7'>8</a>\u001b[0m forecast \u001b[39m=\u001b[39m scaler\u001b[39m.\u001b[39minverse_transform(X_input)\n\u001b[0;32m     <a href='vscode-notebook-cell:/c%3A/Users/Radityo%20Fajar/OneDrive%20-%20KookminUNIV/%EB%B0%94%ED%83%95%20%ED%99%94%EB%A9%B4/Tes/LSTM2.ipynb#X25sZmlsZQ%3D%3D?line=9'>10</a>\u001b[0m y_input \u001b[39m=\u001b[39m y_test[i,:]\n",
      "File \u001b[1;32mc:\\Users\\Radityo Fajar\\AppData\\Local\\Programs\\Python\\Python39\\lib\\site-packages\\keras\\utils\\traceback_utils.py:64\u001b[0m, in \u001b[0;36mfilter_traceback.<locals>.error_handler\u001b[1;34m(*args, **kwargs)\u001b[0m\n\u001b[0;32m     62\u001b[0m filtered_tb \u001b[39m=\u001b[39m \u001b[39mNone\u001b[39;00m\n\u001b[0;32m     63\u001b[0m \u001b[39mtry\u001b[39;00m:\n\u001b[1;32m---> 64\u001b[0m   \u001b[39mreturn\u001b[39;00m fn(\u001b[39m*\u001b[39margs, \u001b[39m*\u001b[39m\u001b[39m*\u001b[39mkwargs)\n\u001b[0;32m     65\u001b[0m \u001b[39mexcept\u001b[39;00m \u001b[39mException\u001b[39;00m \u001b[39mas\u001b[39;00m e:  \u001b[39m# pylint: disable=broad-except\u001b[39;00m\n\u001b[0;32m     66\u001b[0m   filtered_tb \u001b[39m=\u001b[39m _process_traceback_frames(e\u001b[39m.\u001b[39m__traceback__)\n",
      "File \u001b[1;32mc:\\Users\\Radityo Fajar\\AppData\\Local\\Programs\\Python\\Python39\\lib\\site-packages\\keras\\engine\\training.py:2064\u001b[0m, in \u001b[0;36mModel.predict\u001b[1;34m(self, x, batch_size, verbose, steps, callbacks, max_queue_size, workers, use_multiprocessing)\u001b[0m\n\u001b[0;32m   2061\u001b[0m \u001b[39mif\u001b[39;00m original_pss_strategy \u001b[39mis\u001b[39;00m \u001b[39mnot\u001b[39;00m \u001b[39mNone\u001b[39;00m:\n\u001b[0;32m   2062\u001b[0m   \u001b[39mself\u001b[39m\u001b[39m.\u001b[39m_distribution_strategy \u001b[39m=\u001b[39m original_pss_strategy\n\u001b[1;32m-> 2064\u001b[0m \u001b[39mreturn\u001b[39;00m tf_utils\u001b[39m.\u001b[39;49msync_to_numpy_or_python_type(all_outputs)\n",
      "File \u001b[1;32mc:\\Users\\Radityo Fajar\\AppData\\Local\\Programs\\Python\\Python39\\lib\\site-packages\\keras\\utils\\tf_utils.py:607\u001b[0m, in \u001b[0;36msync_to_numpy_or_python_type\u001b[1;34m(tensors)\u001b[0m\n\u001b[0;32m    604\u001b[0m     \u001b[39mreturn\u001b[39;00m t\n\u001b[0;32m    605\u001b[0m   \u001b[39mreturn\u001b[39;00m t\u001b[39m.\u001b[39mitem() \u001b[39mif\u001b[39;00m np\u001b[39m.\u001b[39mndim(t) \u001b[39m==\u001b[39m \u001b[39m0\u001b[39m \u001b[39melse\u001b[39;00m t\n\u001b[1;32m--> 607\u001b[0m \u001b[39mreturn\u001b[39;00m tf\u001b[39m.\u001b[39;49mnest\u001b[39m.\u001b[39;49mmap_structure(_to_single_numpy_or_python_type, tensors)\n",
      "File \u001b[1;32m~\\AppData\\Roaming\\Python\\Python39\\site-packages\\tensorflow\\python\\util\\nest.py:916\u001b[0m, in \u001b[0;36mmap_structure\u001b[1;34m(func, *structure, **kwargs)\u001b[0m\n\u001b[0;32m    912\u001b[0m flat_structure \u001b[39m=\u001b[39m (flatten(s, expand_composites) \u001b[39mfor\u001b[39;00m s \u001b[39min\u001b[39;00m structure)\n\u001b[0;32m    913\u001b[0m entries \u001b[39m=\u001b[39m \u001b[39mzip\u001b[39m(\u001b[39m*\u001b[39mflat_structure)\n\u001b[0;32m    915\u001b[0m \u001b[39mreturn\u001b[39;00m pack_sequence_as(\n\u001b[1;32m--> 916\u001b[0m     structure[\u001b[39m0\u001b[39m], [func(\u001b[39m*\u001b[39mx) \u001b[39mfor\u001b[39;00m x \u001b[39min\u001b[39;00m entries],\n\u001b[0;32m    917\u001b[0m     expand_composites\u001b[39m=\u001b[39mexpand_composites)\n",
      "File \u001b[1;32m~\\AppData\\Roaming\\Python\\Python39\\site-packages\\tensorflow\\python\\util\\nest.py:916\u001b[0m, in \u001b[0;36m<listcomp>\u001b[1;34m(.0)\u001b[0m\n\u001b[0;32m    912\u001b[0m flat_structure \u001b[39m=\u001b[39m (flatten(s, expand_composites) \u001b[39mfor\u001b[39;00m s \u001b[39min\u001b[39;00m structure)\n\u001b[0;32m    913\u001b[0m entries \u001b[39m=\u001b[39m \u001b[39mzip\u001b[39m(\u001b[39m*\u001b[39mflat_structure)\n\u001b[0;32m    915\u001b[0m \u001b[39mreturn\u001b[39;00m pack_sequence_as(\n\u001b[1;32m--> 916\u001b[0m     structure[\u001b[39m0\u001b[39m], [func(\u001b[39m*\u001b[39;49mx) \u001b[39mfor\u001b[39;00m x \u001b[39min\u001b[39;00m entries],\n\u001b[0;32m    917\u001b[0m     expand_composites\u001b[39m=\u001b[39mexpand_composites)\n",
      "File \u001b[1;32mc:\\Users\\Radityo Fajar\\AppData\\Local\\Programs\\Python\\Python39\\lib\\site-packages\\keras\\utils\\tf_utils.py:601\u001b[0m, in \u001b[0;36msync_to_numpy_or_python_type.<locals>._to_single_numpy_or_python_type\u001b[1;34m(t)\u001b[0m\n\u001b[0;32m    598\u001b[0m \u001b[39mdef\u001b[39;00m \u001b[39m_to_single_numpy_or_python_type\u001b[39m(t):\n\u001b[0;32m    599\u001b[0m   \u001b[39m# Don't turn ragged or sparse tensors to NumPy.\u001b[39;00m\n\u001b[0;32m    600\u001b[0m   \u001b[39mif\u001b[39;00m \u001b[39misinstance\u001b[39m(t, tf\u001b[39m.\u001b[39mTensor):\n\u001b[1;32m--> 601\u001b[0m     t \u001b[39m=\u001b[39m t\u001b[39m.\u001b[39;49mnumpy()\n\u001b[0;32m    602\u001b[0m   \u001b[39m# Strings, ragged and sparse tensors don't have .item(). Return them as-is.\u001b[39;00m\n\u001b[0;32m    603\u001b[0m   \u001b[39mif\u001b[39;00m \u001b[39mnot\u001b[39;00m \u001b[39misinstance\u001b[39m(t, (np\u001b[39m.\u001b[39mndarray, np\u001b[39m.\u001b[39mgeneric)):\n",
      "File \u001b[1;32m~\\AppData\\Roaming\\Python\\Python39\\site-packages\\tensorflow\\python\\framework\\ops.py:1159\u001b[0m, in \u001b[0;36m_EagerTensorBase.numpy\u001b[1;34m(self)\u001b[0m\n\u001b[0;32m   1136\u001b[0m \u001b[39m\"\"\"Copy of the contents of this Tensor into a NumPy array or scalar.\u001b[39;00m\n\u001b[0;32m   1137\u001b[0m \n\u001b[0;32m   1138\u001b[0m \u001b[39mUnlike NumPy arrays, Tensors are immutable, so this method has to copy\u001b[39;00m\n\u001b[1;32m   (...)\u001b[0m\n\u001b[0;32m   1156\u001b[0m \u001b[39m    NumPy dtype.\u001b[39;00m\n\u001b[0;32m   1157\u001b[0m \u001b[39m\"\"\"\u001b[39;00m\n\u001b[0;32m   1158\u001b[0m \u001b[39m# TODO(slebedev): Consider avoiding a copy for non-CPU or remote tensors.\u001b[39;00m\n\u001b[1;32m-> 1159\u001b[0m maybe_arr \u001b[39m=\u001b[39m \u001b[39mself\u001b[39;49m\u001b[39m.\u001b[39;49m_numpy()  \u001b[39m# pylint: disable=protected-access\u001b[39;00m\n\u001b[0;32m   1160\u001b[0m \u001b[39mreturn\u001b[39;00m maybe_arr\u001b[39m.\u001b[39mcopy() \u001b[39mif\u001b[39;00m \u001b[39misinstance\u001b[39m(maybe_arr, np\u001b[39m.\u001b[39mndarray) \u001b[39melse\u001b[39;00m maybe_arr\n",
      "File \u001b[1;32m~\\AppData\\Roaming\\Python\\Python39\\site-packages\\tensorflow\\python\\framework\\ops.py:1125\u001b[0m, in \u001b[0;36m_EagerTensorBase._numpy\u001b[1;34m(self)\u001b[0m\n\u001b[0;32m   1123\u001b[0m \u001b[39mdef\u001b[39;00m \u001b[39m_numpy\u001b[39m(\u001b[39mself\u001b[39m):\n\u001b[0;32m   1124\u001b[0m   \u001b[39mtry\u001b[39;00m:\n\u001b[1;32m-> 1125\u001b[0m     \u001b[39mreturn\u001b[39;00m \u001b[39mself\u001b[39;49m\u001b[39m.\u001b[39;49m_numpy_internal()\n\u001b[0;32m   1126\u001b[0m   \u001b[39mexcept\u001b[39;00m core\u001b[39m.\u001b[39m_NotOkStatusException \u001b[39mas\u001b[39;00m e:  \u001b[39m# pylint: disable=protected-access\u001b[39;00m\n\u001b[0;32m   1127\u001b[0m     \u001b[39mraise\u001b[39;00m core\u001b[39m.\u001b[39m_status_to_exception(e) \u001b[39mfrom\u001b[39;00m \u001b[39mNone\u001b[39m\n",
      "\u001b[1;31mKeyboardInterrupt\u001b[0m: "
     ]
    }
   ],
   "source": [
    "import time\n",
    "\n",
    "for i in range (0, X_test.shape[0]):\n",
    "    power_summary = []\n",
    "    X_input = X_test[i, :, :]\n",
    "    X_input = np.reshape(X_input, (1, X_input.shape[0], 1))\n",
    "    X_input = model.predict(X_input)\n",
    "    forecast = scaler.inverse_transform(X_input)\n",
    "\n",
    "    y_input = y_test[i,:]\n",
    "    y_input = np.reshape(y_input, (1,1))\n",
    "    actual = scaler.inverse_transform(y_input)\n",
    "    \n",
    "    power_summary.append(actual)\n",
    "    power_summary.extend(forecast)\n",
    "\n",
    "    df_animate = pd.DataFrame(power_summary)\n",
    "    df_animate = df_animate.T\n",
    "    df_animate.to_csv('real_time_power.csv', mode='a', header=False, index=False)\n",
    "\n",
    "    print(power_summary)\n",
    "    time.sleep(0.1)"
   ]
  },
  {
   "cell_type": "code",
   "execution_count": null,
   "metadata": {},
   "outputs": [],
   "source": []
  }
 ],
 "metadata": {
  "kernelspec": {
   "display_name": "Python 3.9.10 64-bit",
   "language": "python",
   "name": "python3"
  },
  "language_info": {
   "codemirror_mode": {
    "name": "ipython",
    "version": 3
   },
   "file_extension": ".py",
   "mimetype": "text/x-python",
   "name": "python",
   "nbconvert_exporter": "python",
   "pygments_lexer": "ipython3",
   "version": "3.9.10"
  },
  "orig_nbformat": 4,
  "vscode": {
   "interpreter": {
    "hash": "ffd3c714bd65f30b404c0ab8fd8d53dce4eb8a25374ccb477b01f516305712f6"
   }
  }
 },
 "nbformat": 4,
 "nbformat_minor": 2
}
