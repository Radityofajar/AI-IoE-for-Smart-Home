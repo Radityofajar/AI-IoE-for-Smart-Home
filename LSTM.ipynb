{
 "cells": [
  {
   "cell_type": "code",
   "execution_count": 15,
   "metadata": {},
   "outputs": [],
   "source": [
    "import glob\n",
    "import pandas as pd\n",
    "import numpy as np"
   ]
  },
  {
   "cell_type": "code",
   "execution_count": 16,
   "metadata": {},
   "outputs": [],
   "source": [
    "appended_data = []\n",
    "for f in glob.glob (\"Data - NSW/*.csv\"):\n",
    "    df = pd.read_csv(f, header=0)\n",
    "    appended_data.append(df)\n",
    "df = pd.concat(appended_data)\n",
    "df.to_csv('appended.csv')"
   ]
  },
  {
   "cell_type": "code",
   "execution_count": 17,
   "metadata": {},
   "outputs": [
    {
     "name": "stdout",
     "output_type": "stream",
     "text": [
      "REGION             object\n",
      "SETTLEMENTDATE     object\n",
      "TOTALDEMAND       float64\n",
      "RRP               float64\n",
      "PERIODTYPE         object\n",
      "dtype: object\n"
     ]
    }
   ],
   "source": [
    "print(df.dtypes)"
   ]
  },
  {
   "cell_type": "code",
   "execution_count": 18,
   "metadata": {},
   "outputs": [
    {
     "name": "stdout",
     "output_type": "stream",
     "text": [
      "  REGION       SETTLEMENTDATE  TOTALDEMAND    RRP PERIODTYPE  \\\n",
      "0   NSW1  2021/01/01 00:30:00      6846.57  38.04      TRADE   \n",
      "1   NSW1  2021/01/01 01:00:00      6610.45  38.10      TRADE   \n",
      "2   NSW1  2021/01/01 01:30:00      6268.29  32.26      TRADE   \n",
      "3   NSW1  2021/01/01 02:00:00      6043.20  32.45      TRADE   \n",
      "4   NSW1  2021/01/01 02:30:00      5826.44  27.76      TRADE   \n",
      "\n",
      "            Date Time         Day  Month  Year  Hour  Minute   Demand  \n",
      "0 2021-01-01 00:30:00  2021-01-01      1  2021     0      30  6846.57  \n",
      "1 2021-01-01 01:00:00  2021-01-01      1  2021     1       0  6610.45  \n",
      "2 2021-01-01 01:30:00  2021-01-01      1  2021     1      30  6268.29  \n",
      "3 2021-01-01 02:00:00  2021-01-01      1  2021     2       0  6043.20  \n",
      "4 2021-01-01 02:30:00  2021-01-01      1  2021     2      30  5826.44  \n"
     ]
    }
   ],
   "source": [
    "df['Date Time'] = pd.to_datetime(df['SETTLEMENTDATE'])\n",
    "df['Day'] = df[\"Date Time\"].dt.date\n",
    "df['Month'] = df['Date Time'].dt.month\n",
    "df['Year'] = df['Date Time'].dt.year\n",
    "df['Hour'] = df['Date Time'].dt.hour\n",
    "df['Minute'] = df['Date Time'].dt.minute\n",
    "\n",
    "df['Demand'] = pd.to_numeric(df['TOTALDEMAND'], errors='coerce')\n",
    "print(df.head())"
   ]
  },
  {
   "cell_type": "code",
   "execution_count": 19,
   "metadata": {},
   "outputs": [
    {
     "name": "stdout",
     "output_type": "stream",
     "text": [
      "REGION                    object\n",
      "SETTLEMENTDATE            object\n",
      "TOTALDEMAND              float64\n",
      "RRP                      float64\n",
      "PERIODTYPE                object\n",
      "Date Time         datetime64[ns]\n",
      "Day                       object\n",
      "Month                      int64\n",
      "Year                       int64\n",
      "Hour                       int64\n",
      "Minute                     int64\n",
      "Demand                   float64\n",
      "dtype: object\n"
     ]
    }
   ],
   "source": [
    "print(df.dtypes)"
   ]
  },
  {
   "cell_type": "code",
   "execution_count": 20,
   "metadata": {},
   "outputs": [],
   "source": [
    "df.drop(['REGION'], axis=1, inplace=True)\n",
    "df.drop(['SETTLEMENTDATE'], axis=1, inplace=True)\n",
    "df.drop(['TOTALDEMAND'], axis=1, inplace=True)\n",
    "df.drop(['RRP'], axis=1, inplace=True)\n",
    "df.drop(['PERIODTYPE'], axis=1, inplace=True)\n",
    "df.drop(['Date Time'], axis=1, inplace=True)"
   ]
  },
  {
   "cell_type": "code",
   "execution_count": 21,
   "metadata": {},
   "outputs": [
    {
     "data": {
      "text/html": [
       "<div>\n",
       "<style scoped>\n",
       "    .dataframe tbody tr th:only-of-type {\n",
       "        vertical-align: middle;\n",
       "    }\n",
       "\n",
       "    .dataframe tbody tr th {\n",
       "        vertical-align: top;\n",
       "    }\n",
       "\n",
       "    .dataframe thead th {\n",
       "        text-align: right;\n",
       "    }\n",
       "</style>\n",
       "<table border=\"1\" class=\"dataframe\">\n",
       "  <thead>\n",
       "    <tr style=\"text-align: right;\">\n",
       "      <th></th>\n",
       "      <th>Day</th>\n",
       "      <th>Month</th>\n",
       "      <th>Year</th>\n",
       "      <th>Hour</th>\n",
       "      <th>Minute</th>\n",
       "      <th>Demand</th>\n",
       "    </tr>\n",
       "  </thead>\n",
       "  <tbody>\n",
       "    <tr>\n",
       "      <th>0</th>\n",
       "      <td>2021-01-01</td>\n",
       "      <td>1</td>\n",
       "      <td>2021</td>\n",
       "      <td>0</td>\n",
       "      <td>30</td>\n",
       "      <td>6846.57</td>\n",
       "    </tr>\n",
       "    <tr>\n",
       "      <th>1</th>\n",
       "      <td>2021-01-01</td>\n",
       "      <td>1</td>\n",
       "      <td>2021</td>\n",
       "      <td>1</td>\n",
       "      <td>0</td>\n",
       "      <td>6610.45</td>\n",
       "    </tr>\n",
       "    <tr>\n",
       "      <th>2</th>\n",
       "      <td>2021-01-01</td>\n",
       "      <td>1</td>\n",
       "      <td>2021</td>\n",
       "      <td>1</td>\n",
       "      <td>30</td>\n",
       "      <td>6268.29</td>\n",
       "    </tr>\n",
       "    <tr>\n",
       "      <th>3</th>\n",
       "      <td>2021-01-01</td>\n",
       "      <td>1</td>\n",
       "      <td>2021</td>\n",
       "      <td>2</td>\n",
       "      <td>0</td>\n",
       "      <td>6043.20</td>\n",
       "    </tr>\n",
       "    <tr>\n",
       "      <th>4</th>\n",
       "      <td>2021-01-01</td>\n",
       "      <td>1</td>\n",
       "      <td>2021</td>\n",
       "      <td>2</td>\n",
       "      <td>30</td>\n",
       "      <td>5826.44</td>\n",
       "    </tr>\n",
       "  </tbody>\n",
       "</table>\n",
       "</div>"
      ],
      "text/plain": [
       "          Day  Month  Year  Hour  Minute   Demand\n",
       "0  2021-01-01      1  2021     0      30  6846.57\n",
       "1  2021-01-01      1  2021     1       0  6610.45\n",
       "2  2021-01-01      1  2021     1      30  6268.29\n",
       "3  2021-01-01      1  2021     2       0  6043.20\n",
       "4  2021-01-01      1  2021     2      30  5826.44"
      ]
     },
     "execution_count": 21,
     "metadata": {},
     "output_type": "execute_result"
    }
   ],
   "source": [
    "df.head()"
   ]
  },
  {
   "cell_type": "code",
   "execution_count": 27,
   "metadata": {},
   "outputs": [],
   "source": [
    "X = []\n",
    "y = []\n",
    "for i in range (0, df.shape[0]-48):\n",
    "    X.append(df.iloc[i:i+48, 5])\n",
    "    y.append(df.iloc[i+48, 5])\n",
    "\n",
    "X, y = np.array(X), np.array(y)\n",
    "y = np.reshape(y, (len(y), 1))\n",
    "\n",
    "X = np.delete(X, list(range(1, X.shape[1], 2)), axis=1)\n",
    "X = np.delete(X, list(range(1, X.shape[0], 2)), axis=0)\n",
    "y = np.delete(y, list(range(1, y.shape[0], 2)), axis=0)\n",
    "\n",
    "pd.DataFrame(X).to_csv('appended_DemandX.csv')\n",
    "pd.DataFrame(y).to_csv('appended_Demandy.csv')"
   ]
  },
  {
   "cell_type": "code",
   "execution_count": 29,
   "metadata": {},
   "outputs": [],
   "source": [
    "from sklearn.preprocessing import MinMaxScaler\n",
    "scaler = MinMaxScaler(feature_range=(0,1))\n",
    "\n",
    "X = scaler.fit_transform(X)\n",
    "y = scaler.fit_transform(y)\n",
    "\n",
    "X_train, X_test = X[:-480], X[-480:]\n",
    "y_train, y_test = y[:-480], y[-480:]\n",
    "\n",
    "X_train = np.reshape(X_train, (X_train.shape[0], X_train.shape[1], 1))\n",
    "X_test = np.reshape(X_test, (X_test.shape[0], X_test.shape[1], 1))"
   ]
  },
  {
   "cell_type": "code",
   "execution_count": 34,
   "metadata": {},
   "outputs": [],
   "source": [
    "from tensorflow.keras.models import Sequential\n",
    "from tensorflow.keras.layers import Dense, Activation, LSTM\n",
    "from tensorflow.keras import optimizers\n",
    "from tensorflow.keras.callbacks import ModelCheckpoint, EarlyStopping"
   ]
  },
  {
   "cell_type": "code",
   "execution_count": 32,
   "metadata": {},
   "outputs": [],
   "source": [
    "model = Sequential()\n",
    "model.add(LSTM(64, return_sequences=True, input_shape=(X_train.shape[1], 1)))\n",
    "model.add(LSTM(128, return_sequences=False))\n",
    "model.add(Dense(32, activation='relu'))\n",
    "model.add(Dense(1))"
   ]
  },
  {
   "cell_type": "code",
   "execution_count": null,
   "metadata": {},
   "outputs": [],
   "source": [
    "import os\n",
    "import tensorflow as tf\n",
    "tf.debugging.set_log_device_placement(True)\n",
    "epochs=1000\n",
    "logdir='logs1'\n",
    "checkpoint_path = 'checkpoint/cp1.ckpt'\n",
    "checkpoint_dir = os.path.dirname(checkpoint_path)\n",
    "tensorboard_callback = tf.keras.callbacks.TensorBoard(log_dir=logdir)\n",
    "cb_checkpoint = tf.keras.callbacks.ModelCheckpoint(\n",
    "    checkpoint_path,\n",
    "    monitor='val_loss',\n",
    "    verbose=1,\n",
    "    save_best_only=True,\n",
    "    save_weights_only=True\n",
    ")"
   ]
  },
  {
   "cell_type": "code",
   "execution_count": 41,
   "metadata": {},
   "outputs": [
    {
     "data": {
      "text/plain": [
       "<keras.optimizers.optimizer_v2.adam.Adam at 0x277ff901640>"
      ]
     },
     "execution_count": 41,
     "metadata": {},
     "output_type": "execute_result"
    }
   ],
   "source": [
    "filepath = 'model/lstm1.hdf5'\n",
    "callbacks = [EarlyStopping(monitor='val_loss', patience=50),tensorboard_callback, ModelCheckpoint(filepath, monitor='val_loss',verbose=1, save_best_only=True, mode='min',save_weights_only=True)]\n",
    "optimizers.Adam(learning_rate=1e-4)"
   ]
  },
  {
   "cell_type": "code",
   "execution_count": 43,
   "metadata": {},
   "outputs": [
    {
     "name": "stdout",
     "output_type": "stream",
     "text": [
      "Model: \"sequential\"\n",
      "_________________________________________________________________\n",
      " Layer (type)                Output Shape              Param #   \n",
      "=================================================================\n",
      " lstm (LSTM)                 (None, 24, 50)            10400     \n",
      "                                                                 \n",
      " lstm_1 (LSTM)               (None, 50)                20200     \n",
      "                                                                 \n",
      " dense (Dense)               (None, 50)                2550      \n",
      "                                                                 \n",
      " dense_1 (Dense)             (None, 1)                 51        \n",
      "                                                                 \n",
      "=================================================================\n",
      "Total params: 33,201\n",
      "Trainable params: 33,201\n",
      "Non-trainable params: 0\n",
      "_________________________________________________________________\n"
     ]
    }
   ],
   "source": [
    "model.compile(optimizer='adam', loss='mse', metrics=['mae', 'mape'])\n",
    "model.summary()"
   ]
  },
  {
   "cell_type": "code",
   "execution_count": 44,
   "metadata": {},
   "outputs": [
    {
     "name": "stdout",
     "output_type": "stream",
     "text": [
      "Epoch 1/1000\n",
      "4983/4983 [==============================] - 78s 15ms/step - loss: 1.5687e-04 - mae: 0.0091 - mape: 400.3061 - val_loss: 1.9847e-04 - val_mae: 0.0110 - val_mape: 2.1944\n",
      "Epoch 2/1000\n",
      "4983/4983 [==============================] - 70s 14ms/step - loss: 1.5079e-04 - mae: 0.0089 - mape: 518.1671 - val_loss: 1.3052e-04 - val_mae: 0.0086 - val_mape: 1.6623\n",
      "Epoch 3/1000\n",
      "4983/4983 [==============================] - 65s 13ms/step - loss: 1.4588e-04 - mae: 0.0088 - mape: 529.1026 - val_loss: 2.0689e-04 - val_mae: 0.0107 - val_mape: 1.9749\n",
      "Epoch 4/1000\n",
      "4983/4983 [==============================] - 66s 13ms/step - loss: 1.4257e-04 - mae: 0.0087 - mape: 254.3635 - val_loss: 2.8353e-04 - val_mae: 0.0138 - val_mape: 2.6575\n",
      "Epoch 5/1000\n",
      "4983/4983 [==============================] - 66s 13ms/step - loss: 1.3499e-04 - mae: 0.0085 - mape: 46.2049 - val_loss: 1.6118e-04 - val_mae: 0.0096 - val_mape: 1.8587\n",
      "Epoch 6/1000\n",
      "4983/4983 [==============================] - 65s 13ms/step - loss: 1.3647e-04 - mae: 0.0085 - mape: 524.1002 - val_loss: 1.3117e-04 - val_mae: 0.0088 - val_mape: 1.7524\n",
      "Epoch 7/1000\n",
      "4983/4983 [==============================] - 65s 13ms/step - loss: 1.3067e-04 - mae: 0.0083 - mape: 270.0578 - val_loss: 1.1752e-04 - val_mae: 0.0083 - val_mape: 1.6465\n",
      "Epoch 8/1000\n",
      "4983/4983 [==============================] - 65s 13ms/step - loss: 1.2928e-04 - mae: 0.0083 - mape: 477.0991 - val_loss: 1.6760e-04 - val_mae: 0.0103 - val_mape: 1.9740\n",
      "Epoch 9/1000\n",
      "4983/4983 [==============================] - 66s 13ms/step - loss: 1.2738e-04 - mae: 0.0083 - mape: 316.3321 - val_loss: 3.4159e-04 - val_mae: 0.0146 - val_mape: 2.6215\n",
      "Epoch 10/1000\n",
      "4983/4983 [==============================] - 65s 13ms/step - loss: 1.2760e-04 - mae: 0.0083 - mape: 470.0007 - val_loss: 1.2662e-04 - val_mae: 0.0087 - val_mape: 1.7288\n",
      "Epoch 11/1000\n",
      "4983/4983 [==============================] - 66s 13ms/step - loss: 1.2536e-04 - mae: 0.0082 - mape: 490.1427 - val_loss: 1.3147e-04 - val_mae: 0.0088 - val_mape: 1.7444\n",
      "Epoch 12/1000\n",
      "4983/4983 [==============================] - 67s 13ms/step - loss: 1.2390e-04 - mae: 0.0081 - mape: 963.9034 - val_loss: 1.1771e-04 - val_mae: 0.0084 - val_mape: 1.6786\n",
      "Epoch 13/1000\n",
      "4983/4983 [==============================] - 65s 13ms/step - loss: 1.2231e-04 - mae: 0.0081 - mape: 323.3446 - val_loss: 1.0811e-04 - val_mae: 0.0079 - val_mape: 1.5309\n",
      "Epoch 14/1000\n",
      "4983/4983 [==============================] - 66s 13ms/step - loss: 1.2091e-04 - mae: 0.0081 - mape: 473.7526 - val_loss: 1.2527e-04 - val_mae: 0.0085 - val_mape: 1.6381\n",
      "Epoch 15/1000\n",
      "4983/4983 [==============================] - 68s 14ms/step - loss: 1.2054e-04 - mae: 0.0080 - mape: 313.5214 - val_loss: 1.7388e-04 - val_mae: 0.0105 - val_mape: 1.9901\n",
      "Epoch 16/1000\n",
      "4983/4983 [==============================] - 74s 15ms/step - loss: 1.1917e-04 - mae: 0.0080 - mape: 39.4345 - val_loss: 1.8441e-04 - val_mae: 0.0102 - val_mape: 1.8897\n",
      "Epoch 17/1000\n",
      "4983/4983 [==============================] - 76s 15ms/step - loss: 1.1710e-04 - mae: 0.0079 - mape: 342.8813 - val_loss: 1.1599e-04 - val_mae: 0.0082 - val_mape: 1.6089\n",
      "Epoch 18/1000\n",
      "4983/4983 [==============================] - 75s 15ms/step - loss: 1.1679e-04 - mae: 0.0079 - mape: 616.5864 - val_loss: 1.1203e-04 - val_mae: 0.0080 - val_mape: 1.5700\n",
      "Epoch 19/1000\n",
      "4983/4983 [==============================] - 82s 16ms/step - loss: 1.1790e-04 - mae: 0.0080 - mape: 11.0935 - val_loss: 3.3771e-04 - val_mae: 0.0146 - val_mape: 2.6583\n",
      "Epoch 20/1000\n",
      "4983/4983 [==============================] - 72s 14ms/step - loss: 1.1540e-04 - mae: 0.0079 - mape: 4.0293 - val_loss: 1.2289e-04 - val_mae: 0.0085 - val_mape: 1.7096\n",
      "Epoch 21/1000\n",
      "4983/4983 [==============================] - 72s 14ms/step - loss: 1.1426e-04 - mae: 0.0078 - mape: 127.1477 - val_loss: 2.5193e-04 - val_mae: 0.0127 - val_mape: 2.3378\n",
      "Epoch 22/1000\n",
      "4983/4983 [==============================] - 71s 14ms/step - loss: 1.1295e-04 - mae: 0.0078 - mape: 86.0386 - val_loss: 2.1088e-04 - val_mae: 0.0116 - val_mape: 2.2787\n",
      "Epoch 23/1000\n",
      "4983/4983 [==============================] - 73s 15ms/step - loss: 1.1406e-04 - mae: 0.0078 - mape: 904.2416 - val_loss: 1.6980e-04 - val_mae: 0.0096 - val_mape: 1.7978\n",
      "Epoch 24/1000\n",
      "4983/4983 [==============================] - 70s 14ms/step - loss: 1.1286e-04 - mae: 0.0078 - mape: 21.6203 - val_loss: 2.3719e-04 - val_mae: 0.0125 - val_mape: 2.3889\n",
      "Epoch 25/1000\n",
      "4983/4983 [==============================] - 65s 13ms/step - loss: 1.1209e-04 - mae: 0.0078 - mape: 50.2121 - val_loss: 1.1911e-04 - val_mae: 0.0084 - val_mape: 1.6422\n",
      "Epoch 26/1000\n",
      "4983/4983 [==============================] - 79s 16ms/step - loss: 1.1087e-04 - mae: 0.0077 - mape: 21.3096 - val_loss: 1.2685e-04 - val_mae: 0.0086 - val_mape: 1.6635\n",
      "Epoch 27/1000\n",
      "4983/4983 [==============================] - 85s 17ms/step - loss: 1.1131e-04 - mae: 0.0077 - mape: 479.5661 - val_loss: 1.4028e-04 - val_mae: 0.0093 - val_mape: 1.7856\n",
      "Epoch 28/1000\n",
      "4983/4983 [==============================] - 87s 17ms/step - loss: 1.1143e-04 - mae: 0.0078 - mape: 351.6300 - val_loss: 1.6480e-04 - val_mae: 0.0100 - val_mape: 1.9693\n",
      "Epoch 29/1000\n",
      "4983/4983 [==============================] - 78s 16ms/step - loss: 1.0969e-04 - mae: 0.0077 - mape: 53.0957 - val_loss: 1.9035e-04 - val_mae: 0.0107 - val_mape: 1.9947\n",
      "Epoch 30/1000\n",
      "4983/4983 [==============================] - 77s 15ms/step - loss: 1.0862e-04 - mae: 0.0076 - mape: 375.8254 - val_loss: 1.0812e-04 - val_mae: 0.0079 - val_mape: 1.5370\n",
      "Epoch 31/1000\n",
      "1123/4983 [=====>........................] - ETA: 50s - loss: 1.1213e-04 - mae: 0.0078 - mape: 2.8358"
     ]
    }
   ],
   "source": [
    "history = model.fit(X_train, y_train, validation_split=0.2, epochs=1000, callbacks=callbacks, batch_size=8)"
   ]
  },
  {
   "cell_type": "code",
   "execution_count": null,
   "metadata": {},
   "outputs": [],
   "source": [
    "MSE, MAE = model.evaluate(X_test, y_test)"
   ]
  },
  {
   "cell_type": "code",
   "execution_count": null,
   "metadata": {},
   "outputs": [],
   "source": [
    "import matplotlib.pyplot as plt\n",
    "plt.plot(history.epoch, history.history[\"loss\"], 'g', label='Training loss')\n",
    "plt.plot(history.epoch, history.history[\"val_loss\"], 'b', label='validation loss')\n",
    "\n",
    "plt.title('Loss')\n",
    "plt.xlabel('Epochs')\n",
    "plt.ylabel('Loss')\n",
    "plt.legend()\n",
    "plt.savefig('MSElstm.png', bbox_inches='tight')\n",
    "plt.show()"
   ]
  },
  {
   "cell_type": "code",
   "execution_count": null,
   "metadata": {},
   "outputs": [],
   "source": [
    "plt.plot(history.epoch, history.history[\"mae\"], 'g', label='Training accuracy')\n",
    "plt.plot(history.epoch, history.history[\"val_mae\"], 'b', label='Validation accuracy')\n",
    "\n",
    "plt.title('MAE')\n",
    "plt.xlabel('Epochs')\n",
    "plt.ylabel('MAE')\n",
    "plt.legend()\n",
    "plt.savefig('MAE.png', bbox_inches='tight')\n",
    "plt.show()"
   ]
  },
  {
   "cell_type": "code",
   "execution_count": null,
   "metadata": {},
   "outputs": [],
   "source": [
    "plt.plot(history.epoch, history.history[\"mape\"], 'g', label='Training accuracy')\n",
    "plt.plot(history.epoch, history.history[\"val_mape\"], 'b', label='Validation accuracy')\n",
    "\n",
    "plt.title('MAPE')\n",
    "plt.xlabel('Epochs')\n",
    "plt.ylabel('MAPE')\n",
    "plt.legend()\n",
    "plt.savefig('MAPE.png', bbox_inches='tight')\n",
    "plt.show()"
   ]
  },
  {
   "cell_type": "code",
   "execution_count": null,
   "metadata": {},
   "outputs": [],
   "source": [
    "import time\n",
    "\n",
    "for i in range (0, X_test.shape[0]):\n",
    "    demand_summary = []\n",
    "    X_input = X_test[i, :, :]\n",
    "    X_input = np.reshape(X_input, (1, X_input.shape[0], 1))\n",
    "    X_input = model.predict(X_input)\n",
    "    forecast = scaler.inverse_transform(X_input)\n",
    "\n",
    "    y_input = y_test[i,:]\n",
    "    y_input = np.reshape(y_input, (1,1))\n",
    "    actual = scaler.inverse_transform(actual)\n",
    "    \n",
    "\n",
    "    demand_summary.append(actual)\n",
    "    demand_summary.extend(forecast)\n",
    "\n",
    "    df_animate = pd.DataFrame(demand_summary)\n",
    "    df_animate = df_animate.T\n",
    "    df_animate.to_csv('real_time_demand.csv', mode='a', header=False, index=False)\n",
    "\n",
    "    print(demand_summary)\n",
    "    time.sleep(0.5)"
   ]
  }
 ],
 "metadata": {
  "kernelspec": {
   "display_name": "Python 3.9.10 64-bit",
   "language": "python",
   "name": "python3"
  },
  "language_info": {
   "codemirror_mode": {
    "name": "ipython",
    "version": 3
   },
   "file_extension": ".py",
   "mimetype": "text/x-python",
   "name": "python",
   "nbconvert_exporter": "python",
   "pygments_lexer": "ipython3",
   "version": "3.9.10"
  },
  "orig_nbformat": 4,
  "vscode": {
   "interpreter": {
    "hash": "ffd3c714bd65f30b404c0ab8fd8d53dce4eb8a25374ccb477b01f516305712f6"
   }
  }
 },
 "nbformat": 4,
 "nbformat_minor": 2
}
